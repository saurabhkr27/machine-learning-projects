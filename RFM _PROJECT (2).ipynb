{
 "cells": [
  {
   "cell_type": "markdown",
   "metadata": {},
   "source": [
    "# Project on RFM Dataset using Logistic Regression"
   ]
  },
  {
   "cell_type": "code",
   "execution_count": 1,
   "metadata": {},
   "outputs": [],
   "source": [
    "#IMPORT THE LIBRARIES\n",
    "import pandas as pd\n",
    "import numpy as np\n",
    "import matplotlib.pyplot as plt\n",
    "%matplotlib inline\n",
    "import seaborn as sns\n",
    "import os\n",
    "from pandasql import sqldf\n",
    "from datetime import datetime"
   ]
  },
  {
   "cell_type": "code",
   "execution_count": 2,
   "metadata": {},
   "outputs": [],
   "source": [
    "df= pd.read_csv(r\"\\\\\\\\RFM_Data.csv\") # reading the dataset"
   ]
  },
  {
   "cell_type": "code",
   "execution_count": 3,
   "metadata": {},
   "outputs": [
    {
     "data": {
      "text/html": [
       "<div>\n",
       "<style scoped>\n",
       "    .dataframe tbody tr th:only-of-type {\n",
       "        vertical-align: middle;\n",
       "    }\n",
       "\n",
       "    .dataframe tbody tr th {\n",
       "        vertical-align: top;\n",
       "    }\n",
       "\n",
       "    .dataframe thead th {\n",
       "        text-align: right;\n",
       "    }\n",
       "</style>\n",
       "<table border=\"1\" class=\"dataframe\">\n",
       "  <thead>\n",
       "    <tr style=\"text-align: right;\">\n",
       "      <th></th>\n",
       "      <th>RetailStore</th>\n",
       "      <th>CustomerID</th>\n",
       "      <th>TransactionID</th>\n",
       "      <th>Transaction Time</th>\n",
       "      <th>ProductID</th>\n",
       "      <th>Cost</th>\n",
       "    </tr>\n",
       "  </thead>\n",
       "  <tbody>\n",
       "    <tr>\n",
       "      <th>0</th>\n",
       "      <td>1</td>\n",
       "      <td>1001</td>\n",
       "      <td>1ID10051</td>\n",
       "      <td>1/1/2011 9:18</td>\n",
       "      <td>1</td>\n",
       "      <td>144.75</td>\n",
       "    </tr>\n",
       "    <tr>\n",
       "      <th>1</th>\n",
       "      <td>2</td>\n",
       "      <td>1002</td>\n",
       "      <td>2ID10052</td>\n",
       "      <td>1/1/2011 11:56</td>\n",
       "      <td>2</td>\n",
       "      <td>97.25</td>\n",
       "    </tr>\n",
       "    <tr>\n",
       "      <th>2</th>\n",
       "      <td>2</td>\n",
       "      <td>1002</td>\n",
       "      <td>2ID10052</td>\n",
       "      <td>1/1/2011 11:56</td>\n",
       "      <td>3</td>\n",
       "      <td>47.25</td>\n",
       "    </tr>\n",
       "    <tr>\n",
       "      <th>3</th>\n",
       "      <td>2</td>\n",
       "      <td>1002</td>\n",
       "      <td>2ID10052</td>\n",
       "      <td>1/1/2011 11:56</td>\n",
       "      <td>4</td>\n",
       "      <td>197.25</td>\n",
       "    </tr>\n",
       "    <tr>\n",
       "      <th>4</th>\n",
       "      <td>3</td>\n",
       "      <td>1003</td>\n",
       "      <td>3ID10053</td>\n",
       "      <td>1/1/2011 12:38</td>\n",
       "      <td>5</td>\n",
       "      <td>216.00</td>\n",
       "    </tr>\n",
       "  </tbody>\n",
       "</table>\n",
       "</div>"
      ],
      "text/plain": [
       "   RetailStore  CustomerID TransactionID Transaction Time  ProductID    Cost\n",
       "0            1        1001      1ID10051    1/1/2011 9:18          1  144.75\n",
       "1            2        1002      2ID10052   1/1/2011 11:56          2   97.25\n",
       "2            2        1002      2ID10052   1/1/2011 11:56          3   47.25\n",
       "3            2        1002      2ID10052   1/1/2011 11:56          4  197.25\n",
       "4            3        1003      3ID10053   1/1/2011 12:38          5  216.00"
      ]
     },
     "execution_count": 3,
     "metadata": {},
     "output_type": "execute_result"
    }
   ],
   "source": [
    "df.head()"
   ]
  },
  {
   "cell_type": "code",
   "execution_count": 4,
   "metadata": {},
   "outputs": [
    {
     "data": {
      "text/plain": [
       "RetailStore         0\n",
       "CustomerID          0\n",
       "TransactionID       0\n",
       "Transaction Time    0\n",
       "ProductID           0\n",
       "Cost                0\n",
       "dtype: int64"
      ]
     },
     "execution_count": 4,
     "metadata": {},
     "output_type": "execute_result"
    }
   ],
   "source": [
    "df.isnull().sum() # lucky enough that we are not havinh null values"
   ]
  },
  {
   "cell_type": "code",
   "execution_count": 5,
   "metadata": {},
   "outputs": [
    {
     "data": {
      "text/plain": [
       "RetailStore             5\n",
       "CustomerID          10372\n",
       "TransactionID       21767\n",
       "Transaction Time    20823\n",
       "ProductID              89\n",
       "Cost                  423\n",
       "dtype: int64"
      ]
     },
     "execution_count": 5,
     "metadata": {},
     "output_type": "execute_result"
    }
   ],
   "source": [
    "df.apply(lambda x : len(x.unique())) # by using the lambda function we were able to unique values of the attributes"
   ]
  },
  {
   "cell_type": "code",
   "execution_count": 6,
   "metadata": {},
   "outputs": [
    {
     "data": {
      "text/plain": [
       "RetailStore           int64\n",
       "CustomerID            int64\n",
       "TransactionID        object\n",
       "Transaction Time     object\n",
       "ProductID             int64\n",
       "Cost                float64\n",
       "dtype: object"
      ]
     },
     "execution_count": 6,
     "metadata": {},
     "output_type": "execute_result"
    }
   ],
   "source": [
    "df.dtypes # datatypes about the attribute of the dataset"
   ]
  },
  {
   "cell_type": "code",
   "execution_count": 7,
   "metadata": {},
   "outputs": [
    {
     "data": {
      "text/html": [
       "<div>\n",
       "<style scoped>\n",
       "    .dataframe tbody tr th:only-of-type {\n",
       "        vertical-align: middle;\n",
       "    }\n",
       "\n",
       "    .dataframe tbody tr th {\n",
       "        vertical-align: top;\n",
       "    }\n",
       "\n",
       "    .dataframe thead th {\n",
       "        text-align: right;\n",
       "    }\n",
       "</style>\n",
       "<table border=\"1\" class=\"dataframe\">\n",
       "  <thead>\n",
       "    <tr style=\"text-align: right;\">\n",
       "      <th></th>\n",
       "      <th>RetailStore</th>\n",
       "      <th>CustomerID</th>\n",
       "      <th>TransactionID</th>\n",
       "      <th>Transaction Time</th>\n",
       "      <th>ProductID</th>\n",
       "      <th>Cost</th>\n",
       "    </tr>\n",
       "  </thead>\n",
       "  <tbody>\n",
       "    <tr>\n",
       "      <th>0</th>\n",
       "      <td>1</td>\n",
       "      <td>1001</td>\n",
       "      <td>1ID10051</td>\n",
       "      <td>1/1/2011 9:18</td>\n",
       "      <td>1</td>\n",
       "      <td>144.75</td>\n",
       "    </tr>\n",
       "    <tr>\n",
       "      <th>1</th>\n",
       "      <td>2</td>\n",
       "      <td>1002</td>\n",
       "      <td>2ID10052</td>\n",
       "      <td>1/1/2011 11:56</td>\n",
       "      <td>2</td>\n",
       "      <td>97.25</td>\n",
       "    </tr>\n",
       "    <tr>\n",
       "      <th>2</th>\n",
       "      <td>2</td>\n",
       "      <td>1002</td>\n",
       "      <td>2ID10052</td>\n",
       "      <td>1/1/2011 11:56</td>\n",
       "      <td>3</td>\n",
       "      <td>47.25</td>\n",
       "    </tr>\n",
       "    <tr>\n",
       "      <th>3</th>\n",
       "      <td>2</td>\n",
       "      <td>1002</td>\n",
       "      <td>2ID10052</td>\n",
       "      <td>1/1/2011 11:56</td>\n",
       "      <td>4</td>\n",
       "      <td>197.25</td>\n",
       "    </tr>\n",
       "    <tr>\n",
       "      <th>4</th>\n",
       "      <td>3</td>\n",
       "      <td>1003</td>\n",
       "      <td>3ID10053</td>\n",
       "      <td>1/1/2011 12:38</td>\n",
       "      <td>5</td>\n",
       "      <td>216.00</td>\n",
       "    </tr>\n",
       "  </tbody>\n",
       "</table>\n",
       "</div>"
      ],
      "text/plain": [
       "   RetailStore  CustomerID TransactionID Transaction Time  ProductID    Cost\n",
       "0            1        1001      1ID10051    1/1/2011 9:18          1  144.75\n",
       "1            2        1002      2ID10052   1/1/2011 11:56          2   97.25\n",
       "2            2        1002      2ID10052   1/1/2011 11:56          3   47.25\n",
       "3            2        1002      2ID10052   1/1/2011 11:56          4  197.25\n",
       "4            3        1003      3ID10053   1/1/2011 12:38          5  216.00"
      ]
     },
     "execution_count": 7,
     "metadata": {},
     "output_type": "execute_result"
    }
   ],
   "source": [
    "df.head()"
   ]
  },
  {
   "cell_type": "code",
   "execution_count": 8,
   "metadata": {},
   "outputs": [],
   "source": [
    "df['Date'] = pd.to_datetime(df['Transaction Time'], errors='coerce') # getting another attribute called date in same format"
   ]
  },
  {
   "cell_type": "code",
   "execution_count": 9,
   "metadata": {},
   "outputs": [
    {
     "data": {
      "text/plain": [
       "0   2011-01-01 09:18:00\n",
       "1   2011-01-01 11:56:00\n",
       "2   2011-01-01 11:56:00\n",
       "Name: Date, dtype: datetime64[ns]"
      ]
     },
     "execution_count": 9,
     "metadata": {},
     "output_type": "execute_result"
    }
   ],
   "source": [
    "df.Date.head(3)"
   ]
  },
  {
   "cell_type": "code",
   "execution_count": 10,
   "metadata": {},
   "outputs": [],
   "source": [
    "df['Dates']=pd.to_datetime(df['Date'].dt.strftime('%d%m%y')) # for easy computation we fetched the dates from dates attribute"
   ]
  },
  {
   "cell_type": "code",
   "execution_count": 11,
   "metadata": {},
   "outputs": [
    {
     "data": {
      "text/html": [
       "<div>\n",
       "<style scoped>\n",
       "    .dataframe tbody tr th:only-of-type {\n",
       "        vertical-align: middle;\n",
       "    }\n",
       "\n",
       "    .dataframe tbody tr th {\n",
       "        vertical-align: top;\n",
       "    }\n",
       "\n",
       "    .dataframe thead th {\n",
       "        text-align: right;\n",
       "    }\n",
       "</style>\n",
       "<table border=\"1\" class=\"dataframe\">\n",
       "  <thead>\n",
       "    <tr style=\"text-align: right;\">\n",
       "      <th></th>\n",
       "      <th>RetailStore</th>\n",
       "      <th>CustomerID</th>\n",
       "      <th>TransactionID</th>\n",
       "      <th>Transaction Time</th>\n",
       "      <th>ProductID</th>\n",
       "      <th>Cost</th>\n",
       "      <th>Date</th>\n",
       "      <th>Dates</th>\n",
       "    </tr>\n",
       "  </thead>\n",
       "  <tbody>\n",
       "    <tr>\n",
       "      <th>56868</th>\n",
       "      <td>2</td>\n",
       "      <td>10272</td>\n",
       "      <td>2ID31814</td>\n",
       "      <td>24-03-2012 13:21</td>\n",
       "      <td>25</td>\n",
       "      <td>207.25</td>\n",
       "      <td>2012-03-24 13:21:00</td>\n",
       "      <td>2012-03-24</td>\n",
       "    </tr>\n",
       "    <tr>\n",
       "      <th>56869</th>\n",
       "      <td>5</td>\n",
       "      <td>11329</td>\n",
       "      <td>5ID31815</td>\n",
       "      <td>24-03-2012 13:04</td>\n",
       "      <td>26</td>\n",
       "      <td>274.50</td>\n",
       "      <td>2012-03-24 13:04:00</td>\n",
       "      <td>2012-03-24</td>\n",
       "    </tr>\n",
       "    <tr>\n",
       "      <th>56870</th>\n",
       "      <td>1</td>\n",
       "      <td>10469</td>\n",
       "      <td>1ID31816</td>\n",
       "      <td>24-03-2012 12:04</td>\n",
       "      <td>8</td>\n",
       "      <td>207.00</td>\n",
       "      <td>2012-03-24 12:04:00</td>\n",
       "      <td>2012-03-24</td>\n",
       "    </tr>\n",
       "    <tr>\n",
       "      <th>56871</th>\n",
       "      <td>5</td>\n",
       "      <td>11372</td>\n",
       "      <td>5ID31817</td>\n",
       "      <td>24-03-2012 14:31</td>\n",
       "      <td>31</td>\n",
       "      <td>1074.75</td>\n",
       "      <td>2012-03-24 14:31:00</td>\n",
       "      <td>2012-03-24</td>\n",
       "    </tr>\n",
       "    <tr>\n",
       "      <th>56872</th>\n",
       "      <td>5</td>\n",
       "      <td>11372</td>\n",
       "      <td>5ID31817</td>\n",
       "      <td>24-03-2012 14:31</td>\n",
       "      <td>31</td>\n",
       "      <td>1074.75</td>\n",
       "      <td>2012-03-24 14:31:00</td>\n",
       "      <td>2012-03-24</td>\n",
       "    </tr>\n",
       "  </tbody>\n",
       "</table>\n",
       "</div>"
      ],
      "text/plain": [
       "       RetailStore  CustomerID TransactionID  Transaction Time  ProductID  \\\n",
       "56868            2       10272      2ID31814  24-03-2012 13:21         25   \n",
       "56869            5       11329      5ID31815  24-03-2012 13:04         26   \n",
       "56870            1       10469      1ID31816  24-03-2012 12:04          8   \n",
       "56871            5       11372      5ID31817  24-03-2012 14:31         31   \n",
       "56872            5       11372      5ID31817  24-03-2012 14:31         31   \n",
       "\n",
       "          Cost                Date      Dates  \n",
       "56868   207.25 2012-03-24 13:21:00 2012-03-24  \n",
       "56869   274.50 2012-03-24 13:04:00 2012-03-24  \n",
       "56870   207.00 2012-03-24 12:04:00 2012-03-24  \n",
       "56871  1074.75 2012-03-24 14:31:00 2012-03-24  \n",
       "56872  1074.75 2012-03-24 14:31:00 2012-03-24  "
      ]
     },
     "execution_count": 11,
     "metadata": {},
     "output_type": "execute_result"
    }
   ],
   "source": [
    "df.tail()"
   ]
  },
  {
   "cell_type": "code",
   "execution_count": 12,
   "metadata": {},
   "outputs": [
    {
     "data": {
      "text/plain": [
       "Timestamp('2012-12-31 00:00:00')"
      ]
     },
     "execution_count": 12,
     "metadata": {},
     "output_type": "execute_result"
    }
   ],
   "source": [
    "max(df['Dates'])"
   ]
  },
  {
   "cell_type": "code",
   "execution_count": 13,
   "metadata": {},
   "outputs": [
    {
     "data": {
      "text/plain": [
       "Timestamp('2011-01-01 00:00:00')"
      ]
     },
     "execution_count": 13,
     "metadata": {},
     "output_type": "execute_result"
    }
   ],
   "source": [
    "min(df['Dates'])"
   ]
  },
  {
   "cell_type": "code",
   "execution_count": 14,
   "metadata": {},
   "outputs": [
    {
     "data": {
      "text/html": [
       "<div>\n",
       "<style scoped>\n",
       "    .dataframe tbody tr th:only-of-type {\n",
       "        vertical-align: middle;\n",
       "    }\n",
       "\n",
       "    .dataframe tbody tr th {\n",
       "        vertical-align: top;\n",
       "    }\n",
       "\n",
       "    .dataframe thead th {\n",
       "        text-align: right;\n",
       "    }\n",
       "</style>\n",
       "<table border=\"1\" class=\"dataframe\">\n",
       "  <thead>\n",
       "    <tr style=\"text-align: right;\">\n",
       "      <th></th>\n",
       "      <th>RetailStore</th>\n",
       "      <th>CustomerID</th>\n",
       "      <th>ProductID</th>\n",
       "      <th>Cost</th>\n",
       "    </tr>\n",
       "  </thead>\n",
       "  <tbody>\n",
       "    <tr>\n",
       "      <th>count</th>\n",
       "      <td>56873.000000</td>\n",
       "      <td>56873.000000</td>\n",
       "      <td>56873.000000</td>\n",
       "      <td>56873.000000</td>\n",
       "    </tr>\n",
       "    <tr>\n",
       "      <th>mean</th>\n",
       "      <td>3.146502</td>\n",
       "      <td>5644.545109</td>\n",
       "      <td>22.496193</td>\n",
       "      <td>182.641398</td>\n",
       "    </tr>\n",
       "    <tr>\n",
       "      <th>std</th>\n",
       "      <td>1.397261</td>\n",
       "      <td>2905.664431</td>\n",
       "      <td>16.440274</td>\n",
       "      <td>116.829096</td>\n",
       "    </tr>\n",
       "    <tr>\n",
       "      <th>min</th>\n",
       "      <td>1.000000</td>\n",
       "      <td>1001.000000</td>\n",
       "      <td>1.000000</td>\n",
       "      <td>0.000000</td>\n",
       "    </tr>\n",
       "    <tr>\n",
       "      <th>25%</th>\n",
       "      <td>2.000000</td>\n",
       "      <td>3056.000000</td>\n",
       "      <td>9.000000</td>\n",
       "      <td>147.250000</td>\n",
       "    </tr>\n",
       "    <tr>\n",
       "      <th>50%</th>\n",
       "      <td>3.000000</td>\n",
       "      <td>5539.000000</td>\n",
       "      <td>20.000000</td>\n",
       "      <td>197.250000</td>\n",
       "    </tr>\n",
       "    <tr>\n",
       "      <th>75%</th>\n",
       "      <td>4.000000</td>\n",
       "      <td>7995.000000</td>\n",
       "      <td>32.000000</td>\n",
       "      <td>209.500000</td>\n",
       "    </tr>\n",
       "    <tr>\n",
       "      <th>max</th>\n",
       "      <td>5.000000</td>\n",
       "      <td>11372.000000</td>\n",
       "      <td>89.000000</td>\n",
       "      <td>1812.250000</td>\n",
       "    </tr>\n",
       "  </tbody>\n",
       "</table>\n",
       "</div>"
      ],
      "text/plain": [
       "        RetailStore    CustomerID     ProductID          Cost\n",
       "count  56873.000000  56873.000000  56873.000000  56873.000000\n",
       "mean       3.146502   5644.545109     22.496193    182.641398\n",
       "std        1.397261   2905.664431     16.440274    116.829096\n",
       "min        1.000000   1001.000000      1.000000      0.000000\n",
       "25%        2.000000   3056.000000      9.000000    147.250000\n",
       "50%        3.000000   5539.000000     20.000000    197.250000\n",
       "75%        4.000000   7995.000000     32.000000    209.500000\n",
       "max        5.000000  11372.000000     89.000000   1812.250000"
      ]
     },
     "execution_count": 14,
     "metadata": {},
     "output_type": "execute_result"
    }
   ],
   "source": [
    "df.describe() # going for the description about the dataset"
   ]
  },
  {
   "cell_type": "code",
   "execution_count": 15,
   "metadata": {},
   "outputs": [
    {
     "data": {
      "text/html": [
       "<div>\n",
       "<style scoped>\n",
       "    .dataframe tbody tr th:only-of-type {\n",
       "        vertical-align: middle;\n",
       "    }\n",
       "\n",
       "    .dataframe tbody tr th {\n",
       "        vertical-align: top;\n",
       "    }\n",
       "\n",
       "    .dataframe thead th {\n",
       "        text-align: right;\n",
       "    }\n",
       "</style>\n",
       "<table border=\"1\" class=\"dataframe\">\n",
       "  <thead>\n",
       "    <tr style=\"text-align: right;\">\n",
       "      <th></th>\n",
       "      <th>RetailStore</th>\n",
       "      <th>CustomerID</th>\n",
       "      <th>TransactionID</th>\n",
       "      <th>Transaction Time</th>\n",
       "      <th>ProductID</th>\n",
       "      <th>Cost</th>\n",
       "      <th>Date</th>\n",
       "      <th>Dates</th>\n",
       "    </tr>\n",
       "  </thead>\n",
       "  <tbody>\n",
       "    <tr>\n",
       "      <th>15707</th>\n",
       "      <td>2</td>\n",
       "      <td>1222</td>\n",
       "      <td>2ID16231</td>\n",
       "      <td>12/10/2011 13:53</td>\n",
       "      <td>54</td>\n",
       "      <td>0.0</td>\n",
       "      <td>2011-12-10 13:53:00</td>\n",
       "      <td>2011-10-12</td>\n",
       "    </tr>\n",
       "    <tr>\n",
       "      <th>41953</th>\n",
       "      <td>1</td>\n",
       "      <td>9070</td>\n",
       "      <td>1ID26246</td>\n",
       "      <td>1/10/2012 9:33</td>\n",
       "      <td>54</td>\n",
       "      <td>0.0</td>\n",
       "      <td>2012-01-10 09:33:00</td>\n",
       "      <td>2012-10-01</td>\n",
       "    </tr>\n",
       "  </tbody>\n",
       "</table>\n",
       "</div>"
      ],
      "text/plain": [
       "       RetailStore  CustomerID TransactionID  Transaction Time  ProductID  \\\n",
       "15707            2        1222      2ID16231  12/10/2011 13:53         54   \n",
       "41953            1        9070      1ID26246    1/10/2012 9:33         54   \n",
       "\n",
       "       Cost                Date      Dates  \n",
       "15707   0.0 2011-12-10 13:53:00 2011-10-12  \n",
       "41953   0.0 2012-01-10 09:33:00 2012-10-01  "
      ]
     },
     "execution_count": 15,
     "metadata": {},
     "output_type": "execute_result"
    }
   ],
   "source": [
    "df.loc[(df['Cost']==0)] # two records have cost zero"
   ]
  },
  {
   "cell_type": "code",
   "execution_count": 16,
   "metadata": {},
   "outputs": [],
   "source": [
    "rfm=df.loc[(df['Cost']==0)]"
   ]
  },
  {
   "cell_type": "code",
   "execution_count": 17,
   "metadata": {},
   "outputs": [],
   "source": [
    "df.drop(rfm.index, axis=0,inplace=True)"
   ]
  },
  {
   "cell_type": "code",
   "execution_count": 18,
   "metadata": {},
   "outputs": [],
   "source": [
    "# df.loc[(df['ProductID']==54) & (df['RetailStore']==1) ]"
   ]
  },
  {
   "cell_type": "code",
   "execution_count": 19,
   "metadata": {},
   "outputs": [],
   "source": [
    "# df.loc[(df['ProductID']==54) & (df['RetailStore']==2) ]"
   ]
  },
  {
   "cell_type": "code",
   "execution_count": 20,
   "metadata": {},
   "outputs": [
    {
     "data": {
      "text/html": [
       "<div>\n",
       "<style scoped>\n",
       "    .dataframe tbody tr th:only-of-type {\n",
       "        vertical-align: middle;\n",
       "    }\n",
       "\n",
       "    .dataframe tbody tr th {\n",
       "        vertical-align: top;\n",
       "    }\n",
       "\n",
       "    .dataframe thead th {\n",
       "        text-align: right;\n",
       "    }\n",
       "</style>\n",
       "<table border=\"1\" class=\"dataframe\">\n",
       "  <thead>\n",
       "    <tr style=\"text-align: right;\">\n",
       "      <th></th>\n",
       "      <th>RetailStore</th>\n",
       "      <th>CustomerID</th>\n",
       "      <th>TransactionID</th>\n",
       "      <th>Transaction Time</th>\n",
       "      <th>ProductID</th>\n",
       "      <th>Cost</th>\n",
       "      <th>Date</th>\n",
       "      <th>Dates</th>\n",
       "    </tr>\n",
       "  </thead>\n",
       "  <tbody>\n",
       "    <tr>\n",
       "      <th>0</th>\n",
       "      <td>1</td>\n",
       "      <td>1001</td>\n",
       "      <td>1ID10051</td>\n",
       "      <td>1/1/2011 9:18</td>\n",
       "      <td>1</td>\n",
       "      <td>144.75</td>\n",
       "      <td>2011-01-01 09:18:00</td>\n",
       "      <td>2011-01-01</td>\n",
       "    </tr>\n",
       "    <tr>\n",
       "      <th>1</th>\n",
       "      <td>2</td>\n",
       "      <td>1002</td>\n",
       "      <td>2ID10052</td>\n",
       "      <td>1/1/2011 11:56</td>\n",
       "      <td>2</td>\n",
       "      <td>97.25</td>\n",
       "      <td>2011-01-01 11:56:00</td>\n",
       "      <td>2011-01-01</td>\n",
       "    </tr>\n",
       "    <tr>\n",
       "      <th>2</th>\n",
       "      <td>2</td>\n",
       "      <td>1002</td>\n",
       "      <td>2ID10052</td>\n",
       "      <td>1/1/2011 11:56</td>\n",
       "      <td>3</td>\n",
       "      <td>47.25</td>\n",
       "      <td>2011-01-01 11:56:00</td>\n",
       "      <td>2011-01-01</td>\n",
       "    </tr>\n",
       "    <tr>\n",
       "      <th>3</th>\n",
       "      <td>2</td>\n",
       "      <td>1002</td>\n",
       "      <td>2ID10052</td>\n",
       "      <td>1/1/2011 11:56</td>\n",
       "      <td>4</td>\n",
       "      <td>197.25</td>\n",
       "      <td>2011-01-01 11:56:00</td>\n",
       "      <td>2011-01-01</td>\n",
       "    </tr>\n",
       "    <tr>\n",
       "      <th>4</th>\n",
       "      <td>3</td>\n",
       "      <td>1003</td>\n",
       "      <td>3ID10053</td>\n",
       "      <td>1/1/2011 12:38</td>\n",
       "      <td>5</td>\n",
       "      <td>216.00</td>\n",
       "      <td>2011-01-01 12:38:00</td>\n",
       "      <td>2011-01-01</td>\n",
       "    </tr>\n",
       "  </tbody>\n",
       "</table>\n",
       "</div>"
      ],
      "text/plain": [
       "   RetailStore  CustomerID TransactionID Transaction Time  ProductID    Cost  \\\n",
       "0            1        1001      1ID10051    1/1/2011 9:18          1  144.75   \n",
       "1            2        1002      2ID10052   1/1/2011 11:56          2   97.25   \n",
       "2            2        1002      2ID10052   1/1/2011 11:56          3   47.25   \n",
       "3            2        1002      2ID10052   1/1/2011 11:56          4  197.25   \n",
       "4            3        1003      3ID10053   1/1/2011 12:38          5  216.00   \n",
       "\n",
       "                 Date      Dates  \n",
       "0 2011-01-01 09:18:00 2011-01-01  \n",
       "1 2011-01-01 11:56:00 2011-01-01  \n",
       "2 2011-01-01 11:56:00 2011-01-01  \n",
       "3 2011-01-01 11:56:00 2011-01-01  \n",
       "4 2011-01-01 12:38:00 2011-01-01  "
      ]
     },
     "execution_count": 20,
     "metadata": {},
     "output_type": "execute_result"
    }
   ],
   "source": [
    "df.head()"
   ]
  },
  {
   "cell_type": "code",
   "execution_count": 21,
   "metadata": {},
   "outputs": [
    {
     "data": {
      "text/plain": [
       "(56871, 8)"
      ]
     },
     "execution_count": 21,
     "metadata": {},
     "output_type": "execute_result"
    }
   ],
   "source": [
    "df.shape # there are around 56k transactions done in the retail mart in 2011 and 2012"
   ]
  },
  {
   "cell_type": "code",
   "execution_count": 22,
   "metadata": {},
   "outputs": [
    {
     "name": "stdout",
     "output_type": "stream",
     "text": [
      "Entres duplicate: 5266\n"
     ]
    }
   ],
   "source": [
    "print('Entres duplicate: {}'.format(df.duplicated().sum())) #5266 duplicate records"
   ]
  },
  {
   "cell_type": "code",
   "execution_count": 23,
   "metadata": {},
   "outputs": [],
   "source": [
    "df.drop_duplicates(inplace = True) #deleting thr duplicate entries"
   ]
  },
  {
   "cell_type": "code",
   "execution_count": 24,
   "metadata": {},
   "outputs": [
    {
     "name": "stdout",
     "output_type": "stream",
     "text": [
      "Entres duplicate: 0\n"
     ]
    }
   ],
   "source": [
    "print('Entres duplicate: {}'.format(df.duplicated().sum()))"
   ]
  },
  {
   "cell_type": "code",
   "execution_count": 25,
   "metadata": {},
   "outputs": [],
   "source": [
    "#df.drop(df,axis=1,inplace=True,columns='Transaction Time')\n",
    "del df['Transaction Time']\n",
    "del df['Date']"
   ]
  },
  {
   "cell_type": "code",
   "execution_count": 26,
   "metadata": {},
   "outputs": [],
   "source": [
    "dependent=df[df['Dates'] >= \"2012-10-01\"]"
   ]
  },
  {
   "cell_type": "code",
   "execution_count": 27,
   "metadata": {},
   "outputs": [],
   "source": [
    "independent=df[df['Dates']<\"2012-10-01\"]"
   ]
  },
  {
   "cell_type": "code",
   "execution_count": 28,
   "metadata": {},
   "outputs": [
    {
     "data": {
      "text/plain": [
       "(7280, 6)"
      ]
     },
     "execution_count": 28,
     "metadata": {},
     "output_type": "execute_result"
    }
   ],
   "source": [
    "dependent.shape"
   ]
  },
  {
   "cell_type": "code",
   "execution_count": 29,
   "metadata": {},
   "outputs": [
    {
     "data": {
      "text/plain": [
       "(44254, 6)"
      ]
     },
     "execution_count": 29,
     "metadata": {},
     "output_type": "execute_result"
    }
   ],
   "source": [
    "independent.shape"
   ]
  },
  {
   "cell_type": "code",
   "execution_count": 30,
   "metadata": {},
   "outputs": [],
   "source": [
    "rfm=independent.groupby('CustomerID').agg({'Dates': lambda dates: (independent.Dates.max() - dates.max()).days, 'TransactionID': lambda num: len(num), 'Cost': lambda price: price.sum()})\n",
    "# creating new columns from the existing columns"
   ]
  },
  {
   "cell_type": "code",
   "execution_count": 31,
   "metadata": {},
   "outputs": [
    {
     "data": {
      "text/plain": [
       "Index(['Dates', 'TransactionID', 'Cost'], dtype='object')"
      ]
     },
     "execution_count": 31,
     "metadata": {},
     "output_type": "execute_result"
    }
   ],
   "source": [
    "rfm.columns"
   ]
  },
  {
   "cell_type": "code",
   "execution_count": 32,
   "metadata": {},
   "outputs": [],
   "source": [
    "rfm.columns=['recency','frequency','monetary']"
   ]
  },
  {
   "cell_type": "code",
   "execution_count": 33,
   "metadata": {},
   "outputs": [
    {
     "data": {
      "text/html": [
       "<div>\n",
       "<style scoped>\n",
       "    .dataframe tbody tr th:only-of-type {\n",
       "        vertical-align: middle;\n",
       "    }\n",
       "\n",
       "    .dataframe tbody tr th {\n",
       "        vertical-align: top;\n",
       "    }\n",
       "\n",
       "    .dataframe thead th {\n",
       "        text-align: right;\n",
       "    }\n",
       "</style>\n",
       "<table border=\"1\" class=\"dataframe\">\n",
       "  <thead>\n",
       "    <tr style=\"text-align: right;\">\n",
       "      <th></th>\n",
       "      <th>recency</th>\n",
       "      <th>frequency</th>\n",
       "      <th>monetary</th>\n",
       "    </tr>\n",
       "    <tr>\n",
       "      <th>CustomerID</th>\n",
       "      <th></th>\n",
       "      <th></th>\n",
       "      <th></th>\n",
       "    </tr>\n",
       "  </thead>\n",
       "  <tbody>\n",
       "    <tr>\n",
       "      <th>1001</th>\n",
       "      <td>638</td>\n",
       "      <td>1</td>\n",
       "      <td>144.75</td>\n",
       "    </tr>\n",
       "    <tr>\n",
       "      <th>1002</th>\n",
       "      <td>184</td>\n",
       "      <td>16</td>\n",
       "      <td>2162.75</td>\n",
       "    </tr>\n",
       "    <tr>\n",
       "      <th>1003</th>\n",
       "      <td>638</td>\n",
       "      <td>2</td>\n",
       "      <td>353.25</td>\n",
       "    </tr>\n",
       "    <tr>\n",
       "      <th>1004</th>\n",
       "      <td>196</td>\n",
       "      <td>13</td>\n",
       "      <td>2673.50</td>\n",
       "    </tr>\n",
       "    <tr>\n",
       "      <th>1005</th>\n",
       "      <td>638</td>\n",
       "      <td>1</td>\n",
       "      <td>147.25</td>\n",
       "    </tr>\n",
       "  </tbody>\n",
       "</table>\n",
       "</div>"
      ],
      "text/plain": [
       "            recency  frequency  monetary\n",
       "CustomerID                              \n",
       "1001            638          1    144.75\n",
       "1002            184         16   2162.75\n",
       "1003            638          2    353.25\n",
       "1004            196         13   2673.50\n",
       "1005            638          1    147.25"
      ]
     },
     "execution_count": 33,
     "metadata": {},
     "output_type": "execute_result"
    }
   ],
   "source": [
    "rfm.head()"
   ]
  },
  {
   "cell_type": "code",
   "execution_count": 34,
   "metadata": {},
   "outputs": [
    {
     "data": {
      "text/html": [
       "<div>\n",
       "<style scoped>\n",
       "    .dataframe tbody tr th:only-of-type {\n",
       "        vertical-align: middle;\n",
       "    }\n",
       "\n",
       "    .dataframe tbody tr th {\n",
       "        vertical-align: top;\n",
       "    }\n",
       "\n",
       "    .dataframe thead th {\n",
       "        text-align: right;\n",
       "    }\n",
       "</style>\n",
       "<table border=\"1\" class=\"dataframe\">\n",
       "  <thead>\n",
       "    <tr style=\"text-align: right;\">\n",
       "      <th></th>\n",
       "      <th>recency</th>\n",
       "      <th>frequency</th>\n",
       "      <th>monetary</th>\n",
       "    </tr>\n",
       "  </thead>\n",
       "  <tbody>\n",
       "    <tr>\n",
       "      <th>count</th>\n",
       "      <td>9304.000000</td>\n",
       "      <td>9304.000000</td>\n",
       "      <td>9304.000000</td>\n",
       "    </tr>\n",
       "    <tr>\n",
       "      <th>mean</th>\n",
       "      <td>259.594475</td>\n",
       "      <td>4.756449</td>\n",
       "      <td>859.542267</td>\n",
       "    </tr>\n",
       "    <tr>\n",
       "      <th>std</th>\n",
       "      <td>177.249889</td>\n",
       "      <td>7.089439</td>\n",
       "      <td>1254.514064</td>\n",
       "    </tr>\n",
       "    <tr>\n",
       "      <th>min</th>\n",
       "      <td>0.000000</td>\n",
       "      <td>1.000000</td>\n",
       "      <td>32.250000</td>\n",
       "    </tr>\n",
       "    <tr>\n",
       "      <th>25%</th>\n",
       "      <td>116.000000</td>\n",
       "      <td>2.000000</td>\n",
       "      <td>314.500000</td>\n",
       "    </tr>\n",
       "    <tr>\n",
       "      <th>50%</th>\n",
       "      <td>226.000000</td>\n",
       "      <td>3.000000</td>\n",
       "      <td>520.250000</td>\n",
       "    </tr>\n",
       "    <tr>\n",
       "      <th>75%</th>\n",
       "      <td>397.000000</td>\n",
       "      <td>5.000000</td>\n",
       "      <td>925.812500</td>\n",
       "    </tr>\n",
       "    <tr>\n",
       "      <th>max</th>\n",
       "      <td>638.000000</td>\n",
       "      <td>206.000000</td>\n",
       "      <td>31196.250000</td>\n",
       "    </tr>\n",
       "  </tbody>\n",
       "</table>\n",
       "</div>"
      ],
      "text/plain": [
       "           recency    frequency      monetary\n",
       "count  9304.000000  9304.000000   9304.000000\n",
       "mean    259.594475     4.756449    859.542267\n",
       "std     177.249889     7.089439   1254.514064\n",
       "min       0.000000     1.000000     32.250000\n",
       "25%     116.000000     2.000000    314.500000\n",
       "50%     226.000000     3.000000    520.250000\n",
       "75%     397.000000     5.000000    925.812500\n",
       "max     638.000000   206.000000  31196.250000"
      ]
     },
     "execution_count": 34,
     "metadata": {},
     "output_type": "execute_result"
    }
   ],
   "source": [
    "rfm.describe()"
   ]
  },
  {
   "cell_type": "code",
   "execution_count": 35,
   "metadata": {},
   "outputs": [],
   "source": [
    "rfm['6months']=pd.pivot_table(independent[independent['Dates'] >= \"2012-04-01\"], index = 'CustomerID',  aggfunc = {'TransactionID':'count'})"
   ]
  },
  {
   "cell_type": "code",
   "execution_count": 36,
   "metadata": {},
   "outputs": [
    {
     "data": {
      "text/html": [
       "<div>\n",
       "<style scoped>\n",
       "    .dataframe tbody tr th:only-of-type {\n",
       "        vertical-align: middle;\n",
       "    }\n",
       "\n",
       "    .dataframe tbody tr th {\n",
       "        vertical-align: top;\n",
       "    }\n",
       "\n",
       "    .dataframe thead th {\n",
       "        text-align: right;\n",
       "    }\n",
       "</style>\n",
       "<table border=\"1\" class=\"dataframe\">\n",
       "  <thead>\n",
       "    <tr style=\"text-align: right;\">\n",
       "      <th></th>\n",
       "      <th>recency</th>\n",
       "      <th>frequency</th>\n",
       "      <th>monetary</th>\n",
       "      <th>6months</th>\n",
       "    </tr>\n",
       "    <tr>\n",
       "      <th>CustomerID</th>\n",
       "      <th></th>\n",
       "      <th></th>\n",
       "      <th></th>\n",
       "      <th></th>\n",
       "    </tr>\n",
       "  </thead>\n",
       "  <tbody>\n",
       "    <tr>\n",
       "      <th>1001</th>\n",
       "      <td>638</td>\n",
       "      <td>1</td>\n",
       "      <td>144.75</td>\n",
       "      <td>NaN</td>\n",
       "    </tr>\n",
       "    <tr>\n",
       "      <th>1002</th>\n",
       "      <td>184</td>\n",
       "      <td>16</td>\n",
       "      <td>2162.75</td>\n",
       "      <td>NaN</td>\n",
       "    </tr>\n",
       "    <tr>\n",
       "      <th>1003</th>\n",
       "      <td>638</td>\n",
       "      <td>2</td>\n",
       "      <td>353.25</td>\n",
       "      <td>NaN</td>\n",
       "    </tr>\n",
       "    <tr>\n",
       "      <th>1004</th>\n",
       "      <td>196</td>\n",
       "      <td>13</td>\n",
       "      <td>2673.50</td>\n",
       "      <td>NaN</td>\n",
       "    </tr>\n",
       "    <tr>\n",
       "      <th>1005</th>\n",
       "      <td>638</td>\n",
       "      <td>1</td>\n",
       "      <td>147.25</td>\n",
       "      <td>NaN</td>\n",
       "    </tr>\n",
       "    <tr>\n",
       "      <th>1006</th>\n",
       "      <td>638</td>\n",
       "      <td>5</td>\n",
       "      <td>838.00</td>\n",
       "      <td>NaN</td>\n",
       "    </tr>\n",
       "    <tr>\n",
       "      <th>1007</th>\n",
       "      <td>635</td>\n",
       "      <td>2</td>\n",
       "      <td>432.00</td>\n",
       "      <td>NaN</td>\n",
       "    </tr>\n",
       "    <tr>\n",
       "      <th>1008</th>\n",
       "      <td>638</td>\n",
       "      <td>2</td>\n",
       "      <td>344.50</td>\n",
       "      <td>NaN</td>\n",
       "    </tr>\n",
       "    <tr>\n",
       "      <th>1009</th>\n",
       "      <td>638</td>\n",
       "      <td>2</td>\n",
       "      <td>394.50</td>\n",
       "      <td>NaN</td>\n",
       "    </tr>\n",
       "    <tr>\n",
       "      <th>1010</th>\n",
       "      <td>637</td>\n",
       "      <td>3</td>\n",
       "      <td>514.00</td>\n",
       "      <td>NaN</td>\n",
       "    </tr>\n",
       "  </tbody>\n",
       "</table>\n",
       "</div>"
      ],
      "text/plain": [
       "            recency  frequency  monetary  6months\n",
       "CustomerID                                       \n",
       "1001            638          1    144.75      NaN\n",
       "1002            184         16   2162.75      NaN\n",
       "1003            638          2    353.25      NaN\n",
       "1004            196         13   2673.50      NaN\n",
       "1005            638          1    147.25      NaN\n",
       "1006            638          5    838.00      NaN\n",
       "1007            635          2    432.00      NaN\n",
       "1008            638          2    344.50      NaN\n",
       "1009            638          2    394.50      NaN\n",
       "1010            637          3    514.00      NaN"
      ]
     },
     "execution_count": 36,
     "metadata": {},
     "output_type": "execute_result"
    }
   ],
   "source": [
    "rfm.head(10)"
   ]
  },
  {
   "cell_type": "code",
   "execution_count": 37,
   "metadata": {},
   "outputs": [],
   "source": [
    "rfm['1year']=pd.pivot_table(independent[independent['Dates'] >= \"2011-09-01\"], index = 'CustomerID',  aggfunc = {'TransactionID':'count'})"
   ]
  },
  {
   "cell_type": "code",
   "execution_count": 38,
   "metadata": {},
   "outputs": [],
   "source": [
    "rfm['1.5year']=pd.pivot_table(independent[independent['Dates'] >= \"2011-04-01\"], index = 'CustomerID',  aggfunc = {'TransactionID':'count'})"
   ]
  },
  {
   "cell_type": "code",
   "execution_count": 39,
   "metadata": {},
   "outputs": [
    {
     "data": {
      "text/html": [
       "<div>\n",
       "<style scoped>\n",
       "    .dataframe tbody tr th:only-of-type {\n",
       "        vertical-align: middle;\n",
       "    }\n",
       "\n",
       "    .dataframe tbody tr th {\n",
       "        vertical-align: top;\n",
       "    }\n",
       "\n",
       "    .dataframe thead th {\n",
       "        text-align: right;\n",
       "    }\n",
       "</style>\n",
       "<table border=\"1\" class=\"dataframe\">\n",
       "  <thead>\n",
       "    <tr style=\"text-align: right;\">\n",
       "      <th></th>\n",
       "      <th>recency</th>\n",
       "      <th>frequency</th>\n",
       "      <th>monetary</th>\n",
       "      <th>6months</th>\n",
       "      <th>1year</th>\n",
       "      <th>1.5year</th>\n",
       "    </tr>\n",
       "    <tr>\n",
       "      <th>CustomerID</th>\n",
       "      <th></th>\n",
       "      <th></th>\n",
       "      <th></th>\n",
       "      <th></th>\n",
       "      <th></th>\n",
       "      <th></th>\n",
       "    </tr>\n",
       "  </thead>\n",
       "  <tbody>\n",
       "    <tr>\n",
       "      <th>1001</th>\n",
       "      <td>638</td>\n",
       "      <td>1</td>\n",
       "      <td>144.75</td>\n",
       "      <td>NaN</td>\n",
       "      <td>NaN</td>\n",
       "      <td>NaN</td>\n",
       "    </tr>\n",
       "    <tr>\n",
       "      <th>1002</th>\n",
       "      <td>184</td>\n",
       "      <td>16</td>\n",
       "      <td>2162.75</td>\n",
       "      <td>NaN</td>\n",
       "      <td>7.0</td>\n",
       "      <td>7.0</td>\n",
       "    </tr>\n",
       "    <tr>\n",
       "      <th>1003</th>\n",
       "      <td>638</td>\n",
       "      <td>2</td>\n",
       "      <td>353.25</td>\n",
       "      <td>NaN</td>\n",
       "      <td>NaN</td>\n",
       "      <td>NaN</td>\n",
       "    </tr>\n",
       "    <tr>\n",
       "      <th>1004</th>\n",
       "      <td>196</td>\n",
       "      <td>13</td>\n",
       "      <td>2673.50</td>\n",
       "      <td>NaN</td>\n",
       "      <td>5.0</td>\n",
       "      <td>7.0</td>\n",
       "    </tr>\n",
       "    <tr>\n",
       "      <th>1005</th>\n",
       "      <td>638</td>\n",
       "      <td>1</td>\n",
       "      <td>147.25</td>\n",
       "      <td>NaN</td>\n",
       "      <td>NaN</td>\n",
       "      <td>NaN</td>\n",
       "    </tr>\n",
       "    <tr>\n",
       "      <th>1006</th>\n",
       "      <td>638</td>\n",
       "      <td>5</td>\n",
       "      <td>838.00</td>\n",
       "      <td>NaN</td>\n",
       "      <td>NaN</td>\n",
       "      <td>NaN</td>\n",
       "    </tr>\n",
       "    <tr>\n",
       "      <th>1007</th>\n",
       "      <td>635</td>\n",
       "      <td>2</td>\n",
       "      <td>432.00</td>\n",
       "      <td>NaN</td>\n",
       "      <td>NaN</td>\n",
       "      <td>NaN</td>\n",
       "    </tr>\n",
       "    <tr>\n",
       "      <th>1008</th>\n",
       "      <td>638</td>\n",
       "      <td>2</td>\n",
       "      <td>344.50</td>\n",
       "      <td>NaN</td>\n",
       "      <td>NaN</td>\n",
       "      <td>NaN</td>\n",
       "    </tr>\n",
       "    <tr>\n",
       "      <th>1009</th>\n",
       "      <td>638</td>\n",
       "      <td>2</td>\n",
       "      <td>394.50</td>\n",
       "      <td>NaN</td>\n",
       "      <td>NaN</td>\n",
       "      <td>NaN</td>\n",
       "    </tr>\n",
       "    <tr>\n",
       "      <th>1010</th>\n",
       "      <td>637</td>\n",
       "      <td>3</td>\n",
       "      <td>514.00</td>\n",
       "      <td>NaN</td>\n",
       "      <td>NaN</td>\n",
       "      <td>NaN</td>\n",
       "    </tr>\n",
       "  </tbody>\n",
       "</table>\n",
       "</div>"
      ],
      "text/plain": [
       "            recency  frequency  monetary  6months  1year  1.5year\n",
       "CustomerID                                                       \n",
       "1001            638          1    144.75      NaN    NaN      NaN\n",
       "1002            184         16   2162.75      NaN    7.0      7.0\n",
       "1003            638          2    353.25      NaN    NaN      NaN\n",
       "1004            196         13   2673.50      NaN    5.0      7.0\n",
       "1005            638          1    147.25      NaN    NaN      NaN\n",
       "1006            638          5    838.00      NaN    NaN      NaN\n",
       "1007            635          2    432.00      NaN    NaN      NaN\n",
       "1008            638          2    344.50      NaN    NaN      NaN\n",
       "1009            638          2    394.50      NaN    NaN      NaN\n",
       "1010            637          3    514.00      NaN    NaN      NaN"
      ]
     },
     "execution_count": 39,
     "metadata": {},
     "output_type": "execute_result"
    }
   ],
   "source": [
    "rfm.head(10)"
   ]
  },
  {
   "cell_type": "code",
   "execution_count": 40,
   "metadata": {},
   "outputs": [
    {
     "data": {
      "text/html": [
       "<div>\n",
       "<style scoped>\n",
       "    .dataframe tbody tr th:only-of-type {\n",
       "        vertical-align: middle;\n",
       "    }\n",
       "\n",
       "    .dataframe tbody tr th {\n",
       "        vertical-align: top;\n",
       "    }\n",
       "\n",
       "    .dataframe thead th {\n",
       "        text-align: right;\n",
       "    }\n",
       "</style>\n",
       "<table border=\"1\" class=\"dataframe\">\n",
       "  <thead>\n",
       "    <tr style=\"text-align: right;\">\n",
       "      <th></th>\n",
       "      <th>recency</th>\n",
       "      <th>frequency</th>\n",
       "      <th>monetary</th>\n",
       "      <th>6months</th>\n",
       "      <th>1year</th>\n",
       "      <th>1.5year</th>\n",
       "    </tr>\n",
       "    <tr>\n",
       "      <th>CustomerID</th>\n",
       "      <th></th>\n",
       "      <th></th>\n",
       "      <th></th>\n",
       "      <th></th>\n",
       "      <th></th>\n",
       "      <th></th>\n",
       "    </tr>\n",
       "  </thead>\n",
       "  <tbody>\n",
       "    <tr>\n",
       "      <th>1001</th>\n",
       "      <td>638</td>\n",
       "      <td>1</td>\n",
       "      <td>144.75</td>\n",
       "      <td>NaN</td>\n",
       "      <td>NaN</td>\n",
       "      <td>NaN</td>\n",
       "    </tr>\n",
       "    <tr>\n",
       "      <th>1002</th>\n",
       "      <td>184</td>\n",
       "      <td>16</td>\n",
       "      <td>2162.75</td>\n",
       "      <td>NaN</td>\n",
       "      <td>7.0</td>\n",
       "      <td>7.0</td>\n",
       "    </tr>\n",
       "    <tr>\n",
       "      <th>1003</th>\n",
       "      <td>638</td>\n",
       "      <td>2</td>\n",
       "      <td>353.25</td>\n",
       "      <td>NaN</td>\n",
       "      <td>NaN</td>\n",
       "      <td>NaN</td>\n",
       "    </tr>\n",
       "    <tr>\n",
       "      <th>1004</th>\n",
       "      <td>196</td>\n",
       "      <td>13</td>\n",
       "      <td>2673.50</td>\n",
       "      <td>NaN</td>\n",
       "      <td>5.0</td>\n",
       "      <td>7.0</td>\n",
       "    </tr>\n",
       "    <tr>\n",
       "      <th>1005</th>\n",
       "      <td>638</td>\n",
       "      <td>1</td>\n",
       "      <td>147.25</td>\n",
       "      <td>NaN</td>\n",
       "      <td>NaN</td>\n",
       "      <td>NaN</td>\n",
       "    </tr>\n",
       "    <tr>\n",
       "      <th>1006</th>\n",
       "      <td>638</td>\n",
       "      <td>5</td>\n",
       "      <td>838.00</td>\n",
       "      <td>NaN</td>\n",
       "      <td>NaN</td>\n",
       "      <td>NaN</td>\n",
       "    </tr>\n",
       "    <tr>\n",
       "      <th>1007</th>\n",
       "      <td>635</td>\n",
       "      <td>2</td>\n",
       "      <td>432.00</td>\n",
       "      <td>NaN</td>\n",
       "      <td>NaN</td>\n",
       "      <td>NaN</td>\n",
       "    </tr>\n",
       "    <tr>\n",
       "      <th>1008</th>\n",
       "      <td>638</td>\n",
       "      <td>2</td>\n",
       "      <td>344.50</td>\n",
       "      <td>NaN</td>\n",
       "      <td>NaN</td>\n",
       "      <td>NaN</td>\n",
       "    </tr>\n",
       "    <tr>\n",
       "      <th>1009</th>\n",
       "      <td>638</td>\n",
       "      <td>2</td>\n",
       "      <td>394.50</td>\n",
       "      <td>NaN</td>\n",
       "      <td>NaN</td>\n",
       "      <td>NaN</td>\n",
       "    </tr>\n",
       "    <tr>\n",
       "      <th>1010</th>\n",
       "      <td>637</td>\n",
       "      <td>3</td>\n",
       "      <td>514.00</td>\n",
       "      <td>NaN</td>\n",
       "      <td>NaN</td>\n",
       "      <td>NaN</td>\n",
       "    </tr>\n",
       "  </tbody>\n",
       "</table>\n",
       "</div>"
      ],
      "text/plain": [
       "            recency  frequency  monetary  6months  1year  1.5year\n",
       "CustomerID                                                       \n",
       "1001            638          1    144.75      NaN    NaN      NaN\n",
       "1002            184         16   2162.75      NaN    7.0      7.0\n",
       "1003            638          2    353.25      NaN    NaN      NaN\n",
       "1004            196         13   2673.50      NaN    5.0      7.0\n",
       "1005            638          1    147.25      NaN    NaN      NaN\n",
       "1006            638          5    838.00      NaN    NaN      NaN\n",
       "1007            635          2    432.00      NaN    NaN      NaN\n",
       "1008            638          2    344.50      NaN    NaN      NaN\n",
       "1009            638          2    394.50      NaN    NaN      NaN\n",
       "1010            637          3    514.00      NaN    NaN      NaN"
      ]
     },
     "execution_count": 40,
     "metadata": {},
     "output_type": "execute_result"
    }
   ],
   "source": [
    "rfm.head(10)"
   ]
  },
  {
   "cell_type": "code",
   "execution_count": 41,
   "metadata": {},
   "outputs": [],
   "source": [
    "rfm['6monthscost']=pd.pivot_table(independent[independent['Dates'] >= \"2012-04-01\"], index = 'CustomerID',  aggfunc = {'Cost':'sum'})"
   ]
  },
  {
   "cell_type": "code",
   "execution_count": 42,
   "metadata": {},
   "outputs": [],
   "source": [
    "rfm['1yearcost']=pd.pivot_table(independent[independent['Dates'] >= \"2011-09-01\"], index = 'CustomerID',  aggfunc = {'Cost':'sum'})"
   ]
  },
  {
   "cell_type": "code",
   "execution_count": 43,
   "metadata": {},
   "outputs": [],
   "source": [
    "rfm['1.5yearcost']=pd.pivot_table(independent[independent['Dates'] >= \"2011-04-01\"], index = 'CustomerID',  aggfunc = {'Cost':'sum'})"
   ]
  },
  {
   "cell_type": "code",
   "execution_count": 44,
   "metadata": {},
   "outputs": [
    {
     "data": {
      "text/html": [
       "<div>\n",
       "<style scoped>\n",
       "    .dataframe tbody tr th:only-of-type {\n",
       "        vertical-align: middle;\n",
       "    }\n",
       "\n",
       "    .dataframe tbody tr th {\n",
       "        vertical-align: top;\n",
       "    }\n",
       "\n",
       "    .dataframe thead th {\n",
       "        text-align: right;\n",
       "    }\n",
       "</style>\n",
       "<table border=\"1\" class=\"dataframe\">\n",
       "  <thead>\n",
       "    <tr style=\"text-align: right;\">\n",
       "      <th></th>\n",
       "      <th>recency</th>\n",
       "      <th>frequency</th>\n",
       "      <th>monetary</th>\n",
       "      <th>6months</th>\n",
       "      <th>1year</th>\n",
       "      <th>1.5year</th>\n",
       "      <th>6monthscost</th>\n",
       "      <th>1yearcost</th>\n",
       "      <th>1.5yearcost</th>\n",
       "    </tr>\n",
       "    <tr>\n",
       "      <th>CustomerID</th>\n",
       "      <th></th>\n",
       "      <th></th>\n",
       "      <th></th>\n",
       "      <th></th>\n",
       "      <th></th>\n",
       "      <th></th>\n",
       "      <th></th>\n",
       "      <th></th>\n",
       "      <th></th>\n",
       "    </tr>\n",
       "  </thead>\n",
       "  <tbody>\n",
       "    <tr>\n",
       "      <th>1001</th>\n",
       "      <td>638</td>\n",
       "      <td>1</td>\n",
       "      <td>144.75</td>\n",
       "      <td>NaN</td>\n",
       "      <td>NaN</td>\n",
       "      <td>NaN</td>\n",
       "      <td>NaN</td>\n",
       "      <td>NaN</td>\n",
       "      <td>NaN</td>\n",
       "    </tr>\n",
       "    <tr>\n",
       "      <th>1002</th>\n",
       "      <td>184</td>\n",
       "      <td>16</td>\n",
       "      <td>2162.75</td>\n",
       "      <td>NaN</td>\n",
       "      <td>7.0</td>\n",
       "      <td>7.0</td>\n",
       "      <td>NaN</td>\n",
       "      <td>1100.25</td>\n",
       "      <td>1100.25</td>\n",
       "    </tr>\n",
       "    <tr>\n",
       "      <th>1003</th>\n",
       "      <td>638</td>\n",
       "      <td>2</td>\n",
       "      <td>353.25</td>\n",
       "      <td>NaN</td>\n",
       "      <td>NaN</td>\n",
       "      <td>NaN</td>\n",
       "      <td>NaN</td>\n",
       "      <td>NaN</td>\n",
       "      <td>NaN</td>\n",
       "    </tr>\n",
       "    <tr>\n",
       "      <th>1004</th>\n",
       "      <td>196</td>\n",
       "      <td>13</td>\n",
       "      <td>2673.50</td>\n",
       "      <td>NaN</td>\n",
       "      <td>5.0</td>\n",
       "      <td>7.0</td>\n",
       "      <td>NaN</td>\n",
       "      <td>1035.00</td>\n",
       "      <td>1429.00</td>\n",
       "    </tr>\n",
       "    <tr>\n",
       "      <th>1005</th>\n",
       "      <td>638</td>\n",
       "      <td>1</td>\n",
       "      <td>147.25</td>\n",
       "      <td>NaN</td>\n",
       "      <td>NaN</td>\n",
       "      <td>NaN</td>\n",
       "      <td>NaN</td>\n",
       "      <td>NaN</td>\n",
       "      <td>NaN</td>\n",
       "    </tr>\n",
       "    <tr>\n",
       "      <th>1006</th>\n",
       "      <td>638</td>\n",
       "      <td>5</td>\n",
       "      <td>838.00</td>\n",
       "      <td>NaN</td>\n",
       "      <td>NaN</td>\n",
       "      <td>NaN</td>\n",
       "      <td>NaN</td>\n",
       "      <td>NaN</td>\n",
       "      <td>NaN</td>\n",
       "    </tr>\n",
       "    <tr>\n",
       "      <th>1007</th>\n",
       "      <td>635</td>\n",
       "      <td>2</td>\n",
       "      <td>432.00</td>\n",
       "      <td>NaN</td>\n",
       "      <td>NaN</td>\n",
       "      <td>NaN</td>\n",
       "      <td>NaN</td>\n",
       "      <td>NaN</td>\n",
       "      <td>NaN</td>\n",
       "    </tr>\n",
       "    <tr>\n",
       "      <th>1008</th>\n",
       "      <td>638</td>\n",
       "      <td>2</td>\n",
       "      <td>344.50</td>\n",
       "      <td>NaN</td>\n",
       "      <td>NaN</td>\n",
       "      <td>NaN</td>\n",
       "      <td>NaN</td>\n",
       "      <td>NaN</td>\n",
       "      <td>NaN</td>\n",
       "    </tr>\n",
       "    <tr>\n",
       "      <th>1009</th>\n",
       "      <td>638</td>\n",
       "      <td>2</td>\n",
       "      <td>394.50</td>\n",
       "      <td>NaN</td>\n",
       "      <td>NaN</td>\n",
       "      <td>NaN</td>\n",
       "      <td>NaN</td>\n",
       "      <td>NaN</td>\n",
       "      <td>NaN</td>\n",
       "    </tr>\n",
       "    <tr>\n",
       "      <th>1010</th>\n",
       "      <td>637</td>\n",
       "      <td>3</td>\n",
       "      <td>514.00</td>\n",
       "      <td>NaN</td>\n",
       "      <td>NaN</td>\n",
       "      <td>NaN</td>\n",
       "      <td>NaN</td>\n",
       "      <td>NaN</td>\n",
       "      <td>NaN</td>\n",
       "    </tr>\n",
       "  </tbody>\n",
       "</table>\n",
       "</div>"
      ],
      "text/plain": [
       "            recency  frequency  monetary  6months  1year  1.5year  \\\n",
       "CustomerID                                                          \n",
       "1001            638          1    144.75      NaN    NaN      NaN   \n",
       "1002            184         16   2162.75      NaN    7.0      7.0   \n",
       "1003            638          2    353.25      NaN    NaN      NaN   \n",
       "1004            196         13   2673.50      NaN    5.0      7.0   \n",
       "1005            638          1    147.25      NaN    NaN      NaN   \n",
       "1006            638          5    838.00      NaN    NaN      NaN   \n",
       "1007            635          2    432.00      NaN    NaN      NaN   \n",
       "1008            638          2    344.50      NaN    NaN      NaN   \n",
       "1009            638          2    394.50      NaN    NaN      NaN   \n",
       "1010            637          3    514.00      NaN    NaN      NaN   \n",
       "\n",
       "            6monthscost  1yearcost  1.5yearcost  \n",
       "CustomerID                                       \n",
       "1001                NaN        NaN          NaN  \n",
       "1002                NaN    1100.25      1100.25  \n",
       "1003                NaN        NaN          NaN  \n",
       "1004                NaN    1035.00      1429.00  \n",
       "1005                NaN        NaN          NaN  \n",
       "1006                NaN        NaN          NaN  \n",
       "1007                NaN        NaN          NaN  \n",
       "1008                NaN        NaN          NaN  \n",
       "1009                NaN        NaN          NaN  \n",
       "1010                NaN        NaN          NaN  "
      ]
     },
     "execution_count": 44,
     "metadata": {},
     "output_type": "execute_result"
    }
   ],
   "source": [
    "rfm.head(10)"
   ]
  },
  {
   "cell_type": "code",
   "execution_count": 45,
   "metadata": {},
   "outputs": [],
   "source": [
    "rfm.replace(np.NAN,0,inplace=True) # replacing the null values with 0"
   ]
  },
  {
   "cell_type": "code",
   "execution_count": 46,
   "metadata": {},
   "outputs": [
    {
     "data": {
      "text/plain": [
       "Index(['RetailStore', 'CustomerID', 'TransactionID', 'ProductID', 'Cost',\n",
       "       'Dates'],\n",
       "      dtype='object')"
      ]
     },
     "execution_count": 46,
     "metadata": {},
     "output_type": "execute_result"
    }
   ],
   "source": [
    "independent.columns"
   ]
  },
  {
   "cell_type": "code",
   "execution_count": 47,
   "metadata": {},
   "outputs": [
    {
     "data": {
      "text/html": [
       "<div>\n",
       "<style scoped>\n",
       "    .dataframe tbody tr th:only-of-type {\n",
       "        vertical-align: middle;\n",
       "    }\n",
       "\n",
       "    .dataframe tbody tr th {\n",
       "        vertical-align: top;\n",
       "    }\n",
       "\n",
       "    .dataframe thead th {\n",
       "        text-align: right;\n",
       "    }\n",
       "</style>\n",
       "<table border=\"1\" class=\"dataframe\">\n",
       "  <thead>\n",
       "    <tr style=\"text-align: right;\">\n",
       "      <th></th>\n",
       "      <th>recency</th>\n",
       "      <th>frequency</th>\n",
       "      <th>monetary</th>\n",
       "      <th>6months</th>\n",
       "      <th>1year</th>\n",
       "      <th>1.5year</th>\n",
       "      <th>6monthscost</th>\n",
       "      <th>1yearcost</th>\n",
       "      <th>1.5yearcost</th>\n",
       "    </tr>\n",
       "    <tr>\n",
       "      <th>CustomerID</th>\n",
       "      <th></th>\n",
       "      <th></th>\n",
       "      <th></th>\n",
       "      <th></th>\n",
       "      <th></th>\n",
       "      <th></th>\n",
       "      <th></th>\n",
       "      <th></th>\n",
       "      <th></th>\n",
       "    </tr>\n",
       "  </thead>\n",
       "  <tbody>\n",
       "    <tr>\n",
       "      <th>1001</th>\n",
       "      <td>638</td>\n",
       "      <td>1</td>\n",
       "      <td>144.75</td>\n",
       "      <td>0.0</td>\n",
       "      <td>0.0</td>\n",
       "      <td>0.0</td>\n",
       "      <td>0.0</td>\n",
       "      <td>0.00</td>\n",
       "      <td>0.00</td>\n",
       "    </tr>\n",
       "    <tr>\n",
       "      <th>1002</th>\n",
       "      <td>184</td>\n",
       "      <td>16</td>\n",
       "      <td>2162.75</td>\n",
       "      <td>0.0</td>\n",
       "      <td>7.0</td>\n",
       "      <td>7.0</td>\n",
       "      <td>0.0</td>\n",
       "      <td>1100.25</td>\n",
       "      <td>1100.25</td>\n",
       "    </tr>\n",
       "    <tr>\n",
       "      <th>1003</th>\n",
       "      <td>638</td>\n",
       "      <td>2</td>\n",
       "      <td>353.25</td>\n",
       "      <td>0.0</td>\n",
       "      <td>0.0</td>\n",
       "      <td>0.0</td>\n",
       "      <td>0.0</td>\n",
       "      <td>0.00</td>\n",
       "      <td>0.00</td>\n",
       "    </tr>\n",
       "    <tr>\n",
       "      <th>1004</th>\n",
       "      <td>196</td>\n",
       "      <td>13</td>\n",
       "      <td>2673.50</td>\n",
       "      <td>0.0</td>\n",
       "      <td>5.0</td>\n",
       "      <td>7.0</td>\n",
       "      <td>0.0</td>\n",
       "      <td>1035.00</td>\n",
       "      <td>1429.00</td>\n",
       "    </tr>\n",
       "    <tr>\n",
       "      <th>1005</th>\n",
       "      <td>638</td>\n",
       "      <td>1</td>\n",
       "      <td>147.25</td>\n",
       "      <td>0.0</td>\n",
       "      <td>0.0</td>\n",
       "      <td>0.0</td>\n",
       "      <td>0.0</td>\n",
       "      <td>0.00</td>\n",
       "      <td>0.00</td>\n",
       "    </tr>\n",
       "  </tbody>\n",
       "</table>\n",
       "</div>"
      ],
      "text/plain": [
       "            recency  frequency  monetary  6months  1year  1.5year  \\\n",
       "CustomerID                                                          \n",
       "1001            638          1    144.75      0.0    0.0      0.0   \n",
       "1002            184         16   2162.75      0.0    7.0      7.0   \n",
       "1003            638          2    353.25      0.0    0.0      0.0   \n",
       "1004            196         13   2673.50      0.0    5.0      7.0   \n",
       "1005            638          1    147.25      0.0    0.0      0.0   \n",
       "\n",
       "            6monthscost  1yearcost  1.5yearcost  \n",
       "CustomerID                                       \n",
       "1001                0.0       0.00         0.00  \n",
       "1002                0.0    1100.25      1100.25  \n",
       "1003                0.0       0.00         0.00  \n",
       "1004                0.0    1035.00      1429.00  \n",
       "1005                0.0       0.00         0.00  "
      ]
     },
     "execution_count": 47,
     "metadata": {},
     "output_type": "execute_result"
    }
   ],
   "source": [
    "rfm.head()"
   ]
  },
  {
   "cell_type": "code",
   "execution_count": 48,
   "metadata": {},
   "outputs": [],
   "source": [
    "rfm['target']=rfm.index.isin(dependent['CustomerID']) # checking customer id in dependent dataset"
   ]
  },
  {
   "cell_type": "code",
   "execution_count": 49,
   "metadata": {},
   "outputs": [
    {
     "data": {
      "text/html": [
       "<div>\n",
       "<style scoped>\n",
       "    .dataframe tbody tr th:only-of-type {\n",
       "        vertical-align: middle;\n",
       "    }\n",
       "\n",
       "    .dataframe tbody tr th {\n",
       "        vertical-align: top;\n",
       "    }\n",
       "\n",
       "    .dataframe thead th {\n",
       "        text-align: right;\n",
       "    }\n",
       "</style>\n",
       "<table border=\"1\" class=\"dataframe\">\n",
       "  <thead>\n",
       "    <tr style=\"text-align: right;\">\n",
       "      <th></th>\n",
       "      <th>recency</th>\n",
       "      <th>frequency</th>\n",
       "      <th>monetary</th>\n",
       "      <th>6months</th>\n",
       "      <th>1year</th>\n",
       "      <th>1.5year</th>\n",
       "      <th>6monthscost</th>\n",
       "      <th>1yearcost</th>\n",
       "      <th>1.5yearcost</th>\n",
       "      <th>target</th>\n",
       "    </tr>\n",
       "    <tr>\n",
       "      <th>CustomerID</th>\n",
       "      <th></th>\n",
       "      <th></th>\n",
       "      <th></th>\n",
       "      <th></th>\n",
       "      <th></th>\n",
       "      <th></th>\n",
       "      <th></th>\n",
       "      <th></th>\n",
       "      <th></th>\n",
       "      <th></th>\n",
       "    </tr>\n",
       "  </thead>\n",
       "  <tbody>\n",
       "    <tr>\n",
       "      <th>1001</th>\n",
       "      <td>638</td>\n",
       "      <td>1</td>\n",
       "      <td>144.75</td>\n",
       "      <td>0.0</td>\n",
       "      <td>0.0</td>\n",
       "      <td>0.0</td>\n",
       "      <td>0.0</td>\n",
       "      <td>0.00</td>\n",
       "      <td>0.00</td>\n",
       "      <td>False</td>\n",
       "    </tr>\n",
       "    <tr>\n",
       "      <th>1002</th>\n",
       "      <td>184</td>\n",
       "      <td>16</td>\n",
       "      <td>2162.75</td>\n",
       "      <td>0.0</td>\n",
       "      <td>7.0</td>\n",
       "      <td>7.0</td>\n",
       "      <td>0.0</td>\n",
       "      <td>1100.25</td>\n",
       "      <td>1100.25</td>\n",
       "      <td>False</td>\n",
       "    </tr>\n",
       "    <tr>\n",
       "      <th>1003</th>\n",
       "      <td>638</td>\n",
       "      <td>2</td>\n",
       "      <td>353.25</td>\n",
       "      <td>0.0</td>\n",
       "      <td>0.0</td>\n",
       "      <td>0.0</td>\n",
       "      <td>0.0</td>\n",
       "      <td>0.00</td>\n",
       "      <td>0.00</td>\n",
       "      <td>False</td>\n",
       "    </tr>\n",
       "    <tr>\n",
       "      <th>1004</th>\n",
       "      <td>196</td>\n",
       "      <td>13</td>\n",
       "      <td>2673.50</td>\n",
       "      <td>0.0</td>\n",
       "      <td>5.0</td>\n",
       "      <td>7.0</td>\n",
       "      <td>0.0</td>\n",
       "      <td>1035.00</td>\n",
       "      <td>1429.00</td>\n",
       "      <td>False</td>\n",
       "    </tr>\n",
       "    <tr>\n",
       "      <th>1005</th>\n",
       "      <td>638</td>\n",
       "      <td>1</td>\n",
       "      <td>147.25</td>\n",
       "      <td>0.0</td>\n",
       "      <td>0.0</td>\n",
       "      <td>0.0</td>\n",
       "      <td>0.0</td>\n",
       "      <td>0.00</td>\n",
       "      <td>0.00</td>\n",
       "      <td>False</td>\n",
       "    </tr>\n",
       "  </tbody>\n",
       "</table>\n",
       "</div>"
      ],
      "text/plain": [
       "            recency  frequency  monetary  6months  1year  1.5year  \\\n",
       "CustomerID                                                          \n",
       "1001            638          1    144.75      0.0    0.0      0.0   \n",
       "1002            184         16   2162.75      0.0    7.0      7.0   \n",
       "1003            638          2    353.25      0.0    0.0      0.0   \n",
       "1004            196         13   2673.50      0.0    5.0      7.0   \n",
       "1005            638          1    147.25      0.0    0.0      0.0   \n",
       "\n",
       "            6monthscost  1yearcost  1.5yearcost  target  \n",
       "CustomerID                                               \n",
       "1001                0.0       0.00         0.00   False  \n",
       "1002                0.0    1100.25      1100.25   False  \n",
       "1003                0.0       0.00         0.00   False  \n",
       "1004                0.0    1035.00      1429.00   False  \n",
       "1005                0.0       0.00         0.00   False  "
      ]
     },
     "execution_count": 49,
     "metadata": {},
     "output_type": "execute_result"
    }
   ],
   "source": [
    "rfm.head()"
   ]
  },
  {
   "cell_type": "code",
   "execution_count": 50,
   "metadata": {},
   "outputs": [
    {
     "data": {
      "text/plain": [
       "False    8377\n",
       "True      927\n",
       "Name: target, dtype: int64"
      ]
     },
     "execution_count": 50,
     "metadata": {},
     "output_type": "execute_result"
    }
   ],
   "source": [
    "rfm.target.value_counts()"
   ]
  },
  {
   "cell_type": "code",
   "execution_count": 51,
   "metadata": {},
   "outputs": [
    {
     "data": {
      "text/plain": [
       "(44254, 6)"
      ]
     },
     "execution_count": 51,
     "metadata": {},
     "output_type": "execute_result"
    }
   ],
   "source": [
    "independent.shape"
   ]
  },
  {
   "cell_type": "code",
   "execution_count": 52,
   "metadata": {},
   "outputs": [
    {
     "data": {
      "text/plain": [
       "recency         635\n",
       "frequency        71\n",
       "monetary       3462\n",
       "6months          49\n",
       "1year            65\n",
       "1.5year          70\n",
       "6monthscost    1765\n",
       "1yearcost      2865\n",
       "1.5yearcost    3277\n",
       "target            2\n",
       "dtype: int64"
      ]
     },
     "execution_count": 52,
     "metadata": {},
     "output_type": "execute_result"
    }
   ],
   "source": [
    "rfm.apply(lambda x : len(x.unique())) "
   ]
  },
  {
   "cell_type": "code",
   "execution_count": 53,
   "metadata": {},
   "outputs": [
    {
     "data": {
      "text/plain": [
       "recency          int64\n",
       "frequency        int64\n",
       "monetary       float64\n",
       "6months        float64\n",
       "1year          float64\n",
       "1.5year        float64\n",
       "6monthscost    float64\n",
       "1yearcost      float64\n",
       "1.5yearcost    float64\n",
       "target            bool\n",
       "dtype: object"
      ]
     },
     "execution_count": 53,
     "metadata": {},
     "output_type": "execute_result"
    }
   ],
   "source": [
    "rfm.dtypes"
   ]
  },
  {
   "cell_type": "code",
   "execution_count": 54,
   "metadata": {},
   "outputs": [
    {
     "data": {
      "text/html": [
       "<div>\n",
       "<style scoped>\n",
       "    .dataframe tbody tr th:only-of-type {\n",
       "        vertical-align: middle;\n",
       "    }\n",
       "\n",
       "    .dataframe tbody tr th {\n",
       "        vertical-align: top;\n",
       "    }\n",
       "\n",
       "    .dataframe thead th {\n",
       "        text-align: right;\n",
       "    }\n",
       "</style>\n",
       "<table border=\"1\" class=\"dataframe\">\n",
       "  <thead>\n",
       "    <tr style=\"text-align: right;\">\n",
       "      <th></th>\n",
       "      <th>recency</th>\n",
       "      <th>frequency</th>\n",
       "      <th>monetary</th>\n",
       "      <th>6months</th>\n",
       "      <th>1year</th>\n",
       "      <th>1.5year</th>\n",
       "      <th>6monthscost</th>\n",
       "      <th>1yearcost</th>\n",
       "      <th>1.5yearcost</th>\n",
       "      <th>target</th>\n",
       "    </tr>\n",
       "    <tr>\n",
       "      <th>CustomerID</th>\n",
       "      <th></th>\n",
       "      <th></th>\n",
       "      <th></th>\n",
       "      <th></th>\n",
       "      <th></th>\n",
       "      <th></th>\n",
       "      <th></th>\n",
       "      <th></th>\n",
       "      <th></th>\n",
       "      <th></th>\n",
       "    </tr>\n",
       "  </thead>\n",
       "  <tbody>\n",
       "    <tr>\n",
       "      <th>1001</th>\n",
       "      <td>638</td>\n",
       "      <td>1</td>\n",
       "      <td>144.75</td>\n",
       "      <td>0.0</td>\n",
       "      <td>0.0</td>\n",
       "      <td>0.0</td>\n",
       "      <td>0.0</td>\n",
       "      <td>0.00</td>\n",
       "      <td>0.00</td>\n",
       "      <td>False</td>\n",
       "    </tr>\n",
       "    <tr>\n",
       "      <th>1002</th>\n",
       "      <td>184</td>\n",
       "      <td>16</td>\n",
       "      <td>2162.75</td>\n",
       "      <td>0.0</td>\n",
       "      <td>7.0</td>\n",
       "      <td>7.0</td>\n",
       "      <td>0.0</td>\n",
       "      <td>1100.25</td>\n",
       "      <td>1100.25</td>\n",
       "      <td>False</td>\n",
       "    </tr>\n",
       "    <tr>\n",
       "      <th>1003</th>\n",
       "      <td>638</td>\n",
       "      <td>2</td>\n",
       "      <td>353.25</td>\n",
       "      <td>0.0</td>\n",
       "      <td>0.0</td>\n",
       "      <td>0.0</td>\n",
       "      <td>0.0</td>\n",
       "      <td>0.00</td>\n",
       "      <td>0.00</td>\n",
       "      <td>False</td>\n",
       "    </tr>\n",
       "    <tr>\n",
       "      <th>1004</th>\n",
       "      <td>196</td>\n",
       "      <td>13</td>\n",
       "      <td>2673.50</td>\n",
       "      <td>0.0</td>\n",
       "      <td>5.0</td>\n",
       "      <td>7.0</td>\n",
       "      <td>0.0</td>\n",
       "      <td>1035.00</td>\n",
       "      <td>1429.00</td>\n",
       "      <td>False</td>\n",
       "    </tr>\n",
       "    <tr>\n",
       "      <th>1005</th>\n",
       "      <td>638</td>\n",
       "      <td>1</td>\n",
       "      <td>147.25</td>\n",
       "      <td>0.0</td>\n",
       "      <td>0.0</td>\n",
       "      <td>0.0</td>\n",
       "      <td>0.0</td>\n",
       "      <td>0.00</td>\n",
       "      <td>0.00</td>\n",
       "      <td>False</td>\n",
       "    </tr>\n",
       "    <tr>\n",
       "      <th>1006</th>\n",
       "      <td>638</td>\n",
       "      <td>5</td>\n",
       "      <td>838.00</td>\n",
       "      <td>0.0</td>\n",
       "      <td>0.0</td>\n",
       "      <td>0.0</td>\n",
       "      <td>0.0</td>\n",
       "      <td>0.00</td>\n",
       "      <td>0.00</td>\n",
       "      <td>False</td>\n",
       "    </tr>\n",
       "    <tr>\n",
       "      <th>1007</th>\n",
       "      <td>635</td>\n",
       "      <td>2</td>\n",
       "      <td>432.00</td>\n",
       "      <td>0.0</td>\n",
       "      <td>0.0</td>\n",
       "      <td>0.0</td>\n",
       "      <td>0.0</td>\n",
       "      <td>0.00</td>\n",
       "      <td>0.00</td>\n",
       "      <td>False</td>\n",
       "    </tr>\n",
       "    <tr>\n",
       "      <th>1008</th>\n",
       "      <td>638</td>\n",
       "      <td>2</td>\n",
       "      <td>344.50</td>\n",
       "      <td>0.0</td>\n",
       "      <td>0.0</td>\n",
       "      <td>0.0</td>\n",
       "      <td>0.0</td>\n",
       "      <td>0.00</td>\n",
       "      <td>0.00</td>\n",
       "      <td>False</td>\n",
       "    </tr>\n",
       "    <tr>\n",
       "      <th>1009</th>\n",
       "      <td>638</td>\n",
       "      <td>2</td>\n",
       "      <td>394.50</td>\n",
       "      <td>0.0</td>\n",
       "      <td>0.0</td>\n",
       "      <td>0.0</td>\n",
       "      <td>0.0</td>\n",
       "      <td>0.00</td>\n",
       "      <td>0.00</td>\n",
       "      <td>False</td>\n",
       "    </tr>\n",
       "    <tr>\n",
       "      <th>1010</th>\n",
       "      <td>637</td>\n",
       "      <td>3</td>\n",
       "      <td>514.00</td>\n",
       "      <td>0.0</td>\n",
       "      <td>0.0</td>\n",
       "      <td>0.0</td>\n",
       "      <td>0.0</td>\n",
       "      <td>0.00</td>\n",
       "      <td>0.00</td>\n",
       "      <td>False</td>\n",
       "    </tr>\n",
       "  </tbody>\n",
       "</table>\n",
       "</div>"
      ],
      "text/plain": [
       "            recency  frequency  monetary  6months  1year  1.5year  \\\n",
       "CustomerID                                                          \n",
       "1001            638          1    144.75      0.0    0.0      0.0   \n",
       "1002            184         16   2162.75      0.0    7.0      7.0   \n",
       "1003            638          2    353.25      0.0    0.0      0.0   \n",
       "1004            196         13   2673.50      0.0    5.0      7.0   \n",
       "1005            638          1    147.25      0.0    0.0      0.0   \n",
       "1006            638          5    838.00      0.0    0.0      0.0   \n",
       "1007            635          2    432.00      0.0    0.0      0.0   \n",
       "1008            638          2    344.50      0.0    0.0      0.0   \n",
       "1009            638          2    394.50      0.0    0.0      0.0   \n",
       "1010            637          3    514.00      0.0    0.0      0.0   \n",
       "\n",
       "            6monthscost  1yearcost  1.5yearcost  target  \n",
       "CustomerID                                               \n",
       "1001                0.0       0.00         0.00   False  \n",
       "1002                0.0    1100.25      1100.25   False  \n",
       "1003                0.0       0.00         0.00   False  \n",
       "1004                0.0    1035.00      1429.00   False  \n",
       "1005                0.0       0.00         0.00   False  \n",
       "1006                0.0       0.00         0.00   False  \n",
       "1007                0.0       0.00         0.00   False  \n",
       "1008                0.0       0.00         0.00   False  \n",
       "1009                0.0       0.00         0.00   False  \n",
       "1010                0.0       0.00         0.00   False  "
      ]
     },
     "execution_count": 54,
     "metadata": {},
     "output_type": "execute_result"
    }
   ],
   "source": [
    "rfm.head(10)"
   ]
  },
  {
   "cell_type": "code",
   "execution_count": 55,
   "metadata": {},
   "outputs": [],
   "source": [
    "rfm['target'] = (rfm['target'] ==True).astype(int)"
   ]
  },
  {
   "cell_type": "code",
   "execution_count": 56,
   "metadata": {},
   "outputs": [
    {
     "data": {
      "text/plain": [
       "0    8377\n",
       "1     927\n",
       "Name: target, dtype: int64"
      ]
     },
     "execution_count": 56,
     "metadata": {},
     "output_type": "execute_result"
    }
   ],
   "source": [
    "rfm.target.value_counts()"
   ]
  },
  {
   "cell_type": "markdown",
   "metadata": {},
   "source": [
    "## 1.univariate analysis"
   ]
  },
  {
   "cell_type": "code",
   "execution_count": 57,
   "metadata": {},
   "outputs": [
    {
     "data": {
      "text/html": [
       "<div>\n",
       "<style scoped>\n",
       "    .dataframe tbody tr th:only-of-type {\n",
       "        vertical-align: middle;\n",
       "    }\n",
       "\n",
       "    .dataframe tbody tr th {\n",
       "        vertical-align: top;\n",
       "    }\n",
       "\n",
       "    .dataframe thead th {\n",
       "        text-align: right;\n",
       "    }\n",
       "</style>\n",
       "<table border=\"1\" class=\"dataframe\">\n",
       "  <thead>\n",
       "    <tr style=\"text-align: right;\">\n",
       "      <th></th>\n",
       "      <th>recency</th>\n",
       "      <th>frequency</th>\n",
       "      <th>monetary</th>\n",
       "      <th>6months</th>\n",
       "      <th>1year</th>\n",
       "      <th>1.5year</th>\n",
       "      <th>6monthscost</th>\n",
       "      <th>1yearcost</th>\n",
       "      <th>1.5yearcost</th>\n",
       "      <th>target</th>\n",
       "    </tr>\n",
       "    <tr>\n",
       "      <th>CustomerID</th>\n",
       "      <th></th>\n",
       "      <th></th>\n",
       "      <th></th>\n",
       "      <th></th>\n",
       "      <th></th>\n",
       "      <th></th>\n",
       "      <th></th>\n",
       "      <th></th>\n",
       "      <th></th>\n",
       "      <th></th>\n",
       "    </tr>\n",
       "  </thead>\n",
       "  <tbody>\n",
       "    <tr>\n",
       "      <th>1001</th>\n",
       "      <td>638</td>\n",
       "      <td>1</td>\n",
       "      <td>144.75</td>\n",
       "      <td>0.0</td>\n",
       "      <td>0.0</td>\n",
       "      <td>0.0</td>\n",
       "      <td>0.0</td>\n",
       "      <td>0.00</td>\n",
       "      <td>0.00</td>\n",
       "      <td>0</td>\n",
       "    </tr>\n",
       "    <tr>\n",
       "      <th>1002</th>\n",
       "      <td>184</td>\n",
       "      <td>16</td>\n",
       "      <td>2162.75</td>\n",
       "      <td>0.0</td>\n",
       "      <td>7.0</td>\n",
       "      <td>7.0</td>\n",
       "      <td>0.0</td>\n",
       "      <td>1100.25</td>\n",
       "      <td>1100.25</td>\n",
       "      <td>0</td>\n",
       "    </tr>\n",
       "    <tr>\n",
       "      <th>1003</th>\n",
       "      <td>638</td>\n",
       "      <td>2</td>\n",
       "      <td>353.25</td>\n",
       "      <td>0.0</td>\n",
       "      <td>0.0</td>\n",
       "      <td>0.0</td>\n",
       "      <td>0.0</td>\n",
       "      <td>0.00</td>\n",
       "      <td>0.00</td>\n",
       "      <td>0</td>\n",
       "    </tr>\n",
       "    <tr>\n",
       "      <th>1004</th>\n",
       "      <td>196</td>\n",
       "      <td>13</td>\n",
       "      <td>2673.50</td>\n",
       "      <td>0.0</td>\n",
       "      <td>5.0</td>\n",
       "      <td>7.0</td>\n",
       "      <td>0.0</td>\n",
       "      <td>1035.00</td>\n",
       "      <td>1429.00</td>\n",
       "      <td>0</td>\n",
       "    </tr>\n",
       "    <tr>\n",
       "      <th>1005</th>\n",
       "      <td>638</td>\n",
       "      <td>1</td>\n",
       "      <td>147.25</td>\n",
       "      <td>0.0</td>\n",
       "      <td>0.0</td>\n",
       "      <td>0.0</td>\n",
       "      <td>0.0</td>\n",
       "      <td>0.00</td>\n",
       "      <td>0.00</td>\n",
       "      <td>0</td>\n",
       "    </tr>\n",
       "  </tbody>\n",
       "</table>\n",
       "</div>"
      ],
      "text/plain": [
       "            recency  frequency  monetary  6months  1year  1.5year  \\\n",
       "CustomerID                                                          \n",
       "1001            638          1    144.75      0.0    0.0      0.0   \n",
       "1002            184         16   2162.75      0.0    7.0      7.0   \n",
       "1003            638          2    353.25      0.0    0.0      0.0   \n",
       "1004            196         13   2673.50      0.0    5.0      7.0   \n",
       "1005            638          1    147.25      0.0    0.0      0.0   \n",
       "\n",
       "            6monthscost  1yearcost  1.5yearcost  target  \n",
       "CustomerID                                               \n",
       "1001                0.0       0.00         0.00       0  \n",
       "1002                0.0    1100.25      1100.25       0  \n",
       "1003                0.0       0.00         0.00       0  \n",
       "1004                0.0    1035.00      1429.00       0  \n",
       "1005                0.0       0.00         0.00       0  "
      ]
     },
     "execution_count": 57,
     "metadata": {},
     "output_type": "execute_result"
    }
   ],
   "source": [
    "rfm.head()"
   ]
  },
  {
   "cell_type": "code",
   "execution_count": 58,
   "metadata": {},
   "outputs": [
    {
     "data": {
      "text/html": [
       "<div>\n",
       "<style scoped>\n",
       "    .dataframe tbody tr th:only-of-type {\n",
       "        vertical-align: middle;\n",
       "    }\n",
       "\n",
       "    .dataframe tbody tr th {\n",
       "        vertical-align: top;\n",
       "    }\n",
       "\n",
       "    .dataframe thead th {\n",
       "        text-align: right;\n",
       "    }\n",
       "</style>\n",
       "<table border=\"1\" class=\"dataframe\">\n",
       "  <thead>\n",
       "    <tr style=\"text-align: right;\">\n",
       "      <th></th>\n",
       "      <th>recency</th>\n",
       "      <th>frequency</th>\n",
       "      <th>monetary</th>\n",
       "      <th>6months</th>\n",
       "      <th>1year</th>\n",
       "      <th>1.5year</th>\n",
       "      <th>6monthscost</th>\n",
       "      <th>1yearcost</th>\n",
       "      <th>1.5yearcost</th>\n",
       "      <th>target</th>\n",
       "    </tr>\n",
       "  </thead>\n",
       "  <tbody>\n",
       "    <tr>\n",
       "      <th>count</th>\n",
       "      <td>9304.000000</td>\n",
       "      <td>9304.000000</td>\n",
       "      <td>9304.000000</td>\n",
       "      <td>9304.000000</td>\n",
       "      <td>9304.000000</td>\n",
       "      <td>9304.000000</td>\n",
       "      <td>9304.000000</td>\n",
       "      <td>9304.000000</td>\n",
       "      <td>9304.000000</td>\n",
       "      <td>9304.000000</td>\n",
       "    </tr>\n",
       "    <tr>\n",
       "      <th>mean</th>\n",
       "      <td>259.594475</td>\n",
       "      <td>4.756449</td>\n",
       "      <td>859.542267</td>\n",
       "      <td>1.632094</td>\n",
       "      <td>3.462919</td>\n",
       "      <td>4.323409</td>\n",
       "      <td>296.470712</td>\n",
       "      <td>626.227402</td>\n",
       "      <td>779.203730</td>\n",
       "      <td>0.099635</td>\n",
       "    </tr>\n",
       "    <tr>\n",
       "      <th>std</th>\n",
       "      <td>177.249889</td>\n",
       "      <td>7.089439</td>\n",
       "      <td>1254.514064</td>\n",
       "      <td>3.735730</td>\n",
       "      <td>5.951840</td>\n",
       "      <td>6.805081</td>\n",
       "      <td>680.465497</td>\n",
       "      <td>1055.995662</td>\n",
       "      <td>1190.084797</td>\n",
       "      <td>0.299528</td>\n",
       "    </tr>\n",
       "    <tr>\n",
       "      <th>min</th>\n",
       "      <td>0.000000</td>\n",
       "      <td>1.000000</td>\n",
       "      <td>32.250000</td>\n",
       "      <td>0.000000</td>\n",
       "      <td>0.000000</td>\n",
       "      <td>0.000000</td>\n",
       "      <td>0.000000</td>\n",
       "      <td>0.000000</td>\n",
       "      <td>0.000000</td>\n",
       "      <td>0.000000</td>\n",
       "    </tr>\n",
       "    <tr>\n",
       "      <th>25%</th>\n",
       "      <td>116.000000</td>\n",
       "      <td>2.000000</td>\n",
       "      <td>314.500000</td>\n",
       "      <td>0.000000</td>\n",
       "      <td>0.000000</td>\n",
       "      <td>1.000000</td>\n",
       "      <td>0.000000</td>\n",
       "      <td>0.000000</td>\n",
       "      <td>254.500000</td>\n",
       "      <td>0.000000</td>\n",
       "    </tr>\n",
       "    <tr>\n",
       "      <th>50%</th>\n",
       "      <td>226.000000</td>\n",
       "      <td>3.000000</td>\n",
       "      <td>520.250000</td>\n",
       "      <td>0.000000</td>\n",
       "      <td>2.000000</td>\n",
       "      <td>3.000000</td>\n",
       "      <td>0.000000</td>\n",
       "      <td>394.500000</td>\n",
       "      <td>478.500000</td>\n",
       "      <td>0.000000</td>\n",
       "    </tr>\n",
       "    <tr>\n",
       "      <th>75%</th>\n",
       "      <td>397.000000</td>\n",
       "      <td>5.000000</td>\n",
       "      <td>925.812500</td>\n",
       "      <td>2.000000</td>\n",
       "      <td>4.000000</td>\n",
       "      <td>5.000000</td>\n",
       "      <td>409.500000</td>\n",
       "      <td>730.437500</td>\n",
       "      <td>854.875000</td>\n",
       "      <td>0.000000</td>\n",
       "    </tr>\n",
       "    <tr>\n",
       "      <th>max</th>\n",
       "      <td>638.000000</td>\n",
       "      <td>206.000000</td>\n",
       "      <td>31196.250000</td>\n",
       "      <td>74.000000</td>\n",
       "      <td>144.000000</td>\n",
       "      <td>204.000000</td>\n",
       "      <td>13220.750000</td>\n",
       "      <td>25492.750000</td>\n",
       "      <td>27929.000000</td>\n",
       "      <td>1.000000</td>\n",
       "    </tr>\n",
       "  </tbody>\n",
       "</table>\n",
       "</div>"
      ],
      "text/plain": [
       "           recency    frequency      monetary      6months        1year  \\\n",
       "count  9304.000000  9304.000000   9304.000000  9304.000000  9304.000000   \n",
       "mean    259.594475     4.756449    859.542267     1.632094     3.462919   \n",
       "std     177.249889     7.089439   1254.514064     3.735730     5.951840   \n",
       "min       0.000000     1.000000     32.250000     0.000000     0.000000   \n",
       "25%     116.000000     2.000000    314.500000     0.000000     0.000000   \n",
       "50%     226.000000     3.000000    520.250000     0.000000     2.000000   \n",
       "75%     397.000000     5.000000    925.812500     2.000000     4.000000   \n",
       "max     638.000000   206.000000  31196.250000    74.000000   144.000000   \n",
       "\n",
       "           1.5year   6monthscost     1yearcost   1.5yearcost       target  \n",
       "count  9304.000000   9304.000000   9304.000000   9304.000000  9304.000000  \n",
       "mean      4.323409    296.470712    626.227402    779.203730     0.099635  \n",
       "std       6.805081    680.465497   1055.995662   1190.084797     0.299528  \n",
       "min       0.000000      0.000000      0.000000      0.000000     0.000000  \n",
       "25%       1.000000      0.000000      0.000000    254.500000     0.000000  \n",
       "50%       3.000000      0.000000    394.500000    478.500000     0.000000  \n",
       "75%       5.000000    409.500000    730.437500    854.875000     0.000000  \n",
       "max     204.000000  13220.750000  25492.750000  27929.000000     1.000000  "
      ]
     },
     "execution_count": 58,
     "metadata": {},
     "output_type": "execute_result"
    }
   ],
   "source": [
    "rfm.describe()"
   ]
  },
  {
   "cell_type": "code",
   "execution_count": 59,
   "metadata": {},
   "outputs": [
    {
     "data": {
      "image/png": "[encoded data removed]",
      "text/plain": [
       "<matplotlib.figure.Figure at 0xbeccc50>"
      ]
     },
     "metadata": {
      "needs_background": "light"
     },
     "output_type": "display_data"
    }
   ],
   "source": [
    "rfm.hist(figsize=[10,12],bins =20)\n",
    "plt.show()"
   ]
  },
  {
   "cell_type": "code",
   "execution_count": 60,
   "metadata": {},
   "outputs": [
    {
     "data": {
      "text/plain": [
       "<matplotlib.axes._subplots.AxesSubplot at 0xc49bbe0>"
      ]
     },
     "execution_count": 60,
     "metadata": {},
     "output_type": "execute_result"
    },
    {
     "data": {
      "image/png": "[encoded data removed]",
      "text/plain": [
       "<matplotlib.figure.Figure at 0xc231748>"
      ]
     },
     "metadata": {
      "needs_background": "light"
     },
     "output_type": "display_data"
    }
   ],
   "source": [
    "corr = rfm.corr()\n",
    "# Set up the matplotlib figure\n",
    "f, ax = plt.subplots(figsize=(11, 9))\n",
    "sns.heatmap(corr)"
   ]
  },
  {
   "cell_type": "markdown",
   "metadata": {},
   "source": [
    "## Histograms"
   ]
  },
  {
   "cell_type": "code",
   "execution_count": 61,
   "metadata": {},
   "outputs": [
    {
     "data": {
      "text/plain": [
       "<matplotlib.axes._subplots.AxesSubplot at 0xdb5e6d8>"
      ]
     },
     "execution_count": 61,
     "metadata": {},
     "output_type": "execute_result"
    },
    {
     "data": {
      "image/png": "[encoded data removed]",
      "text/plain": [
       "<matplotlib.figure.Figure at 0xbeccef0>"
      ]
     },
     "metadata": {
      "needs_background": "light"
     },
     "output_type": "display_data"
    }
   ],
   "source": [
    "rfm.recency.hist() # maximum duration in doing transaction by a customer is approx 640 "
   ]
  },
  {
   "cell_type": "code",
   "execution_count": 62,
   "metadata": {},
   "outputs": [
    {
     "data": {
      "text/plain": [
       "<matplotlib.axes._subplots.AxesSubplot at 0xdbcccc0>"
      ]
     },
     "execution_count": 62,
     "metadata": {},
     "output_type": "execute_result"
    },
    {
     "data": {
      "image/png": "[encoded data removed]",
      "text/plain": [
       "<matplotlib.figure.Figure at 0xdb9fa20>"
      ]
     },
     "metadata": {
      "needs_background": "light"
     },
     "output_type": "display_data"
    }
   ],
   "source": [
    "rfm.frequency.hist() #no of times customer visited ranges from 0 to 20"
   ]
  },
  {
   "cell_type": "code",
   "execution_count": 63,
   "metadata": {},
   "outputs": [
    {
     "data": {
      "text/plain": [
       "<matplotlib.axes._subplots.AxesSubplot at 0xdc0bb38>"
      ]
     },
     "execution_count": 63,
     "metadata": {},
     "output_type": "execute_result"
    },
    {
     "data": {
      "image/png": "[encoded data removed]",
      "text/plain": [
       "<matplotlib.figure.Figure at 0xdc254a8>"
      ]
     },
     "metadata": {
      "needs_background": "light"
     },
     "output_type": "display_data"
    }
   ],
   "source": [
    "rfm.monetary.hist() #most of the customer spent amount btw 0 to 4000"
   ]
  },
  {
   "cell_type": "code",
   "execution_count": 64,
   "metadata": {},
   "outputs": [
    {
     "data": {
      "text/plain": [
       "<matplotlib.axes._subplots.AxesSubplot at 0xdb93198>"
      ]
     },
     "execution_count": 64,
     "metadata": {},
     "output_type": "execute_result"
    },
    {
     "data": {
      "image/png": "[encoded data removed]",
      "text/plain": [
       "<matplotlib.figure.Figure at 0xdcd8d30>"
      ]
     },
     "metadata": {
      "needs_background": "light"
     },
     "output_type": "display_data"
    }
   ],
   "source": [
    "rfm['6months'].hist()"
   ]
  },
  {
   "cell_type": "code",
   "execution_count": 65,
   "metadata": {},
   "outputs": [
    {
     "data": {
      "text/plain": [
       "<matplotlib.axes._subplots.AxesSubplot at 0xdce3ef0>"
      ]
     },
     "execution_count": 65,
     "metadata": {},
     "output_type": "execute_result"
    },
    {
     "data": {
      "image/png": "[encoded data removed]",
      "text/plain": [
       "<matplotlib.figure.Figure at 0xdfde470>"
      ]
     },
     "metadata": {
      "needs_background": "light"
     },
     "output_type": "display_data"
    }
   ],
   "source": [
    "rfm['1year'].hist()"
   ]
  },
  {
   "cell_type": "code",
   "execution_count": 66,
   "metadata": {},
   "outputs": [
    {
     "data": {
      "text/plain": [
       "<matplotlib.axes._subplots.AxesSubplot at 0xdfde710>"
      ]
     },
     "execution_count": 66,
     "metadata": {},
     "output_type": "execute_result"
    },
    {
     "data": {
      "image/png": "[encoded data removed]",
      "text/plain": [
       "<matplotlib.figure.Figure at 0xe01c518>"
      ]
     },
     "metadata": {
      "needs_background": "light"
     },
     "output_type": "display_data"
    }
   ],
   "source": [
    "rfm['1.5year'].hist()"
   ]
  },
  {
   "cell_type": "code",
   "execution_count": 67,
   "metadata": {},
   "outputs": [
    {
     "data": {
      "text/plain": [
       "<matplotlib.axes._subplots.AxesSubplot at 0xda44710>"
      ]
     },
     "execution_count": 67,
     "metadata": {},
     "output_type": "execute_result"
    },
    {
     "data": {
      "image/png": "[encoded data removed]",
      "text/plain": [
       "<matplotlib.figure.Figure at 0xdf83550>"
      ]
     },
     "metadata": {
      "needs_background": "light"
     },
     "output_type": "display_data"
    }
   ],
   "source": [
    "rfm['6monthscost'].hist()"
   ]
  },
  {
   "cell_type": "code",
   "execution_count": 68,
   "metadata": {},
   "outputs": [
    {
     "data": {
      "text/plain": [
       "Index(['recency', 'frequency', 'monetary', '6months', '1year', '1.5year',\n",
       "       '6monthscost', '1yearcost', '1.5yearcost', 'target'],\n",
       "      dtype='object')"
      ]
     },
     "execution_count": 68,
     "metadata": {},
     "output_type": "execute_result"
    }
   ],
   "source": [
    "rfm.columns"
   ]
  },
  {
   "cell_type": "code",
   "execution_count": 69,
   "metadata": {},
   "outputs": [
    {
     "data": {
      "text/plain": [
       "<matplotlib.axes._subplots.AxesSubplot at 0xdd8d780>"
      ]
     },
     "execution_count": 69,
     "metadata": {},
     "output_type": "execute_result"
    },
    {
     "data": {
      "image/png": "[encoded data removed]",
      "text/plain": [
       "<matplotlib.figure.Figure at 0xd8bb390>"
      ]
     },
     "metadata": {
      "needs_background": "light"
     },
     "output_type": "display_data"
    }
   ],
   "source": [
    "rfm['1yearcost'].hist()"
   ]
  },
  {
   "cell_type": "code",
   "execution_count": 70,
   "metadata": {},
   "outputs": [
    {
     "data": {
      "text/plain": [
       "<matplotlib.axes._subplots.AxesSubplot at 0xd8bb8d0>"
      ]
     },
     "execution_count": 70,
     "metadata": {},
     "output_type": "execute_result"
    },
    {
     "data": {
      "image/png": "[encoded data removed]",
      "text/plain": [
       "<matplotlib.figure.Figure at 0xd8cfdd8>"
      ]
     },
     "metadata": {
      "needs_background": "light"
     },
     "output_type": "display_data"
    }
   ],
   "source": [
    "rfm['1.5yearcost'].hist()"
   ]
  },
  {
   "cell_type": "markdown",
   "metadata": {},
   "source": [
    "## Bivariate analysis"
   ]
  },
  {
   "cell_type": "markdown",
   "metadata": {},
   "source": [
    "### RECENY vs TARGET"
   ]
  },
  {
   "cell_type": "code",
   "execution_count": 71,
   "metadata": {},
   "outputs": [],
   "source": [
    "import scipy.stats as stats"
   ]
  },
  {
   "cell_type": "code",
   "execution_count": 72,
   "metadata": {},
   "outputs": [
    {
     "data": {
      "text/plain": [
       "Index(['recency', 'frequency', 'monetary', '6months', '1year', '1.5year',\n",
       "       '6monthscost', '1yearcost', '1.5yearcost', 'target'],\n",
       "      dtype='object')"
      ]
     },
     "execution_count": 72,
     "metadata": {},
     "output_type": "execute_result"
    }
   ],
   "source": [
    "rfm.columns"
   ]
  },
  {
   "cell_type": "code",
   "execution_count": 73,
   "metadata": {},
   "outputs": [
    {
     "data": {
      "text/plain": [
       "Ttest_indResult(statistic=25.612109830331118, pvalue=7.271754715689656e-140)"
      ]
     },
     "execution_count": 73,
     "metadata": {},
     "output_type": "execute_result"
    }
   ],
   "source": [
    "cat1 = rfm[rfm['target']==0]\n",
    "cat2 = rfm[rfm['target']==1]         #There is significant association between recency and target\n",
    "\n",
    "stats.ttest_ind(cat1['recency'], cat2['recency'])  "
   ]
  },
  {
   "cell_type": "code",
   "execution_count": 74,
   "metadata": {},
   "outputs": [
    {
     "data": {
      "text/plain": [
       "<matplotlib.axes._subplots.AxesSubplot at 0xdd5cda0>"
      ]
     },
     "execution_count": 74,
     "metadata": {},
     "output_type": "execute_result"
    },
    {
     "data": {
      "image/png": "[encoded data removed]",
      "text/plain": [
       "<matplotlib.figure.Figure at 0xd8b0ba8>"
      ]
     },
     "metadata": {
      "needs_background": "light"
     },
     "output_type": "display_data"
    }
   ],
   "source": [
    "sns.boxplot(y=\"recency\", x=\"target\", data=rfm)\n",
    "# We can say that less recency the probability of coming in next quarter is more"
   ]
  },
  {
   "cell_type": "markdown",
   "metadata": {},
   "source": [
    "## Frequency vs  Target"
   ]
  },
  {
   "cell_type": "code",
   "execution_count": 75,
   "metadata": {},
   "outputs": [
    {
     "data": {
      "text/plain": [
       "Ttest_indResult(statistic=-28.033410457048525, pvalue=4.446927560358421e-166)"
      ]
     },
     "execution_count": 75,
     "metadata": {},
     "output_type": "execute_result"
    }
   ],
   "source": [
    "cat1 = rfm[rfm['target']==0]\n",
    "cat2 = rfm[rfm['target']==1]         #There is significant association between frequecy and target\n",
    "\n",
    "stats.ttest_ind(cat1['frequency'], cat2['frequency'])  "
   ]
  },
  {
   "cell_type": "code",
   "execution_count": 76,
   "metadata": {},
   "outputs": [
    {
     "data": {
      "text/plain": [
       "<matplotlib.axes._subplots.AxesSubplot at 0xdc64fd0>"
      ]
     },
     "execution_count": 76,
     "metadata": {},
     "output_type": "execute_result"
    },
    {
     "data": {
      "image/png": "[encoded data removed]",
      "text/plain": [
       "<matplotlib.figure.Figure at 0xd9b0f98>"
      ]
     },
     "metadata": {
      "needs_background": "light"
     },
     "output_type": "display_data"
    }
   ],
   "source": [
    "sns.boxplot(y=\"frequency\", x=\"target\", data=rfm)\n",
    "# from the below graph we can inference that if the no times the customer visited in more then \n",
    "#proablity of that customer visiting \n",
    "#in next quater is more"
   ]
  },
  {
   "cell_type": "markdown",
   "metadata": {},
   "source": [
    "## Monetary vs Target"
   ]
  },
  {
   "cell_type": "code",
   "execution_count": 77,
   "metadata": {},
   "outputs": [
    {
     "data": {
      "text/plain": [
       "Ttest_indResult(statistic=-27.86374156417857, pvalue=3.5511596011562e-164)"
      ]
     },
     "execution_count": 77,
     "metadata": {},
     "output_type": "execute_result"
    }
   ],
   "source": [
    "cat1 = rfm[rfm['target']==0]\n",
    "cat2 = rfm[rfm['target']==1]         #There is significant association between monetary and target\n",
    "\n",
    "stats.ttest_ind(cat1['monetary'], cat2['monetary'])  "
   ]
  },
  {
   "cell_type": "code",
   "execution_count": 78,
   "metadata": {},
   "outputs": [
    {
     "data": {
      "text/plain": [
       "<matplotlib.axes._subplots.AxesSubplot at 0xd9fee80>"
      ]
     },
     "execution_count": 78,
     "metadata": {},
     "output_type": "execute_result"
    },
    {
     "data": {
      "image/png": "[encoded data removed]",
      "text/plain": [
       "<matplotlib.figure.Figure at 0xd9e3fd0>"
      ]
     },
     "metadata": {
      "needs_background": "light"
     },
     "output_type": "display_data"
    }
   ],
   "source": [
    "sns.boxplot(y=\"monetary\", x=\"target\", data=rfm)\n",
    "# from the below graph we can inference that if the costs spent by the customer is more than \n",
    "#proablity of that customer visiting \n",
    "#in next quater is more compare with those who spent less money"
   ]
  },
  {
   "cell_type": "markdown",
   "metadata": {},
   "source": [
    "## 6months vs Target"
   ]
  },
  {
   "cell_type": "code",
   "execution_count": 79,
   "metadata": {},
   "outputs": [
    {
     "data": {
      "text/plain": [
       "Ttest_indResult(statistic=-31.093161769748665, pvalue=5.055059122208833e-202)"
      ]
     },
     "execution_count": 79,
     "metadata": {},
     "output_type": "execute_result"
    }
   ],
   "source": [
    "cat1 = rfm[rfm['target']==0]\n",
    "cat2 = rfm[rfm['target']==1]         #There is significant association between recency and target\n",
    "\n",
    "stats.ttest_ind(cat1['6months'], cat2['6months']) "
   ]
  },
  {
   "cell_type": "code",
   "execution_count": 80,
   "metadata": {},
   "outputs": [
    {
     "data": {
      "text/plain": [
       "<matplotlib.axes._subplots.AxesSubplot at 0xc175240>"
      ]
     },
     "execution_count": 80,
     "metadata": {},
     "output_type": "execute_result"
    },
    {
     "data": {
      "image/png": "[encoded data removed]",
      "text/plain": [
       "<matplotlib.figure.Figure at 0xc1ad080>"
      ]
     },
     "metadata": {
      "needs_background": "light"
     },
     "output_type": "display_data"
    }
   ],
   "source": [
    "sns.boxplot(y=\"6months\", x=\"target\", data=rfm)\n",
    "# no products he bought is last six months is more that proablity of them visiting in next quater is more"
   ]
  },
  {
   "cell_type": "markdown",
   "metadata": {},
   "source": [
    "## 1year vs Target"
   ]
  },
  {
   "cell_type": "code",
   "execution_count": 81,
   "metadata": {},
   "outputs": [
    {
     "data": {
      "text/plain": [
       "Ttest_indResult(statistic=-34.91134905021819, pvalue=4.837626826674049e-251)"
      ]
     },
     "execution_count": 81,
     "metadata": {},
     "output_type": "execute_result"
    }
   ],
   "source": [
    "cat1 = rfm[rfm['target']==0]\n",
    "cat2 = rfm[rfm['target']==1]         #There is significant association between recency and target\n",
    "\n",
    "stats.ttest_ind(cat1['1year'], cat2['1year']) "
   ]
  },
  {
   "cell_type": "code",
   "execution_count": 82,
   "metadata": {},
   "outputs": [
    {
     "data": {
      "text/plain": [
       "<matplotlib.axes._subplots.AxesSubplot at 0xd9fbc18>"
      ]
     },
     "execution_count": 82,
     "metadata": {},
     "output_type": "execute_result"
    },
    {
     "data": {
      "image/png": "[encoded data removed]",
      "text/plain": [
       "<matplotlib.figure.Figure at 0xc215d68>"
      ]
     },
     "metadata": {
      "needs_background": "light"
     },
     "output_type": "display_data"
    }
   ],
   "source": [
    "sns.boxplot(y=\"1year\", x=\"target\", data=rfm)\n",
    "# no products he bought is last 1 year is more that proablity of them visiting in next quater is more"
   ]
  },
  {
   "cell_type": "markdown",
   "metadata": {},
   "source": [
    "## 1.5year vs Target"
   ]
  },
  {
   "cell_type": "code",
   "execution_count": 84,
   "metadata": {},
   "outputs": [
    {
     "data": {
      "text/plain": [
       "Ttest_indResult(statistic=-29.982879532785184, pvalue=1.2619884976790507e-188)"
      ]
     },
     "execution_count": 84,
     "metadata": {},
     "output_type": "execute_result"
    }
   ],
   "source": [
    "cat1 = rfm[rfm['target']==0]\n",
    "cat2 = rfm[rfm['target']==1]         #There is significant association between recency and target\n",
    "\n",
    "stats.ttest_ind(cat1['1.5year'], cat2['1.5year']) "
   ]
  },
  {
   "cell_type": "code",
   "execution_count": 85,
   "metadata": {},
   "outputs": [
    {
     "data": {
      "text/plain": [
       "<matplotlib.axes._subplots.AxesSubplot at 0xb7de3c8>"
      ]
     },
     "execution_count": 85,
     "metadata": {},
     "output_type": "execute_result"
    },
    {
     "data": {
      "image/png": "[encoded data removed]",
      "text/plain": [
       "<matplotlib.figure.Figure at 0xd996710>"
      ]
     },
     "metadata": {
      "needs_background": "light"
     },
     "output_type": "display_data"
    }
   ],
   "source": [
    "sns.boxplot(y=\"1.5year\", x=\"target\", data=rfm)\n",
    "# no products he bought is last 1.5 years is more that proablity of them visiting in next quater is more"
   ]
  },
  {
   "cell_type": "markdown",
   "metadata": {},
   "source": [
    "## 6monthscost vs Target"
   ]
  },
  {
   "cell_type": "code",
   "execution_count": 86,
   "metadata": {},
   "outputs": [
    {
     "data": {
      "text/plain": [
       "Ttest_indResult(statistic=-30.08745810465297, pvalue=7.180338165723836e-190)"
      ]
     },
     "execution_count": 86,
     "metadata": {},
     "output_type": "execute_result"
    }
   ],
   "source": [
    "cat1 = rfm[rfm['target']==0]\n",
    "cat2 = rfm[rfm['target']==1]         #There is significant association between recency and target\n",
    "\n",
    "stats.ttest_ind(cat1['6monthscost'], cat2['6monthscost']) "
   ]
  },
  {
   "cell_type": "code",
   "execution_count": 87,
   "metadata": {},
   "outputs": [
    {
     "data": {
      "text/plain": [
       "<matplotlib.axes._subplots.AxesSubplot at 0xb79a2e8>"
      ]
     },
     "execution_count": 87,
     "metadata": {},
     "output_type": "execute_result"
    },
    {
     "data": {
      "image/png": "[encoded data removed]",
      "text/plain": [
       "<matplotlib.figure.Figure at 0xb75cba8>"
      ]
     },
     "metadata": {
      "needs_background": "light"
     },
     "output_type": "display_data"
    }
   ],
   "source": [
    "sns.boxplot(y=\"6monthscost\", x=\"target\", data=rfm)\n",
    "# amount customer spent in last 6 is more that proablity of them visiting in next quater is more"
   ]
  },
  {
   "cell_type": "markdown",
   "metadata": {},
   "source": [
    "## 1yearcost vs Target"
   ]
  },
  {
   "cell_type": "code",
   "execution_count": 88,
   "metadata": {},
   "outputs": [
    {
     "data": {
      "text/plain": [
       "Ttest_indResult(statistic=-34.582303472566466, pvalue=1.2112404942862577e-246)"
      ]
     },
     "execution_count": 88,
     "metadata": {},
     "output_type": "execute_result"
    }
   ],
   "source": [
    "cat1 = rfm[rfm['target']==0]\n",
    "cat2 = rfm[rfm['target']==1]         #There is significant association between recency and target\n",
    "\n",
    "stats.ttest_ind(cat1['1yearcost'], cat2['1yearcost'])"
   ]
  },
  {
   "cell_type": "code",
   "execution_count": 89,
   "metadata": {},
   "outputs": [
    {
     "data": {
      "text/plain": [
       "<matplotlib.axes._subplots.AxesSubplot at 0xb8580f0>"
      ]
     },
     "execution_count": 89,
     "metadata": {},
     "output_type": "execute_result"
    },
    {
     "data": {
      "image/png": "[encoded data removed]",
      "text/plain": [
       "<matplotlib.figure.Figure at 0xb75c630>"
      ]
     },
     "metadata": {
      "needs_background": "light"
     },
     "output_type": "display_data"
    }
   ],
   "source": [
    "sns.boxplot(y=\"1yearcost\", x=\"target\", data=rfm)\n",
    "# amount customer spent in last 1year is more that proablity of them visiting in next quater is more"
   ]
  },
  {
   "cell_type": "markdown",
   "metadata": {},
   "source": [
    "## 1.5yearcost vs Target"
   ]
  },
  {
   "cell_type": "code",
   "execution_count": 90,
   "metadata": {},
   "outputs": [
    {
     "data": {
      "text/plain": [
       "Ttest_indResult(statistic=-30.25714763812015, pvalue=6.73888131761238e-192)"
      ]
     },
     "execution_count": 90,
     "metadata": {},
     "output_type": "execute_result"
    }
   ],
   "source": [
    "cat1 = rfm[rfm['target']==0]\n",
    "cat2 = rfm[rfm['target']==1]         #There is significant association between recency and target\n",
    "\n",
    "stats.ttest_ind(cat1['1.5yearcost'], cat2['1.5yearcost'])"
   ]
  },
  {
   "cell_type": "code",
   "execution_count": 91,
   "metadata": {},
   "outputs": [
    {
     "data": {
      "text/plain": [
       "<matplotlib.axes._subplots.AxesSubplot at 0xde1ec18>"
      ]
     },
     "execution_count": 91,
     "metadata": {},
     "output_type": "execute_result"
    },
    {
     "data": {
      "image/png": "[encoded data removed]",
      "text/plain": [
       "<matplotlib.figure.Figure at 0xb86bb00>"
      ]
     },
     "metadata": {
      "needs_background": "light"
     },
     "output_type": "display_data"
    }
   ],
   "source": [
    "sns.boxplot(y=\"1.5yearcost\", x=\"target\", data=rfm)\n",
    "# amount customer spent in last 1.5year is more that proablity of them visiting in next quater is more"
   ]
  },
  {
   "cell_type": "code",
   "execution_count": 92,
   "metadata": {},
   "outputs": [],
   "source": [
    "# conclusion of bivariate anyalsis\n",
    "# the dervied variable has significant effect on forecasting the customer visit in nexxt quater"
   ]
  },
  {
   "cell_type": "markdown",
   "metadata": {},
   "source": [
    "# MODEL BULIDING"
   ]
  },
  {
   "cell_type": "code",
   "execution_count": 93,
   "metadata": {},
   "outputs": [],
   "source": [
    "y=rfm.iloc[:,9:]\n",
    "x=rfm.iloc[:,0:9]"
   ]
  },
  {
   "cell_type": "markdown",
   "metadata": {},
   "source": [
    "# Spliting Train and Test Data Set"
   ]
  },
  {
   "cell_type": "code",
   "execution_count": 94,
   "metadata": {},
   "outputs": [],
   "source": [
    "##Spillting Train and Test Data Test\n",
    "from sklearn.model_selection import train_test_split\n",
    "x_train, x_test, y_train, y_test=train_test_split(x,y,test_size=0.2,random_state=11)"
   ]
  },
  {
   "cell_type": "code",
   "execution_count": 95,
   "metadata": {},
   "outputs": [
    {
     "data": {
      "text/html": [
       "<div>\n",
       "<style scoped>\n",
       "    .dataframe tbody tr th:only-of-type {\n",
       "        vertical-align: middle;\n",
       "    }\n",
       "\n",
       "    .dataframe tbody tr th {\n",
       "        vertical-align: top;\n",
       "    }\n",
       "\n",
       "    .dataframe thead th {\n",
       "        text-align: right;\n",
       "    }\n",
       "</style>\n",
       "<table border=\"1\" class=\"dataframe\">\n",
       "  <thead>\n",
       "    <tr style=\"text-align: right;\">\n",
       "      <th></th>\n",
       "      <th>recency</th>\n",
       "      <th>frequency</th>\n",
       "      <th>monetary</th>\n",
       "      <th>6months</th>\n",
       "      <th>1year</th>\n",
       "      <th>1.5year</th>\n",
       "      <th>6monthscost</th>\n",
       "      <th>1yearcost</th>\n",
       "      <th>1.5yearcost</th>\n",
       "    </tr>\n",
       "    <tr>\n",
       "      <th>CustomerID</th>\n",
       "      <th></th>\n",
       "      <th></th>\n",
       "      <th></th>\n",
       "      <th></th>\n",
       "      <th></th>\n",
       "      <th></th>\n",
       "      <th></th>\n",
       "      <th></th>\n",
       "      <th></th>\n",
       "    </tr>\n",
       "  </thead>\n",
       "  <tbody>\n",
       "    <tr>\n",
       "      <th>3143</th>\n",
       "      <td>487</td>\n",
       "      <td>3</td>\n",
       "      <td>541.75</td>\n",
       "      <td>0.0</td>\n",
       "      <td>0.0</td>\n",
       "      <td>3.0</td>\n",
       "      <td>0.0</td>\n",
       "      <td>0.0</td>\n",
       "      <td>541.75</td>\n",
       "    </tr>\n",
       "    <tr>\n",
       "      <th>9079</th>\n",
       "      <td>234</td>\n",
       "      <td>6</td>\n",
       "      <td>1018.50</td>\n",
       "      <td>0.0</td>\n",
       "      <td>6.0</td>\n",
       "      <td>6.0</td>\n",
       "      <td>0.0</td>\n",
       "      <td>1018.5</td>\n",
       "      <td>1018.50</td>\n",
       "    </tr>\n",
       "    <tr>\n",
       "      <th>5432</th>\n",
       "      <td>262</td>\n",
       "      <td>2</td>\n",
       "      <td>402.00</td>\n",
       "      <td>0.0</td>\n",
       "      <td>2.0</td>\n",
       "      <td>2.0</td>\n",
       "      <td>0.0</td>\n",
       "      <td>402.0</td>\n",
       "      <td>402.00</td>\n",
       "    </tr>\n",
       "    <tr>\n",
       "      <th>1106</th>\n",
       "      <td>631</td>\n",
       "      <td>1</td>\n",
       "      <td>260.75</td>\n",
       "      <td>0.0</td>\n",
       "      <td>0.0</td>\n",
       "      <td>0.0</td>\n",
       "      <td>0.0</td>\n",
       "      <td>0.0</td>\n",
       "      <td>0.00</td>\n",
       "    </tr>\n",
       "    <tr>\n",
       "      <th>7986</th>\n",
       "      <td>13</td>\n",
       "      <td>6</td>\n",
       "      <td>1222.50</td>\n",
       "      <td>5.0</td>\n",
       "      <td>6.0</td>\n",
       "      <td>6.0</td>\n",
       "      <td>1003.0</td>\n",
       "      <td>1222.5</td>\n",
       "      <td>1222.50</td>\n",
       "    </tr>\n",
       "  </tbody>\n",
       "</table>\n",
       "</div>"
      ],
      "text/plain": [
       "            recency  frequency  monetary  6months  1year  1.5year  \\\n",
       "CustomerID                                                          \n",
       "3143            487          3    541.75      0.0    0.0      3.0   \n",
       "9079            234          6   1018.50      0.0    6.0      6.0   \n",
       "5432            262          2    402.00      0.0    2.0      2.0   \n",
       "1106            631          1    260.75      0.0    0.0      0.0   \n",
       "7986             13          6   1222.50      5.0    6.0      6.0   \n",
       "\n",
       "            6monthscost  1yearcost  1.5yearcost  \n",
       "CustomerID                                       \n",
       "3143                0.0        0.0       541.75  \n",
       "9079                0.0     1018.5      1018.50  \n",
       "5432                0.0      402.0       402.00  \n",
       "1106                0.0        0.0         0.00  \n",
       "7986             1003.0     1222.5      1222.50  "
      ]
     },
     "execution_count": 95,
     "metadata": {},
     "output_type": "execute_result"
    }
   ],
   "source": [
    "x_train.head()"
   ]
  },
  {
   "cell_type": "code",
   "execution_count": 96,
   "metadata": {},
   "outputs": [
    {
     "data": {
      "text/html": [
       "<div>\n",
       "<style scoped>\n",
       "    .dataframe tbody tr th:only-of-type {\n",
       "        vertical-align: middle;\n",
       "    }\n",
       "\n",
       "    .dataframe tbody tr th {\n",
       "        vertical-align: top;\n",
       "    }\n",
       "\n",
       "    .dataframe thead th {\n",
       "        text-align: right;\n",
       "    }\n",
       "</style>\n",
       "<table border=\"1\" class=\"dataframe\">\n",
       "  <thead>\n",
       "    <tr style=\"text-align: right;\">\n",
       "      <th></th>\n",
       "      <th>recency</th>\n",
       "      <th>frequency</th>\n",
       "      <th>monetary</th>\n",
       "      <th>6months</th>\n",
       "      <th>1year</th>\n",
       "      <th>1.5year</th>\n",
       "      <th>6monthscost</th>\n",
       "      <th>1yearcost</th>\n",
       "      <th>1.5yearcost</th>\n",
       "    </tr>\n",
       "    <tr>\n",
       "      <th>CustomerID</th>\n",
       "      <th></th>\n",
       "      <th></th>\n",
       "      <th></th>\n",
       "      <th></th>\n",
       "      <th></th>\n",
       "      <th></th>\n",
       "      <th></th>\n",
       "      <th></th>\n",
       "      <th></th>\n",
       "    </tr>\n",
       "  </thead>\n",
       "  <tbody>\n",
       "    <tr>\n",
       "      <th>1205</th>\n",
       "      <td>623</td>\n",
       "      <td>2</td>\n",
       "      <td>284.50</td>\n",
       "      <td>0.0</td>\n",
       "      <td>0.0</td>\n",
       "      <td>0.0</td>\n",
       "      <td>0.0</td>\n",
       "      <td>0.0</td>\n",
       "      <td>0.00</td>\n",
       "    </tr>\n",
       "    <tr>\n",
       "      <th>7612</th>\n",
       "      <td>108</td>\n",
       "      <td>1</td>\n",
       "      <td>217.00</td>\n",
       "      <td>1.0</td>\n",
       "      <td>1.0</td>\n",
       "      <td>1.0</td>\n",
       "      <td>217.0</td>\n",
       "      <td>217.0</td>\n",
       "      <td>217.00</td>\n",
       "    </tr>\n",
       "    <tr>\n",
       "      <th>2073</th>\n",
       "      <td>564</td>\n",
       "      <td>3</td>\n",
       "      <td>384.25</td>\n",
       "      <td>0.0</td>\n",
       "      <td>0.0</td>\n",
       "      <td>0.0</td>\n",
       "      <td>0.0</td>\n",
       "      <td>0.0</td>\n",
       "      <td>0.00</td>\n",
       "    </tr>\n",
       "    <tr>\n",
       "      <th>10687</th>\n",
       "      <td>243</td>\n",
       "      <td>1</td>\n",
       "      <td>217.00</td>\n",
       "      <td>0.0</td>\n",
       "      <td>1.0</td>\n",
       "      <td>1.0</td>\n",
       "      <td>0.0</td>\n",
       "      <td>217.0</td>\n",
       "      <td>217.00</td>\n",
       "    </tr>\n",
       "    <tr>\n",
       "      <th>2340</th>\n",
       "      <td>548</td>\n",
       "      <td>3</td>\n",
       "      <td>541.75</td>\n",
       "      <td>0.0</td>\n",
       "      <td>0.0</td>\n",
       "      <td>3.0</td>\n",
       "      <td>0.0</td>\n",
       "      <td>0.0</td>\n",
       "      <td>541.75</td>\n",
       "    </tr>\n",
       "  </tbody>\n",
       "</table>\n",
       "</div>"
      ],
      "text/plain": [
       "            recency  frequency  monetary  6months  1year  1.5year  \\\n",
       "CustomerID                                                          \n",
       "1205            623          2    284.50      0.0    0.0      0.0   \n",
       "7612            108          1    217.00      1.0    1.0      1.0   \n",
       "2073            564          3    384.25      0.0    0.0      0.0   \n",
       "10687           243          1    217.00      0.0    1.0      1.0   \n",
       "2340            548          3    541.75      0.0    0.0      3.0   \n",
       "\n",
       "            6monthscost  1yearcost  1.5yearcost  \n",
       "CustomerID                                       \n",
       "1205                0.0        0.0         0.00  \n",
       "7612              217.0      217.0       217.00  \n",
       "2073                0.0        0.0         0.00  \n",
       "10687               0.0      217.0       217.00  \n",
       "2340                0.0        0.0       541.75  "
      ]
     },
     "execution_count": 96,
     "metadata": {},
     "output_type": "execute_result"
    }
   ],
   "source": [
    "x_test.head()"
   ]
  },
  {
   "cell_type": "code",
   "execution_count": 97,
   "metadata": {},
   "outputs": [
    {
     "data": {
      "text/html": [
       "<div>\n",
       "<style scoped>\n",
       "    .dataframe tbody tr th:only-of-type {\n",
       "        vertical-align: middle;\n",
       "    }\n",
       "\n",
       "    .dataframe tbody tr th {\n",
       "        vertical-align: top;\n",
       "    }\n",
       "\n",
       "    .dataframe thead th {\n",
       "        text-align: right;\n",
       "    }\n",
       "</style>\n",
       "<table border=\"1\" class=\"dataframe\">\n",
       "  <thead>\n",
       "    <tr style=\"text-align: right;\">\n",
       "      <th></th>\n",
       "      <th>target</th>\n",
       "    </tr>\n",
       "    <tr>\n",
       "      <th>CustomerID</th>\n",
       "      <th></th>\n",
       "    </tr>\n",
       "  </thead>\n",
       "  <tbody>\n",
       "    <tr>\n",
       "      <th>3143</th>\n",
       "      <td>0</td>\n",
       "    </tr>\n",
       "    <tr>\n",
       "      <th>9079</th>\n",
       "      <td>1</td>\n",
       "    </tr>\n",
       "  </tbody>\n",
       "</table>\n",
       "</div>"
      ],
      "text/plain": [
       "            target\n",
       "CustomerID        \n",
       "3143             0\n",
       "9079             1"
      ]
     },
     "execution_count": 97,
     "metadata": {},
     "output_type": "execute_result"
    }
   ],
   "source": [
    "y_train.head(2)"
   ]
  },
  {
   "cell_type": "code",
   "execution_count": 98,
   "metadata": {},
   "outputs": [
    {
     "data": {
      "text/html": [
       "<div>\n",
       "<style scoped>\n",
       "    .dataframe tbody tr th:only-of-type {\n",
       "        vertical-align: middle;\n",
       "    }\n",
       "\n",
       "    .dataframe tbody tr th {\n",
       "        vertical-align: top;\n",
       "    }\n",
       "\n",
       "    .dataframe thead th {\n",
       "        text-align: right;\n",
       "    }\n",
       "</style>\n",
       "<table border=\"1\" class=\"dataframe\">\n",
       "  <thead>\n",
       "    <tr style=\"text-align: right;\">\n",
       "      <th></th>\n",
       "      <th>target</th>\n",
       "    </tr>\n",
       "    <tr>\n",
       "      <th>CustomerID</th>\n",
       "      <th></th>\n",
       "    </tr>\n",
       "  </thead>\n",
       "  <tbody>\n",
       "    <tr>\n",
       "      <th>1205</th>\n",
       "      <td>0</td>\n",
       "    </tr>\n",
       "    <tr>\n",
       "      <th>7612</th>\n",
       "      <td>0</td>\n",
       "    </tr>\n",
       "  </tbody>\n",
       "</table>\n",
       "</div>"
      ],
      "text/plain": [
       "            target\n",
       "CustomerID        \n",
       "1205             0\n",
       "7612             0"
      ]
     },
     "execution_count": 98,
     "metadata": {},
     "output_type": "execute_result"
    }
   ],
   "source": [
    "y_test.head(2)"
   ]
  },
  {
   "cell_type": "markdown",
   "metadata": {},
   "source": [
    "# Logistic Regression Model\n",
    "##### using statsmodel"
   ]
  },
  {
   "cell_type": "code",
   "execution_count": 99,
   "metadata": {},
   "outputs": [
    {
     "name": "stdout",
     "output_type": "stream",
     "text": [
      "Optimization terminated successfully.\n",
      "         Current function value: 0.281061\n",
      "         Iterations 8\n"
     ]
    }
   ],
   "source": [
    "import statsmodels.formula.api as sm\n",
    " \n",
    "model = sm.Logit(y_train, x_train)\n",
    " \n",
    "result = model.fit()"
   ]
  },
  {
   "cell_type": "code",
   "execution_count": 100,
   "metadata": {},
   "outputs": [
    {
     "name": "stdout",
     "output_type": "stream",
     "text": [
      "                           Logit Regression Results                           \n",
      "==============================================================================\n",
      "Dep. Variable:                 target   No. Observations:                 7443\n",
      "Model:                          Logit   Df Residuals:                     7434\n",
      "Method:                           MLE   Df Model:                            8\n",
      "Date:                Sun, 12 Jan 2020   Pseudo R-squ.:                  0.1232\n",
      "Time:                        21:16:13   Log-Likelihood:                -2091.9\n",
      "converged:                       True   LL-Null:                       -2385.8\n",
      "                                        LLR p-value:                1.018e-121\n",
      "===============================================================================\n",
      "                  coef    std err          z      P>|z|      [0.025      0.975]\n",
      "-------------------------------------------------------------------------------\n",
      "recency        -0.0127      0.000    -40.236      0.000      -0.013      -0.012\n",
      "frequency       0.3030      0.183      1.653      0.098      -0.056       0.662\n",
      "monetary       -0.0018      0.001     -1.734      0.083      -0.004       0.000\n",
      "6months        -0.0301      0.042     -0.725      0.468      -0.111       0.051\n",
      "1year           0.1777      0.090      1.977      0.048       0.002       0.354\n",
      "1.5year        -0.4473      0.230     -1.949      0.051      -0.897       0.003\n",
      "6monthscost    -0.0006      0.000     -2.741      0.006      -0.001      -0.000\n",
      "1yearcost      -0.0001      0.001     -0.238      0.812      -0.001       0.001\n",
      "1.5yearcost     0.0023      0.001      1.761      0.078      -0.000       0.005\n",
      "===============================================================================\n"
     ]
    },
    {
     "data": {
      "text/plain": [
       "recency       -0.012675\n",
       "frequency      0.303020\n",
       "monetary      -0.001771\n",
       "6months       -0.030106\n",
       "1year          0.177743\n",
       "1.5year       -0.447289\n",
       "6monthscost   -0.000626\n",
       "1yearcost     -0.000121\n",
       "1.5yearcost    0.002300\n",
       "dtype: float64"
      ]
     },
     "execution_count": 100,
     "metadata": {},
     "output_type": "execute_result"
    }
   ],
   "source": [
    "print(result.summary())\n",
    "result.params"
   ]
  },
  {
   "cell_type": "code",
   "execution_count": 101,
   "metadata": {},
   "outputs": [],
   "source": [
    "del rfm['6months'] # droping 6 months as p value is more that 0.05"
   ]
  },
  {
   "cell_type": "code",
   "execution_count": 102,
   "metadata": {},
   "outputs": [],
   "source": [
    "del rfm['1yearcost'] #droping 1yearcost as p value is more than 0.05"
   ]
  },
  {
   "cell_type": "code",
   "execution_count": 103,
   "metadata": {},
   "outputs": [
    {
     "data": {
      "text/html": [
       "<div>\n",
       "<style scoped>\n",
       "    .dataframe tbody tr th:only-of-type {\n",
       "        vertical-align: middle;\n",
       "    }\n",
       "\n",
       "    .dataframe tbody tr th {\n",
       "        vertical-align: top;\n",
       "    }\n",
       "\n",
       "    .dataframe thead th {\n",
       "        text-align: right;\n",
       "    }\n",
       "</style>\n",
       "<table border=\"1\" class=\"dataframe\">\n",
       "  <thead>\n",
       "    <tr style=\"text-align: right;\">\n",
       "      <th></th>\n",
       "      <th>recency</th>\n",
       "      <th>frequency</th>\n",
       "      <th>monetary</th>\n",
       "      <th>1year</th>\n",
       "      <th>1.5year</th>\n",
       "      <th>6monthscost</th>\n",
       "      <th>1.5yearcost</th>\n",
       "      <th>target</th>\n",
       "    </tr>\n",
       "    <tr>\n",
       "      <th>CustomerID</th>\n",
       "      <th></th>\n",
       "      <th></th>\n",
       "      <th></th>\n",
       "      <th></th>\n",
       "      <th></th>\n",
       "      <th></th>\n",
       "      <th></th>\n",
       "      <th></th>\n",
       "    </tr>\n",
       "  </thead>\n",
       "  <tbody>\n",
       "    <tr>\n",
       "      <th>1001</th>\n",
       "      <td>638</td>\n",
       "      <td>1</td>\n",
       "      <td>144.75</td>\n",
       "      <td>0.0</td>\n",
       "      <td>0.0</td>\n",
       "      <td>0.0</td>\n",
       "      <td>0.00</td>\n",
       "      <td>0</td>\n",
       "    </tr>\n",
       "    <tr>\n",
       "      <th>1002</th>\n",
       "      <td>184</td>\n",
       "      <td>16</td>\n",
       "      <td>2162.75</td>\n",
       "      <td>7.0</td>\n",
       "      <td>7.0</td>\n",
       "      <td>0.0</td>\n",
       "      <td>1100.25</td>\n",
       "      <td>0</td>\n",
       "    </tr>\n",
       "    <tr>\n",
       "      <th>1003</th>\n",
       "      <td>638</td>\n",
       "      <td>2</td>\n",
       "      <td>353.25</td>\n",
       "      <td>0.0</td>\n",
       "      <td>0.0</td>\n",
       "      <td>0.0</td>\n",
       "      <td>0.00</td>\n",
       "      <td>0</td>\n",
       "    </tr>\n",
       "    <tr>\n",
       "      <th>1004</th>\n",
       "      <td>196</td>\n",
       "      <td>13</td>\n",
       "      <td>2673.50</td>\n",
       "      <td>5.0</td>\n",
       "      <td>7.0</td>\n",
       "      <td>0.0</td>\n",
       "      <td>1429.00</td>\n",
       "      <td>0</td>\n",
       "    </tr>\n",
       "    <tr>\n",
       "      <th>1005</th>\n",
       "      <td>638</td>\n",
       "      <td>1</td>\n",
       "      <td>147.25</td>\n",
       "      <td>0.0</td>\n",
       "      <td>0.0</td>\n",
       "      <td>0.0</td>\n",
       "      <td>0.00</td>\n",
       "      <td>0</td>\n",
       "    </tr>\n",
       "  </tbody>\n",
       "</table>\n",
       "</div>"
      ],
      "text/plain": [
       "            recency  frequency  monetary  1year  1.5year  6monthscost  \\\n",
       "CustomerID                                                              \n",
       "1001            638          1    144.75    0.0      0.0          0.0   \n",
       "1002            184         16   2162.75    7.0      7.0          0.0   \n",
       "1003            638          2    353.25    0.0      0.0          0.0   \n",
       "1004            196         13   2673.50    5.0      7.0          0.0   \n",
       "1005            638          1    147.25    0.0      0.0          0.0   \n",
       "\n",
       "            1.5yearcost  target  \n",
       "CustomerID                       \n",
       "1001               0.00       0  \n",
       "1002            1100.25       0  \n",
       "1003               0.00       0  \n",
       "1004            1429.00       0  \n",
       "1005               0.00       0  "
      ]
     },
     "execution_count": 103,
     "metadata": {},
     "output_type": "execute_result"
    }
   ],
   "source": [
    "rfm.head()"
   ]
  },
  {
   "cell_type": "code",
   "execution_count": 104,
   "metadata": {},
   "outputs": [],
   "source": [
    "y=rfm.iloc[:,7:]\n",
    "x=rfm.iloc[:,0:7]"
   ]
  },
  {
   "cell_type": "code",
   "execution_count": 105,
   "metadata": {},
   "outputs": [
    {
     "data": {
      "text/html": [
       "<div>\n",
       "<style scoped>\n",
       "    .dataframe tbody tr th:only-of-type {\n",
       "        vertical-align: middle;\n",
       "    }\n",
       "\n",
       "    .dataframe tbody tr th {\n",
       "        vertical-align: top;\n",
       "    }\n",
       "\n",
       "    .dataframe thead th {\n",
       "        text-align: right;\n",
       "    }\n",
       "</style>\n",
       "<table border=\"1\" class=\"dataframe\">\n",
       "  <thead>\n",
       "    <tr style=\"text-align: right;\">\n",
       "      <th></th>\n",
       "      <th>target</th>\n",
       "    </tr>\n",
       "    <tr>\n",
       "      <th>CustomerID</th>\n",
       "      <th></th>\n",
       "    </tr>\n",
       "  </thead>\n",
       "  <tbody>\n",
       "    <tr>\n",
       "      <th>1001</th>\n",
       "      <td>0</td>\n",
       "    </tr>\n",
       "    <tr>\n",
       "      <th>1002</th>\n",
       "      <td>0</td>\n",
       "    </tr>\n",
       "    <tr>\n",
       "      <th>1003</th>\n",
       "      <td>0</td>\n",
       "    </tr>\n",
       "    <tr>\n",
       "      <th>1004</th>\n",
       "      <td>0</td>\n",
       "    </tr>\n",
       "    <tr>\n",
       "      <th>1005</th>\n",
       "      <td>0</td>\n",
       "    </tr>\n",
       "  </tbody>\n",
       "</table>\n",
       "</div>"
      ],
      "text/plain": [
       "            target\n",
       "CustomerID        \n",
       "1001             0\n",
       "1002             0\n",
       "1003             0\n",
       "1004             0\n",
       "1005             0"
      ]
     },
     "execution_count": 105,
     "metadata": {},
     "output_type": "execute_result"
    }
   ],
   "source": [
    "y.head()"
   ]
  },
  {
   "cell_type": "code",
   "execution_count": 106,
   "metadata": {},
   "outputs": [
    {
     "data": {
      "text/html": [
       "<div>\n",
       "<style scoped>\n",
       "    .dataframe tbody tr th:only-of-type {\n",
       "        vertical-align: middle;\n",
       "    }\n",
       "\n",
       "    .dataframe tbody tr th {\n",
       "        vertical-align: top;\n",
       "    }\n",
       "\n",
       "    .dataframe thead th {\n",
       "        text-align: right;\n",
       "    }\n",
       "</style>\n",
       "<table border=\"1\" class=\"dataframe\">\n",
       "  <thead>\n",
       "    <tr style=\"text-align: right;\">\n",
       "      <th></th>\n",
       "      <th>recency</th>\n",
       "      <th>frequency</th>\n",
       "      <th>monetary</th>\n",
       "      <th>1year</th>\n",
       "      <th>1.5year</th>\n",
       "      <th>6monthscost</th>\n",
       "      <th>1.5yearcost</th>\n",
       "    </tr>\n",
       "    <tr>\n",
       "      <th>CustomerID</th>\n",
       "      <th></th>\n",
       "      <th></th>\n",
       "      <th></th>\n",
       "      <th></th>\n",
       "      <th></th>\n",
       "      <th></th>\n",
       "      <th></th>\n",
       "    </tr>\n",
       "  </thead>\n",
       "  <tbody>\n",
       "    <tr>\n",
       "      <th>1001</th>\n",
       "      <td>638</td>\n",
       "      <td>1</td>\n",
       "      <td>144.75</td>\n",
       "      <td>0.0</td>\n",
       "      <td>0.0</td>\n",
       "      <td>0.0</td>\n",
       "      <td>0.00</td>\n",
       "    </tr>\n",
       "    <tr>\n",
       "      <th>1002</th>\n",
       "      <td>184</td>\n",
       "      <td>16</td>\n",
       "      <td>2162.75</td>\n",
       "      <td>7.0</td>\n",
       "      <td>7.0</td>\n",
       "      <td>0.0</td>\n",
       "      <td>1100.25</td>\n",
       "    </tr>\n",
       "    <tr>\n",
       "      <th>1003</th>\n",
       "      <td>638</td>\n",
       "      <td>2</td>\n",
       "      <td>353.25</td>\n",
       "      <td>0.0</td>\n",
       "      <td>0.0</td>\n",
       "      <td>0.0</td>\n",
       "      <td>0.00</td>\n",
       "    </tr>\n",
       "    <tr>\n",
       "      <th>1004</th>\n",
       "      <td>196</td>\n",
       "      <td>13</td>\n",
       "      <td>2673.50</td>\n",
       "      <td>5.0</td>\n",
       "      <td>7.0</td>\n",
       "      <td>0.0</td>\n",
       "      <td>1429.00</td>\n",
       "    </tr>\n",
       "    <tr>\n",
       "      <th>1005</th>\n",
       "      <td>638</td>\n",
       "      <td>1</td>\n",
       "      <td>147.25</td>\n",
       "      <td>0.0</td>\n",
       "      <td>0.0</td>\n",
       "      <td>0.0</td>\n",
       "      <td>0.00</td>\n",
       "    </tr>\n",
       "  </tbody>\n",
       "</table>\n",
       "</div>"
      ],
      "text/plain": [
       "            recency  frequency  monetary  1year  1.5year  6monthscost  \\\n",
       "CustomerID                                                              \n",
       "1001            638          1    144.75    0.0      0.0          0.0   \n",
       "1002            184         16   2162.75    7.0      7.0          0.0   \n",
       "1003            638          2    353.25    0.0      0.0          0.0   \n",
       "1004            196         13   2673.50    5.0      7.0          0.0   \n",
       "1005            638          1    147.25    0.0      0.0          0.0   \n",
       "\n",
       "            1.5yearcost  \n",
       "CustomerID               \n",
       "1001               0.00  \n",
       "1002            1100.25  \n",
       "1003               0.00  \n",
       "1004            1429.00  \n",
       "1005               0.00  "
      ]
     },
     "execution_count": 106,
     "metadata": {},
     "output_type": "execute_result"
    }
   ],
   "source": [
    "x.head()"
   ]
  },
  {
   "cell_type": "code",
   "execution_count": 107,
   "metadata": {},
   "outputs": [],
   "source": [
    "##Spillting Train and Test Data Test\n",
    "from sklearn.model_selection import train_test_split\n",
    "x_train, x_test, y_train, y_test=train_test_split(x,y,test_size=0.2,random_state=11)"
   ]
  },
  {
   "cell_type": "code",
   "execution_count": 108,
   "metadata": {},
   "outputs": [
    {
     "name": "stdout",
     "output_type": "stream",
     "text": [
      "Optimization terminated successfully.\n",
      "         Current function value: 0.281096\n",
      "         Iterations 8\n"
     ]
    }
   ],
   "source": [
    "model = sm.Logit(y_train, x_train)\n",
    " \n",
    "result = model.fit()"
   ]
  },
  {
   "cell_type": "code",
   "execution_count": 109,
   "metadata": {},
   "outputs": [
    {
     "name": "stdout",
     "output_type": "stream",
     "text": [
      "                           Logit Regression Results                           \n",
      "==============================================================================\n",
      "Dep. Variable:                 target   No. Observations:                 7443\n",
      "Model:                          Logit   Df Residuals:                     7436\n",
      "Method:                           MLE   Df Model:                            6\n",
      "Date:                Sun, 12 Jan 2020   Pseudo R-squ.:                  0.1231\n",
      "Time:                        21:16:14   Log-Likelihood:                -2092.2\n",
      "converged:                       True   LL-Null:                       -2385.8\n",
      "                                        LLR p-value:                1.341e-123\n",
      "===============================================================================\n",
      "                  coef    std err          z      P>|z|      [0.025      0.975]\n",
      "-------------------------------------------------------------------------------\n",
      "recency        -0.0127      0.000    -40.242      0.000      -0.013      -0.012\n",
      "frequency       0.3181      0.164      1.937      0.053      -0.004       0.640\n",
      "monetary       -0.0019      0.001     -2.068      0.039      -0.004   -9.71e-05\n",
      "1year           0.1543      0.026      5.938      0.000       0.103       0.205\n",
      "1.5year        -0.4555      0.173     -2.629      0.009      -0.795      -0.116\n",
      "6monthscost    -0.0008   7.88e-05     -9.919      0.000      -0.001      -0.001\n",
      "1.5yearcost     0.0024      0.001      2.493      0.013       0.001       0.004\n",
      "===============================================================================\n"
     ]
    },
    {
     "data": {
      "text/plain": [
       "recency       -0.012675\n",
       "frequency      0.318109\n",
       "monetary      -0.001856\n",
       "1year          0.154273\n",
       "1.5year       -0.455499\n",
       "6monthscost   -0.000782\n",
       "1.5yearcost    0.002351\n",
       "dtype: float64"
      ]
     },
     "execution_count": 109,
     "metadata": {},
     "output_type": "execute_result"
    }
   ],
   "source": [
    "print(result.summary())\n",
    "result.params"
   ]
  },
  {
   "cell_type": "markdown",
   "metadata": {},
   "source": [
    "# Validation of the model on TRAIN dataset"
   ]
  },
  {
   "cell_type": "markdown",
   "metadata": {},
   "source": [
    "    ### 1. Confusion Matrix "
   ]
  },
  {
   "cell_type": "code",
   "execution_count": 110,
   "metadata": {},
   "outputs": [
    {
     "data": {
      "text/html": [
       "<div>\n",
       "<style scoped>\n",
       "    .dataframe tbody tr th:only-of-type {\n",
       "        vertical-align: middle;\n",
       "    }\n",
       "\n",
       "    .dataframe tbody tr th {\n",
       "        vertical-align: top;\n",
       "    }\n",
       "\n",
       "    .dataframe thead th {\n",
       "        text-align: right;\n",
       "    }\n",
       "</style>\n",
       "<table border=\"1\" class=\"dataframe\">\n",
       "  <thead>\n",
       "    <tr style=\"text-align: right;\">\n",
       "      <th></th>\n",
       "      <th>target</th>\n",
       "      <th>recency</th>\n",
       "      <th>frequency</th>\n",
       "      <th>monetary</th>\n",
       "      <th>1year</th>\n",
       "      <th>1.5year</th>\n",
       "      <th>6monthscost</th>\n",
       "      <th>1.5yearcost</th>\n",
       "      <th>Prob</th>\n",
       "      <th>pred_outcome</th>\n",
       "    </tr>\n",
       "    <tr>\n",
       "      <th>CustomerID</th>\n",
       "      <th></th>\n",
       "      <th></th>\n",
       "      <th></th>\n",
       "      <th></th>\n",
       "      <th></th>\n",
       "      <th></th>\n",
       "      <th></th>\n",
       "      <th></th>\n",
       "      <th></th>\n",
       "      <th></th>\n",
       "    </tr>\n",
       "  </thead>\n",
       "  <tbody>\n",
       "    <tr>\n",
       "      <th>3143</th>\n",
       "      <td>0</td>\n",
       "      <td>487</td>\n",
       "      <td>3</td>\n",
       "      <td>541.75</td>\n",
       "      <td>0.0</td>\n",
       "      <td>3.0</td>\n",
       "      <td>0.0</td>\n",
       "      <td>541.75</td>\n",
       "      <td>0.001802</td>\n",
       "      <td>0</td>\n",
       "    </tr>\n",
       "    <tr>\n",
       "      <th>9079</th>\n",
       "      <td>1</td>\n",
       "      <td>234</td>\n",
       "      <td>6</td>\n",
       "      <td>1018.50</td>\n",
       "      <td>6.0</td>\n",
       "      <td>6.0</td>\n",
       "      <td>0.0</td>\n",
       "      <td>1018.50</td>\n",
       "      <td>0.086197</td>\n",
       "      <td>0</td>\n",
       "    </tr>\n",
       "    <tr>\n",
       "      <th>5432</th>\n",
       "      <td>0</td>\n",
       "      <td>262</td>\n",
       "      <td>2</td>\n",
       "      <td>402.00</td>\n",
       "      <td>2.0</td>\n",
       "      <td>2.0</td>\n",
       "      <td>0.0</td>\n",
       "      <td>402.00</td>\n",
       "      <td>0.043594</td>\n",
       "      <td>0</td>\n",
       "    </tr>\n",
       "    <tr>\n",
       "      <th>1106</th>\n",
       "      <td>0</td>\n",
       "      <td>631</td>\n",
       "      <td>1</td>\n",
       "      <td>260.75</td>\n",
       "      <td>0.0</td>\n",
       "      <td>0.0</td>\n",
       "      <td>0.0</td>\n",
       "      <td>0.00</td>\n",
       "      <td>0.000285</td>\n",
       "      <td>0</td>\n",
       "    </tr>\n",
       "    <tr>\n",
       "      <th>7986</th>\n",
       "      <td>0</td>\n",
       "      <td>13</td>\n",
       "      <td>6</td>\n",
       "      <td>1222.50</td>\n",
       "      <td>6.0</td>\n",
       "      <td>6.0</td>\n",
       "      <td>1003.0</td>\n",
       "      <td>1222.50</td>\n",
       "      <td>0.439485</td>\n",
       "      <td>0</td>\n",
       "    </tr>\n",
       "  </tbody>\n",
       "</table>\n",
       "</div>"
      ],
      "text/plain": [
       "            target  recency  frequency  monetary  1year  1.5year  6monthscost  \\\n",
       "CustomerID                                                                      \n",
       "3143             0      487          3    541.75    0.0      3.0          0.0   \n",
       "9079             1      234          6   1018.50    6.0      6.0          0.0   \n",
       "5432             0      262          2    402.00    2.0      2.0          0.0   \n",
       "1106             0      631          1    260.75    0.0      0.0          0.0   \n",
       "7986             0       13          6   1222.50    6.0      6.0       1003.0   \n",
       "\n",
       "            1.5yearcost      Prob  pred_outcome  \n",
       "CustomerID                                       \n",
       "3143             541.75  0.001802             0  \n",
       "9079            1018.50  0.086197             0  \n",
       "5432             402.00  0.043594             0  \n",
       "1106               0.00  0.000285             0  \n",
       "7986            1222.50  0.439485             0  "
      ]
     },
     "execution_count": 110,
     "metadata": {},
     "output_type": "execute_result"
    }
   ],
   "source": [
    "# Train Data\n",
    "# (make class predictions for the testing set)- similarly\n",
    "x_pred=result.predict(x_train)\n",
    "pre=pd.DataFrame(x_pred, columns=[\"Prob\"])\n",
    "pred=pd.concat([y_train,x_train,pre], axis=1)\n",
    "import numpy as np\n",
    "pred[\"pred_outcome\"]=np.where(pred.Prob >= 0.5,1,0)\n",
    "pred.head()"
   ]
  },
  {
   "cell_type": "code",
   "execution_count": 111,
   "metadata": {},
   "outputs": [
    {
     "data": {
      "text/html": [
       "<div>\n",
       "<style scoped>\n",
       "    .dataframe tbody tr th:only-of-type {\n",
       "        vertical-align: middle;\n",
       "    }\n",
       "\n",
       "    .dataframe tbody tr th {\n",
       "        vertical-align: top;\n",
       "    }\n",
       "\n",
       "    .dataframe thead th {\n",
       "        text-align: right;\n",
       "    }\n",
       "</style>\n",
       "<table border=\"1\" class=\"dataframe\">\n",
       "  <thead>\n",
       "    <tr style=\"text-align: right;\">\n",
       "      <th>pred_outcome</th>\n",
       "      <th>0</th>\n",
       "      <th>1</th>\n",
       "    </tr>\n",
       "    <tr>\n",
       "      <th>target</th>\n",
       "      <th></th>\n",
       "      <th></th>\n",
       "    </tr>\n",
       "  </thead>\n",
       "  <tbody>\n",
       "    <tr>\n",
       "      <th>0</th>\n",
       "      <td>6639</td>\n",
       "      <td>75</td>\n",
       "    </tr>\n",
       "    <tr>\n",
       "      <th>1</th>\n",
       "      <td>614</td>\n",
       "      <td>115</td>\n",
       "    </tr>\n",
       "  </tbody>\n",
       "</table>\n",
       "</div>"
      ],
      "text/plain": [
       "pred_outcome     0    1\n",
       "target                 \n",
       "0             6639   75\n",
       "1              614  115"
      ]
     },
     "execution_count": 111,
     "metadata": {},
     "output_type": "execute_result"
    }
   ],
   "source": [
    "pd.crosstab(pred.target, pred.pred_outcome)"
   ]
  },
  {
   "cell_type": "code",
   "execution_count": 112,
   "metadata": {},
   "outputs": [
    {
     "data": {
      "text/plain": [
       "CustomerID\n",
       "3143    0.001802\n",
       "9079    0.086197\n",
       "5432    0.043594\n",
       "1106    0.000285\n",
       "7986    0.439485\n",
       "dtype: float64"
      ]
     },
     "execution_count": 112,
     "metadata": {},
     "output_type": "execute_result"
    }
   ],
   "source": [
    "x_pred.head() #predicted values based on our model -( on test dataset)"
   ]
  },
  {
   "cell_type": "code",
   "execution_count": 113,
   "metadata": {},
   "outputs": [
    {
     "data": {
      "text/html": [
       "<div>\n",
       "<style scoped>\n",
       "    .dataframe tbody tr th:only-of-type {\n",
       "        vertical-align: middle;\n",
       "    }\n",
       "\n",
       "    .dataframe tbody tr th {\n",
       "        vertical-align: top;\n",
       "    }\n",
       "\n",
       "    .dataframe thead th {\n",
       "        text-align: right;\n",
       "    }\n",
       "</style>\n",
       "<table border=\"1\" class=\"dataframe\">\n",
       "  <thead>\n",
       "    <tr style=\"text-align: right;\">\n",
       "      <th></th>\n",
       "      <th>Prob</th>\n",
       "    </tr>\n",
       "    <tr>\n",
       "      <th>CustomerID</th>\n",
       "      <th></th>\n",
       "    </tr>\n",
       "  </thead>\n",
       "  <tbody>\n",
       "    <tr>\n",
       "      <th>3143</th>\n",
       "      <td>0.001802</td>\n",
       "    </tr>\n",
       "    <tr>\n",
       "      <th>9079</th>\n",
       "      <td>0.086197</td>\n",
       "    </tr>\n",
       "    <tr>\n",
       "      <th>5432</th>\n",
       "      <td>0.043594</td>\n",
       "    </tr>\n",
       "    <tr>\n",
       "      <th>1106</th>\n",
       "      <td>0.000285</td>\n",
       "    </tr>\n",
       "    <tr>\n",
       "      <th>7986</th>\n",
       "      <td>0.439485</td>\n",
       "    </tr>\n",
       "  </tbody>\n",
       "</table>\n",
       "</div>"
      ],
      "text/plain": [
       "                Prob\n",
       "CustomerID          \n",
       "3143        0.001802\n",
       "9079        0.086197\n",
       "5432        0.043594\n",
       "1106        0.000285\n",
       "7986        0.439485"
      ]
     },
     "execution_count": 113,
     "metadata": {},
     "output_type": "execute_result"
    }
   ],
   "source": [
    "pre.head() # creating another dataframe as pre and giving the columns name for probablity value as 'prob'"
   ]
  },
  {
   "cell_type": "code",
   "execution_count": 114,
   "metadata": {},
   "outputs": [
    {
     "data": {
      "text/html": [
       "<div>\n",
       "<style scoped>\n",
       "    .dataframe tbody tr th:only-of-type {\n",
       "        vertical-align: middle;\n",
       "    }\n",
       "\n",
       "    .dataframe tbody tr th {\n",
       "        vertical-align: top;\n",
       "    }\n",
       "\n",
       "    .dataframe thead th {\n",
       "        text-align: right;\n",
       "    }\n",
       "</style>\n",
       "<table border=\"1\" class=\"dataframe\">\n",
       "  <thead>\n",
       "    <tr style=\"text-align: right;\">\n",
       "      <th></th>\n",
       "      <th>target</th>\n",
       "      <th>recency</th>\n",
       "      <th>frequency</th>\n",
       "      <th>monetary</th>\n",
       "      <th>1year</th>\n",
       "      <th>1.5year</th>\n",
       "      <th>6monthscost</th>\n",
       "      <th>1.5yearcost</th>\n",
       "      <th>Prob</th>\n",
       "      <th>pred_outcome</th>\n",
       "    </tr>\n",
       "    <tr>\n",
       "      <th>CustomerID</th>\n",
       "      <th></th>\n",
       "      <th></th>\n",
       "      <th></th>\n",
       "      <th></th>\n",
       "      <th></th>\n",
       "      <th></th>\n",
       "      <th></th>\n",
       "      <th></th>\n",
       "      <th></th>\n",
       "      <th></th>\n",
       "    </tr>\n",
       "  </thead>\n",
       "  <tbody>\n",
       "    <tr>\n",
       "      <th>3143</th>\n",
       "      <td>0</td>\n",
       "      <td>487</td>\n",
       "      <td>3</td>\n",
       "      <td>541.75</td>\n",
       "      <td>0.0</td>\n",
       "      <td>3.0</td>\n",
       "      <td>0.0</td>\n",
       "      <td>541.75</td>\n",
       "      <td>0.001802</td>\n",
       "      <td>0</td>\n",
       "    </tr>\n",
       "    <tr>\n",
       "      <th>9079</th>\n",
       "      <td>1</td>\n",
       "      <td>234</td>\n",
       "      <td>6</td>\n",
       "      <td>1018.50</td>\n",
       "      <td>6.0</td>\n",
       "      <td>6.0</td>\n",
       "      <td>0.0</td>\n",
       "      <td>1018.50</td>\n",
       "      <td>0.086197</td>\n",
       "      <td>0</td>\n",
       "    </tr>\n",
       "    <tr>\n",
       "      <th>5432</th>\n",
       "      <td>0</td>\n",
       "      <td>262</td>\n",
       "      <td>2</td>\n",
       "      <td>402.00</td>\n",
       "      <td>2.0</td>\n",
       "      <td>2.0</td>\n",
       "      <td>0.0</td>\n",
       "      <td>402.00</td>\n",
       "      <td>0.043594</td>\n",
       "      <td>0</td>\n",
       "    </tr>\n",
       "    <tr>\n",
       "      <th>1106</th>\n",
       "      <td>0</td>\n",
       "      <td>631</td>\n",
       "      <td>1</td>\n",
       "      <td>260.75</td>\n",
       "      <td>0.0</td>\n",
       "      <td>0.0</td>\n",
       "      <td>0.0</td>\n",
       "      <td>0.00</td>\n",
       "      <td>0.000285</td>\n",
       "      <td>0</td>\n",
       "    </tr>\n",
       "    <tr>\n",
       "      <th>7986</th>\n",
       "      <td>0</td>\n",
       "      <td>13</td>\n",
       "      <td>6</td>\n",
       "      <td>1222.50</td>\n",
       "      <td>6.0</td>\n",
       "      <td>6.0</td>\n",
       "      <td>1003.0</td>\n",
       "      <td>1222.50</td>\n",
       "      <td>0.439485</td>\n",
       "      <td>0</td>\n",
       "    </tr>\n",
       "  </tbody>\n",
       "</table>\n",
       "</div>"
      ],
      "text/plain": [
       "            target  recency  frequency  monetary  1year  1.5year  6monthscost  \\\n",
       "CustomerID                                                                      \n",
       "3143             0      487          3    541.75    0.0      3.0          0.0   \n",
       "9079             1      234          6   1018.50    6.0      6.0          0.0   \n",
       "5432             0      262          2    402.00    2.0      2.0          0.0   \n",
       "1106             0      631          1    260.75    0.0      0.0          0.0   \n",
       "7986             0       13          6   1222.50    6.0      6.0       1003.0   \n",
       "\n",
       "            1.5yearcost      Prob  pred_outcome  \n",
       "CustomerID                                       \n",
       "3143             541.75  0.001802             0  \n",
       "9079            1018.50  0.086197             0  \n",
       "5432             402.00  0.043594             0  \n",
       "1106               0.00  0.000285             0  \n",
       "7986            1222.50  0.439485             0  "
      ]
     },
     "execution_count": 114,
     "metadata": {},
     "output_type": "execute_result"
    }
   ],
   "source": [
    "#pred=pd.concat([y_train,x_train,pre], axis=1)- here creating new called datafemae called pred- \n",
    "#this contains our target and all\n",
    "#all other significant avariable and new created dataframe 'pre'(which contains predicted value on our dataset)\n",
    "\n",
    "#pred[\"pred_outcome\"]=np.where(pred.Prob >= 0.5,1,0)\n",
    "# here we are checking whether prob predicted is greater than 0.5 r not add that to new column called 'pred_outcome'\n",
    "pred.head()"
   ]
  },
  {
   "cell_type": "code",
   "execution_count": 115,
   "metadata": {},
   "outputs": [
    {
     "data": {
      "text/html": [
       "<div>\n",
       "<style scoped>\n",
       "    .dataframe tbody tr th:only-of-type {\n",
       "        vertical-align: middle;\n",
       "    }\n",
       "\n",
       "    .dataframe tbody tr th {\n",
       "        vertical-align: top;\n",
       "    }\n",
       "\n",
       "    .dataframe thead th {\n",
       "        text-align: right;\n",
       "    }\n",
       "</style>\n",
       "<table border=\"1\" class=\"dataframe\">\n",
       "  <thead>\n",
       "    <tr style=\"text-align: right;\">\n",
       "      <th>pred_outcome</th>\n",
       "      <th>0</th>\n",
       "      <th>1</th>\n",
       "    </tr>\n",
       "    <tr>\n",
       "      <th>target</th>\n",
       "      <th></th>\n",
       "      <th></th>\n",
       "    </tr>\n",
       "  </thead>\n",
       "  <tbody>\n",
       "    <tr>\n",
       "      <th>0</th>\n",
       "      <td>6639</td>\n",
       "      <td>75</td>\n",
       "    </tr>\n",
       "    <tr>\n",
       "      <th>1</th>\n",
       "      <td>614</td>\n",
       "      <td>115</td>\n",
       "    </tr>\n",
       "  </tbody>\n",
       "</table>\n",
       "</div>"
      ],
      "text/plain": [
       "pred_outcome     0    1\n",
       "target                 \n",
       "0             6639   75\n",
       "1              614  115"
      ]
     },
     "execution_count": 115,
     "metadata": {},
     "output_type": "execute_result"
    }
   ],
   "source": [
    "pd.crosstab(pred.target, pred.pred_outcome)"
   ]
  },
  {
   "cell_type": "code",
   "execution_count": 116,
   "metadata": {},
   "outputs": [
    {
     "data": {
      "text/plain": [
       "0.15775034293552812"
      ]
     },
     "execution_count": 116,
     "metadata": {},
     "output_type": "execute_result"
    }
   ],
   "source": [
    "#sensivity\n",
    "115/(614+115)"
   ]
  },
  {
   "cell_type": "code",
   "execution_count": 117,
   "metadata": {},
   "outputs": [
    {
     "data": {
      "text/plain": [
       "0.9888293118856122"
      ]
     },
     "execution_count": 117,
     "metadata": {},
     "output_type": "execute_result"
    }
   ],
   "source": [
    "#sepcificity\n",
    "6639/(6639+75)"
   ]
  },
  {
   "cell_type": "code",
   "execution_count": 118,
   "metadata": {},
   "outputs": [
    {
     "data": {
      "text/plain": [
       "0.9074297998119037"
      ]
     },
     "execution_count": 118,
     "metadata": {},
     "output_type": "execute_result"
    }
   ],
   "source": [
    "(6639+115)/(6639+75+614+115)"
   ]
  },
  {
   "cell_type": "markdown",
   "metadata": {},
   "source": [
    "# Logistic regression Model\n",
    "###### using sklearn"
   ]
  },
  {
   "cell_type": "code",
   "execution_count": 119,
   "metadata": {},
   "outputs": [
    {
     "name": "stderr",
     "output_type": "stream",
     "text": [
      "C:\\Users\\BrainTree\\Anaconda3\\lib\\site-packages\\sklearn\\linear_model\\logistic.py:433: FutureWarning: Default solver will be changed to 'lbfgs' in 0.22. Specify a solver to silence this warning.\n",
      "  FutureWarning)\n",
      "C:\\Users\\BrainTree\\Anaconda3\\lib\\site-packages\\sklearn\\utils\\validation.py:761: DataConversionWarning: A column-vector y was passed when a 1d array was expected. Please change the shape of y to (n_samples, ), for example using ravel().\n",
      "  y = column_or_1d(y, warn=True)\n"
     ]
    },
    {
     "data": {
      "text/plain": [
       "LogisticRegression(C=1.0, class_weight=None, dual=False, fit_intercept=True,\n",
       "          intercept_scaling=1, max_iter=100, multi_class='warn',\n",
       "          n_jobs=None, penalty='l2', random_state=None, solver='warn',\n",
       "          tol=0.0001, verbose=0, warm_start=False)"
      ]
     },
     "execution_count": 119,
     "metadata": {},
     "output_type": "execute_result"
    }
   ],
   "source": [
    "# train a logistic regression model on the training set\n",
    "from sklearn.linear_model import LogisticRegression\n",
    "logreg = LogisticRegression()\n",
    "logreg.fit(x_train, y_train)"
   ]
  },
  {
   "cell_type": "markdown",
   "metadata": {},
   "source": [
    "## 1.confusion matrix"
   ]
  },
  {
   "cell_type": "code",
   "execution_count": 120,
   "metadata": {},
   "outputs": [],
   "source": [
    "y_pred_class_train = logreg.predict(x_train)"
   ]
  },
  {
   "cell_type": "code",
   "execution_count": 121,
   "metadata": {},
   "outputs": [
    {
     "name": "stdout",
     "output_type": "stream",
     "text": [
      "col_0      0   1\n",
      "target          \n",
      "0       6667  47\n",
      "1        642  87\n"
     ]
    }
   ],
   "source": [
    "ct=pd.crosstab(y_train['target'],y_pred_class_train)\n",
    "print(ct)"
   ]
  },
  {
   "cell_type": "code",
   "execution_count": 122,
   "metadata": {},
   "outputs": [
    {
     "data": {
      "text/plain": [
       "array([0, 0, 0, ..., 0, 0, 0])"
      ]
     },
     "execution_count": 122,
     "metadata": {},
     "output_type": "execute_result"
    }
   ],
   "source": [
    "y_pred_class_train"
   ]
  },
  {
   "cell_type": "code",
   "execution_count": 123,
   "metadata": {},
   "outputs": [
    {
     "data": {
      "text/plain": [
       "0.11934156378600823"
      ]
     },
     "execution_count": 123,
     "metadata": {},
     "output_type": "execute_result"
    }
   ],
   "source": [
    "#sensivity\n",
    "87/(87+642)"
   ]
  },
  {
   "cell_type": "code",
   "execution_count": 124,
   "metadata": {},
   "outputs": [
    {
     "data": {
      "text/plain": [
       "0.9929997021149836"
      ]
     },
     "execution_count": 124,
     "metadata": {},
     "output_type": "execute_result"
    }
   ],
   "source": [
    "#specificity\n",
    "6667/(6667+47)"
   ]
  },
  {
   "cell_type": "code",
   "execution_count": 125,
   "metadata": {},
   "outputs": [
    {
     "data": {
      "text/plain": [
       "0.9074297998119037"
      ]
     },
     "execution_count": 125,
     "metadata": {},
     "output_type": "execute_result"
    }
   ],
   "source": [
    "#Accuracy\n",
    "(87+6667)/(6667+87+642+47)"
   ]
  },
  {
   "cell_type": "code",
   "execution_count": 126,
   "metadata": {},
   "outputs": [
    {
     "data": {
      "text/plain": [
       "array([[0.99086165, 0.00913835],\n",
       "       [0.90601346, 0.09398654],\n",
       "       [0.94821356, 0.05178644],\n",
       "       [0.99585812, 0.00414188],\n",
       "       [0.75077555, 0.24922445],\n",
       "       [0.94353127, 0.05646873],\n",
       "       [0.98369436, 0.01630564],\n",
       "       [0.82570147, 0.17429853],\n",
       "       [0.92926143, 0.07073857],\n",
       "       [0.91510842, 0.08489158]])"
      ]
     },
     "execution_count": 126,
     "metadata": {},
     "output_type": "execute_result"
    }
   ],
   "source": [
    "# print the first 10 predicted probabilities of class membership\n",
    "logreg.predict_proba(x_train)[0:10, :]"
   ]
  },
  {
   "cell_type": "code",
   "execution_count": 127,
   "metadata": {},
   "outputs": [],
   "source": [
    "# store the predicted probabilities for class 1\n",
    "y_pred_prob_train = logreg.predict_proba(x_train)[:, 1]"
   ]
  },
  {
   "cell_type": "code",
   "execution_count": 128,
   "metadata": {},
   "outputs": [
    {
     "data": {
      "text/plain": [
       "array([0.00913835, 0.09398654, 0.05178644, ..., 0.16318415, 0.07533464,\n",
       "       0.19344846])"
      ]
     },
     "execution_count": 128,
     "metadata": {},
     "output_type": "execute_result"
    }
   ],
   "source": [
    "y_pred_prob_train"
   ]
  },
  {
   "cell_type": "markdown",
   "metadata": {},
   "source": [
    "# 2. ROC curve"
   ]
  },
  {
   "cell_type": "markdown",
   "metadata": {},
   "source": [
    "### ROC curve is ploting between Sensitivity and 1-Specificity"
   ]
  },
  {
   "cell_type": "code",
   "execution_count": 129,
   "metadata": {},
   "outputs": [
    {
     "name": "stdout",
     "output_type": "stream",
     "text": [
      "0.7977207505721722\n"
     ]
    },
    {
     "data": {
      "image/png": "[encoded data removed]",
      "text/plain": [
       "<matplotlib.figure.Figure at 0x11335e48>"
      ]
     },
     "metadata": {
      "needs_background": "light"
     },
     "output_type": "display_data"
    }
   ],
   "source": [
    "# IMPORTANT: first argument is true values, second argument is predicted probabilities\n",
    "from sklearn import metrics\n",
    "fpr, tpr, thresholds = metrics.roc_curve(y_train['target'], y_pred_prob_train)\n",
    "\n",
    "plt.plot(fpr, tpr)\n",
    "plt.xlim([0.0, 1.0])\n",
    "plt.ylim([0.0, 1.0])\n",
    "plt.title('ROC curve for customer appearance')\n",
    "plt.xlabel('False Positive Rate (1 - Specificity)')\n",
    "plt.ylabel('True Positive Rate (Sensitivity)')\n",
    "plt.grid(True)\n",
    "\n",
    "\n",
    "print(metrics.roc_auc_score(y_train['target'], y_pred_prob_train))\n",
    "\n"
   ]
  },
  {
   "cell_type": "markdown",
   "metadata": {},
   "source": [
    "# KS Statistics"
   ]
  },
  {
   "cell_type": "code",
   "execution_count": 130,
   "metadata": {},
   "outputs": [],
   "source": [
    "X_train_Score=logreg.predict_proba(x_train)\n",
    "X_train_Score=pd.DataFrame(X_train_Score)\n",
    "X_train_Score.columns = ['pred0', 'pred1']"
   ]
  },
  {
   "cell_type": "code",
   "execution_count": 131,
   "metadata": {},
   "outputs": [
    {
     "data": {
      "text/html": [
       "<div>\n",
       "<style scoped>\n",
       "    .dataframe tbody tr th:only-of-type {\n",
       "        vertical-align: middle;\n",
       "    }\n",
       "\n",
       "    .dataframe tbody tr th {\n",
       "        vertical-align: top;\n",
       "    }\n",
       "\n",
       "    .dataframe thead th {\n",
       "        text-align: right;\n",
       "    }\n",
       "</style>\n",
       "<table border=\"1\" class=\"dataframe\">\n",
       "  <thead>\n",
       "    <tr style=\"text-align: right;\">\n",
       "      <th></th>\n",
       "      <th>pred0</th>\n",
       "      <th>pred1</th>\n",
       "    </tr>\n",
       "  </thead>\n",
       "  <tbody>\n",
       "    <tr>\n",
       "      <th>0</th>\n",
       "      <td>0.990862</td>\n",
       "      <td>0.009138</td>\n",
       "    </tr>\n",
       "    <tr>\n",
       "      <th>1</th>\n",
       "      <td>0.906013</td>\n",
       "      <td>0.093987</td>\n",
       "    </tr>\n",
       "  </tbody>\n",
       "</table>\n",
       "</div>"
      ],
      "text/plain": [
       "      pred0     pred1\n",
       "0  0.990862  0.009138\n",
       "1  0.906013  0.093987"
      ]
     },
     "execution_count": 131,
     "metadata": {},
     "output_type": "execute_result"
    }
   ],
   "source": [
    "X_train_Score.head(2)"
   ]
  },
  {
   "cell_type": "code",
   "execution_count": 132,
   "metadata": {},
   "outputs": [
    {
     "name": "stdout",
     "output_type": "stream",
     "text": [
      "(7443, 7)\n",
      "(7443, 1)\n",
      "(7443, 2)\n",
      "(7443, 10)\n"
     ]
    }
   ],
   "source": [
    "X_train_Score1 = pd.concat([x_train.reset_index(drop=True),\n",
    "                           X_train_Score,pd.DataFrame(y_train).reset_index(drop=True)], axis=1)\n",
    "\n",
    "print (x_train.shape)\n",
    "print (y_train.shape)\n",
    "print (X_train_Score.shape)\n",
    "print (X_train_Score1.shape)"
   ]
  },
  {
   "cell_type": "code",
   "execution_count": 133,
   "metadata": {},
   "outputs": [
    {
     "data": {
      "text/html": [
       "<div>\n",
       "<style scoped>\n",
       "    .dataframe tbody tr th:only-of-type {\n",
       "        vertical-align: middle;\n",
       "    }\n",
       "\n",
       "    .dataframe tbody tr th {\n",
       "        vertical-align: top;\n",
       "    }\n",
       "\n",
       "    .dataframe thead th {\n",
       "        text-align: right;\n",
       "    }\n",
       "</style>\n",
       "<table border=\"1\" class=\"dataframe\">\n",
       "  <thead>\n",
       "    <tr style=\"text-align: right;\">\n",
       "      <th></th>\n",
       "      <th>recency</th>\n",
       "      <th>frequency</th>\n",
       "      <th>monetary</th>\n",
       "      <th>1year</th>\n",
       "      <th>1.5year</th>\n",
       "      <th>6monthscost</th>\n",
       "      <th>1.5yearcost</th>\n",
       "      <th>pred0</th>\n",
       "      <th>pred1</th>\n",
       "      <th>target</th>\n",
       "    </tr>\n",
       "  </thead>\n",
       "  <tbody>\n",
       "    <tr>\n",
       "      <th>0</th>\n",
       "      <td>487</td>\n",
       "      <td>3</td>\n",
       "      <td>541.75</td>\n",
       "      <td>0.0</td>\n",
       "      <td>3.0</td>\n",
       "      <td>0.0</td>\n",
       "      <td>541.75</td>\n",
       "      <td>0.990862</td>\n",
       "      <td>0.009138</td>\n",
       "      <td>0</td>\n",
       "    </tr>\n",
       "    <tr>\n",
       "      <th>1</th>\n",
       "      <td>234</td>\n",
       "      <td>6</td>\n",
       "      <td>1018.50</td>\n",
       "      <td>6.0</td>\n",
       "      <td>6.0</td>\n",
       "      <td>0.0</td>\n",
       "      <td>1018.50</td>\n",
       "      <td>0.906013</td>\n",
       "      <td>0.093987</td>\n",
       "      <td>1</td>\n",
       "    </tr>\n",
       "  </tbody>\n",
       "</table>\n",
       "</div>"
      ],
      "text/plain": [
       "   recency  frequency  monetary  1year  1.5year  6monthscost  1.5yearcost  \\\n",
       "0      487          3    541.75    0.0      3.0          0.0       541.75   \n",
       "1      234          6   1018.50    6.0      6.0          0.0      1018.50   \n",
       "\n",
       "      pred0     pred1  target  \n",
       "0  0.990862  0.009138       0  \n",
       "1  0.906013  0.093987       1  "
      ]
     },
     "execution_count": 133,
     "metadata": {},
     "output_type": "execute_result"
    }
   ],
   "source": [
    "X_train_Score1.head(2)"
   ]
  },
  {
   "cell_type": "code",
   "execution_count": 134,
   "metadata": {},
   "outputs": [
    {
     "data": {
      "text/html": [
       "<div>\n",
       "<style scoped>\n",
       "    .dataframe tbody tr th:only-of-type {\n",
       "        vertical-align: middle;\n",
       "    }\n",
       "\n",
       "    .dataframe tbody tr th {\n",
       "        vertical-align: top;\n",
       "    }\n",
       "\n",
       "    .dataframe thead th {\n",
       "        text-align: right;\n",
       "    }\n",
       "</style>\n",
       "<table border=\"1\" class=\"dataframe\">\n",
       "  <thead>\n",
       "    <tr style=\"text-align: right;\">\n",
       "      <th></th>\n",
       "      <th>recency</th>\n",
       "      <th>frequency</th>\n",
       "      <th>monetary</th>\n",
       "      <th>1year</th>\n",
       "      <th>1.5year</th>\n",
       "      <th>6monthscost</th>\n",
       "      <th>1.5yearcost</th>\n",
       "      <th>pred0</th>\n",
       "      <th>pred1</th>\n",
       "      <th>target</th>\n",
       "      <th>decile</th>\n",
       "    </tr>\n",
       "  </thead>\n",
       "  <tbody>\n",
       "    <tr>\n",
       "      <th>0</th>\n",
       "      <td>487</td>\n",
       "      <td>3</td>\n",
       "      <td>541.75</td>\n",
       "      <td>0.0</td>\n",
       "      <td>3.0</td>\n",
       "      <td>0.00</td>\n",
       "      <td>541.75</td>\n",
       "      <td>0.990862</td>\n",
       "      <td>0.009138</td>\n",
       "      <td>0</td>\n",
       "      <td>9</td>\n",
       "    </tr>\n",
       "    <tr>\n",
       "      <th>1</th>\n",
       "      <td>234</td>\n",
       "      <td>6</td>\n",
       "      <td>1018.50</td>\n",
       "      <td>6.0</td>\n",
       "      <td>6.0</td>\n",
       "      <td>0.00</td>\n",
       "      <td>1018.50</td>\n",
       "      <td>0.906013</td>\n",
       "      <td>0.093987</td>\n",
       "      <td>1</td>\n",
       "      <td>4</td>\n",
       "    </tr>\n",
       "    <tr>\n",
       "      <th>2</th>\n",
       "      <td>262</td>\n",
       "      <td>2</td>\n",
       "      <td>402.00</td>\n",
       "      <td>2.0</td>\n",
       "      <td>2.0</td>\n",
       "      <td>0.00</td>\n",
       "      <td>402.00</td>\n",
       "      <td>0.948214</td>\n",
       "      <td>0.051786</td>\n",
       "      <td>0</td>\n",
       "      <td>7</td>\n",
       "    </tr>\n",
       "    <tr>\n",
       "      <th>3</th>\n",
       "      <td>631</td>\n",
       "      <td>1</td>\n",
       "      <td>260.75</td>\n",
       "      <td>0.0</td>\n",
       "      <td>0.0</td>\n",
       "      <td>0.00</td>\n",
       "      <td>0.00</td>\n",
       "      <td>0.995858</td>\n",
       "      <td>0.004142</td>\n",
       "      <td>0</td>\n",
       "      <td>10</td>\n",
       "    </tr>\n",
       "    <tr>\n",
       "      <th>4</th>\n",
       "      <td>13</td>\n",
       "      <td>6</td>\n",
       "      <td>1222.50</td>\n",
       "      <td>6.0</td>\n",
       "      <td>6.0</td>\n",
       "      <td>1003.00</td>\n",
       "      <td>1222.50</td>\n",
       "      <td>0.750776</td>\n",
       "      <td>0.249224</td>\n",
       "      <td>0</td>\n",
       "      <td>1</td>\n",
       "    </tr>\n",
       "    <tr>\n",
       "      <th>5</th>\n",
       "      <td>228</td>\n",
       "      <td>1</td>\n",
       "      <td>274.50</td>\n",
       "      <td>1.0</td>\n",
       "      <td>1.0</td>\n",
       "      <td>0.00</td>\n",
       "      <td>274.50</td>\n",
       "      <td>0.943531</td>\n",
       "      <td>0.056469</td>\n",
       "      <td>0</td>\n",
       "      <td>6</td>\n",
       "    </tr>\n",
       "    <tr>\n",
       "      <th>6</th>\n",
       "      <td>398</td>\n",
       "      <td>2</td>\n",
       "      <td>354.50</td>\n",
       "      <td>0.0</td>\n",
       "      <td>2.0</td>\n",
       "      <td>0.00</td>\n",
       "      <td>354.50</td>\n",
       "      <td>0.983694</td>\n",
       "      <td>0.016306</td>\n",
       "      <td>0</td>\n",
       "      <td>8</td>\n",
       "    </tr>\n",
       "    <tr>\n",
       "      <th>7</th>\n",
       "      <td>37</td>\n",
       "      <td>3</td>\n",
       "      <td>693.75</td>\n",
       "      <td>3.0</td>\n",
       "      <td>3.0</td>\n",
       "      <td>693.75</td>\n",
       "      <td>693.75</td>\n",
       "      <td>0.825701</td>\n",
       "      <td>0.174299</td>\n",
       "      <td>0</td>\n",
       "      <td>2</td>\n",
       "    </tr>\n",
       "    <tr>\n",
       "      <th>8</th>\n",
       "      <td>177</td>\n",
       "      <td>1</td>\n",
       "      <td>204.50</td>\n",
       "      <td>1.0</td>\n",
       "      <td>1.0</td>\n",
       "      <td>204.50</td>\n",
       "      <td>204.50</td>\n",
       "      <td>0.929261</td>\n",
       "      <td>0.070739</td>\n",
       "      <td>0</td>\n",
       "      <td>5</td>\n",
       "    </tr>\n",
       "    <tr>\n",
       "      <th>9</th>\n",
       "      <td>144</td>\n",
       "      <td>1</td>\n",
       "      <td>219.50</td>\n",
       "      <td>1.0</td>\n",
       "      <td>1.0</td>\n",
       "      <td>219.50</td>\n",
       "      <td>219.50</td>\n",
       "      <td>0.915108</td>\n",
       "      <td>0.084892</td>\n",
       "      <td>0</td>\n",
       "      <td>5</td>\n",
       "    </tr>\n",
       "  </tbody>\n",
       "</table>\n",
       "</div>"
      ],
      "text/plain": [
       "   recency  frequency  monetary  1year  1.5year  6monthscost  1.5yearcost  \\\n",
       "0      487          3    541.75    0.0      3.0         0.00       541.75   \n",
       "1      234          6   1018.50    6.0      6.0         0.00      1018.50   \n",
       "2      262          2    402.00    2.0      2.0         0.00       402.00   \n",
       "3      631          1    260.75    0.0      0.0         0.00         0.00   \n",
       "4       13          6   1222.50    6.0      6.0      1003.00      1222.50   \n",
       "5      228          1    274.50    1.0      1.0         0.00       274.50   \n",
       "6      398          2    354.50    0.0      2.0         0.00       354.50   \n",
       "7       37          3    693.75    3.0      3.0       693.75       693.75   \n",
       "8      177          1    204.50    1.0      1.0       204.50       204.50   \n",
       "9      144          1    219.50    1.0      1.0       219.50       219.50   \n",
       "\n",
       "      pred0     pred1  target decile  \n",
       "0  0.990862  0.009138       0      9  \n",
       "1  0.906013  0.093987       1      4  \n",
       "2  0.948214  0.051786       0      7  \n",
       "3  0.995858  0.004142       0     10  \n",
       "4  0.750776  0.249224       0      1  \n",
       "5  0.943531  0.056469       0      6  \n",
       "6  0.983694  0.016306       0      8  \n",
       "7  0.825701  0.174299       0      2  \n",
       "8  0.929261  0.070739       0      5  \n",
       "9  0.915108  0.084892       0      5  "
      ]
     },
     "execution_count": 134,
     "metadata": {},
     "output_type": "execute_result"
    }
   ],
   "source": [
    "X_train_Score1['decile'] = pd.qcut(X_train_Score1.pred1, 10, labels=list(range(10,0,-1)))\n",
    "X_train_Score1.head(10)"
   ]
  },
  {
   "cell_type": "code",
   "execution_count": 135,
   "metadata": {},
   "outputs": [],
   "source": [
    "grouped = X_train_Score1.groupby('decile', as_index = False)"
   ]
  },
  {
   "cell_type": "code",
   "execution_count": 136,
   "metadata": {},
   "outputs": [
    {
     "data": {
      "text/html": [
       "<div>\n",
       "<style scoped>\n",
       "    .dataframe tbody tr th:only-of-type {\n",
       "        vertical-align: middle;\n",
       "    }\n",
       "\n",
       "    .dataframe tbody tr th {\n",
       "        vertical-align: top;\n",
       "    }\n",
       "\n",
       "    .dataframe thead tr th {\n",
       "        text-align: left;\n",
       "    }\n",
       "</style>\n",
       "<table border=\"1\" class=\"dataframe\">\n",
       "  <thead>\n",
       "    <tr>\n",
       "      <th></th>\n",
       "      <th>decile</th>\n",
       "      <th colspan=\"2\" halign=\"left\">pred1</th>\n",
       "    </tr>\n",
       "    <tr>\n",
       "      <th></th>\n",
       "      <th></th>\n",
       "      <th>amin</th>\n",
       "      <th>amax</th>\n",
       "    </tr>\n",
       "  </thead>\n",
       "  <tbody>\n",
       "    <tr>\n",
       "      <th>0</th>\n",
       "      <td>10</td>\n",
       "      <td>0.000497</td>\n",
       "      <td>0.007023</td>\n",
       "    </tr>\n",
       "    <tr>\n",
       "      <th>1</th>\n",
       "      <td>9</td>\n",
       "      <td>0.007029</td>\n",
       "      <td>0.011518</td>\n",
       "    </tr>\n",
       "    <tr>\n",
       "      <th>2</th>\n",
       "      <td>8</td>\n",
       "      <td>0.011524</td>\n",
       "      <td>0.032020</td>\n",
       "    </tr>\n",
       "    <tr>\n",
       "      <th>3</th>\n",
       "      <td>7</td>\n",
       "      <td>0.032096</td>\n",
       "      <td>0.052847</td>\n",
       "    </tr>\n",
       "    <tr>\n",
       "      <th>4</th>\n",
       "      <td>6</td>\n",
       "      <td>0.052850</td>\n",
       "      <td>0.068213</td>\n",
       "    </tr>\n",
       "    <tr>\n",
       "      <th>5</th>\n",
       "      <td>5</td>\n",
       "      <td>0.068219</td>\n",
       "      <td>0.085580</td>\n",
       "    </tr>\n",
       "    <tr>\n",
       "      <th>6</th>\n",
       "      <td>4</td>\n",
       "      <td>0.085583</td>\n",
       "      <td>0.110358</td>\n",
       "    </tr>\n",
       "    <tr>\n",
       "      <th>7</th>\n",
       "      <td>3</td>\n",
       "      <td>0.110371</td>\n",
       "      <td>0.148034</td>\n",
       "    </tr>\n",
       "    <tr>\n",
       "      <th>8</th>\n",
       "      <td>2</td>\n",
       "      <td>0.148160</td>\n",
       "      <td>0.202351</td>\n",
       "    </tr>\n",
       "    <tr>\n",
       "      <th>9</th>\n",
       "      <td>1</td>\n",
       "      <td>0.202400</td>\n",
       "      <td>0.999998</td>\n",
       "    </tr>\n",
       "  </tbody>\n",
       "</table>\n",
       "</div>"
      ],
      "text/plain": [
       "  decile     pred1          \n",
       "              amin      amax\n",
       "0     10  0.000497  0.007023\n",
       "1      9  0.007029  0.011518\n",
       "2      8  0.011524  0.032020\n",
       "3      7  0.032096  0.052847\n",
       "4      6  0.052850  0.068213\n",
       "5      5  0.068219  0.085580\n",
       "6      4  0.085583  0.110358\n",
       "7      3  0.110371  0.148034\n",
       "8      2  0.148160  0.202351\n",
       "9      1  0.202400  0.999998"
      ]
     },
     "execution_count": 136,
     "metadata": {},
     "output_type": "execute_result"
    }
   ],
   "source": [
    "import numpy as np\n",
    "grouped.agg({'pred1' : [np.min, np.max]})"
   ]
  },
  {
   "cell_type": "code",
   "execution_count": 137,
   "metadata": {},
   "outputs": [
    {
     "data": {
      "text/plain": [
       "0    10\n",
       "1     9\n",
       "2     8\n",
       "3     7\n",
       "4     6\n",
       "5     5\n",
       "6     4\n",
       "7     3\n",
       "8     2\n",
       "9     1\n",
       "Name: decile, dtype: category\n",
       "Categories (10, int64): [10 < 9 < 8 < 7 ... 4 < 3 < 2 < 1]"
      ]
     },
     "execution_count": 137,
     "metadata": {},
     "output_type": "execute_result"
    }
   ],
   "source": [
    "agg1 = grouped.min().pred1\n",
    "agg1.rename(\"min_score\", inplace=True)\n",
    "agg2 = grouped.max().pred1\n",
    "agg2.rename(\"max_score\", inplace=True)\n",
    "agg3 = grouped.count().pred1\n",
    "agg3.rename(\"total\", inplace=True)\n",
    "\n",
    "\n",
    "agg4 = grouped.sum().target\n",
    "agg4.rename(\"event\", inplace=True)\n",
    "\n",
    "\n",
    "agg5=grouped.min().decile\n",
    "agg5.rename(\"decile\", inplace=True)"
   ]
  },
  {
   "cell_type": "code",
   "execution_count": 138,
   "metadata": {},
   "outputs": [
    {
     "data": {
      "text/html": [
       "<div>\n",
       "<style scoped>\n",
       "    .dataframe tbody tr th:only-of-type {\n",
       "        vertical-align: middle;\n",
       "    }\n",
       "\n",
       "    .dataframe tbody tr th {\n",
       "        vertical-align: top;\n",
       "    }\n",
       "\n",
       "    .dataframe thead th {\n",
       "        text-align: right;\n",
       "    }\n",
       "</style>\n",
       "<table border=\"1\" class=\"dataframe\">\n",
       "  <thead>\n",
       "    <tr style=\"text-align: right;\">\n",
       "      <th></th>\n",
       "      <th>min_score</th>\n",
       "      <th>max_score</th>\n",
       "      <th>total</th>\n",
       "      <th>event</th>\n",
       "      <th>decile</th>\n",
       "      <th>non_event</th>\n",
       "    </tr>\n",
       "  </thead>\n",
       "  <tbody>\n",
       "    <tr>\n",
       "      <th>0</th>\n",
       "      <td>0.000497</td>\n",
       "      <td>0.007023</td>\n",
       "      <td>745</td>\n",
       "      <td>9</td>\n",
       "      <td>10</td>\n",
       "      <td>736</td>\n",
       "    </tr>\n",
       "    <tr>\n",
       "      <th>1</th>\n",
       "      <td>0.007029</td>\n",
       "      <td>0.011518</td>\n",
       "      <td>744</td>\n",
       "      <td>5</td>\n",
       "      <td>9</td>\n",
       "      <td>739</td>\n",
       "    </tr>\n",
       "    <tr>\n",
       "      <th>2</th>\n",
       "      <td>0.011524</td>\n",
       "      <td>0.032020</td>\n",
       "      <td>744</td>\n",
       "      <td>17</td>\n",
       "      <td>8</td>\n",
       "      <td>727</td>\n",
       "    </tr>\n",
       "    <tr>\n",
       "      <th>3</th>\n",
       "      <td>0.032096</td>\n",
       "      <td>0.052847</td>\n",
       "      <td>744</td>\n",
       "      <td>39</td>\n",
       "      <td>7</td>\n",
       "      <td>705</td>\n",
       "    </tr>\n",
       "    <tr>\n",
       "      <th>4</th>\n",
       "      <td>0.052850</td>\n",
       "      <td>0.068213</td>\n",
       "      <td>745</td>\n",
       "      <td>70</td>\n",
       "      <td>6</td>\n",
       "      <td>675</td>\n",
       "    </tr>\n",
       "    <tr>\n",
       "      <th>5</th>\n",
       "      <td>0.068219</td>\n",
       "      <td>0.085580</td>\n",
       "      <td>744</td>\n",
       "      <td>42</td>\n",
       "      <td>5</td>\n",
       "      <td>702</td>\n",
       "    </tr>\n",
       "    <tr>\n",
       "      <th>6</th>\n",
       "      <td>0.085583</td>\n",
       "      <td>0.110358</td>\n",
       "      <td>744</td>\n",
       "      <td>42</td>\n",
       "      <td>4</td>\n",
       "      <td>702</td>\n",
       "    </tr>\n",
       "    <tr>\n",
       "      <th>7</th>\n",
       "      <td>0.110371</td>\n",
       "      <td>0.148034</td>\n",
       "      <td>744</td>\n",
       "      <td>66</td>\n",
       "      <td>3</td>\n",
       "      <td>678</td>\n",
       "    </tr>\n",
       "    <tr>\n",
       "      <th>8</th>\n",
       "      <td>0.148160</td>\n",
       "      <td>0.202351</td>\n",
       "      <td>744</td>\n",
       "      <td>111</td>\n",
       "      <td>2</td>\n",
       "      <td>633</td>\n",
       "    </tr>\n",
       "    <tr>\n",
       "      <th>9</th>\n",
       "      <td>0.202400</td>\n",
       "      <td>0.999998</td>\n",
       "      <td>745</td>\n",
       "      <td>328</td>\n",
       "      <td>1</td>\n",
       "      <td>417</td>\n",
       "    </tr>\n",
       "  </tbody>\n",
       "</table>\n",
       "</div>"
      ],
      "text/plain": [
       "   min_score  max_score  total  event decile  non_event\n",
       "0   0.000497   0.007023    745      9     10        736\n",
       "1   0.007029   0.011518    744      5      9        739\n",
       "2   0.011524   0.032020    744     17      8        727\n",
       "3   0.032096   0.052847    744     39      7        705\n",
       "4   0.052850   0.068213    745     70      6        675\n",
       "5   0.068219   0.085580    744     42      5        702\n",
       "6   0.085583   0.110358    744     42      4        702\n",
       "7   0.110371   0.148034    744     66      3        678\n",
       "8   0.148160   0.202351    744    111      2        633\n",
       "9   0.202400   0.999998    745    328      1        417"
      ]
     },
     "execution_count": 138,
     "metadata": {},
     "output_type": "execute_result"
    }
   ],
   "source": [
    "ks=pd.concat([agg1,agg2,agg3,agg4,agg5], axis=1)\n",
    "ks[\"non_event\"]=ks[\"total\"] - ks[\"event\"]\n",
    "ks.head(10)"
   ]
  },
  {
   "cell_type": "code",
   "execution_count": 139,
   "metadata": {},
   "outputs": [
    {
     "data": {
      "text/html": [
       "<div>\n",
       "<style scoped>\n",
       "    .dataframe tbody tr th:only-of-type {\n",
       "        vertical-align: middle;\n",
       "    }\n",
       "\n",
       "    .dataframe tbody tr th {\n",
       "        vertical-align: top;\n",
       "    }\n",
       "\n",
       "    .dataframe thead th {\n",
       "        text-align: right;\n",
       "    }\n",
       "</style>\n",
       "<table border=\"1\" class=\"dataframe\">\n",
       "  <thead>\n",
       "    <tr style=\"text-align: right;\">\n",
       "      <th></th>\n",
       "      <th>min_score</th>\n",
       "      <th>max_score</th>\n",
       "      <th>total</th>\n",
       "      <th>event</th>\n",
       "      <th>decile</th>\n",
       "      <th>non_event</th>\n",
       "    </tr>\n",
       "  </thead>\n",
       "  <tbody>\n",
       "    <tr>\n",
       "      <th>9</th>\n",
       "      <td>0.202400</td>\n",
       "      <td>0.999998</td>\n",
       "      <td>745</td>\n",
       "      <td>328</td>\n",
       "      <td>1</td>\n",
       "      <td>417</td>\n",
       "    </tr>\n",
       "    <tr>\n",
       "      <th>8</th>\n",
       "      <td>0.148160</td>\n",
       "      <td>0.202351</td>\n",
       "      <td>744</td>\n",
       "      <td>111</td>\n",
       "      <td>2</td>\n",
       "      <td>633</td>\n",
       "    </tr>\n",
       "    <tr>\n",
       "      <th>7</th>\n",
       "      <td>0.110371</td>\n",
       "      <td>0.148034</td>\n",
       "      <td>744</td>\n",
       "      <td>66</td>\n",
       "      <td>3</td>\n",
       "      <td>678</td>\n",
       "    </tr>\n",
       "    <tr>\n",
       "      <th>6</th>\n",
       "      <td>0.085583</td>\n",
       "      <td>0.110358</td>\n",
       "      <td>744</td>\n",
       "      <td>42</td>\n",
       "      <td>4</td>\n",
       "      <td>702</td>\n",
       "    </tr>\n",
       "    <tr>\n",
       "      <th>5</th>\n",
       "      <td>0.068219</td>\n",
       "      <td>0.085580</td>\n",
       "      <td>744</td>\n",
       "      <td>42</td>\n",
       "      <td>5</td>\n",
       "      <td>702</td>\n",
       "    </tr>\n",
       "    <tr>\n",
       "      <th>4</th>\n",
       "      <td>0.052850</td>\n",
       "      <td>0.068213</td>\n",
       "      <td>745</td>\n",
       "      <td>70</td>\n",
       "      <td>6</td>\n",
       "      <td>675</td>\n",
       "    </tr>\n",
       "    <tr>\n",
       "      <th>3</th>\n",
       "      <td>0.032096</td>\n",
       "      <td>0.052847</td>\n",
       "      <td>744</td>\n",
       "      <td>39</td>\n",
       "      <td>7</td>\n",
       "      <td>705</td>\n",
       "    </tr>\n",
       "    <tr>\n",
       "      <th>2</th>\n",
       "      <td>0.011524</td>\n",
       "      <td>0.032020</td>\n",
       "      <td>744</td>\n",
       "      <td>17</td>\n",
       "      <td>8</td>\n",
       "      <td>727</td>\n",
       "    </tr>\n",
       "    <tr>\n",
       "      <th>1</th>\n",
       "      <td>0.007029</td>\n",
       "      <td>0.011518</td>\n",
       "      <td>744</td>\n",
       "      <td>5</td>\n",
       "      <td>9</td>\n",
       "      <td>739</td>\n",
       "    </tr>\n",
       "    <tr>\n",
       "      <th>0</th>\n",
       "      <td>0.000497</td>\n",
       "      <td>0.007023</td>\n",
       "      <td>745</td>\n",
       "      <td>9</td>\n",
       "      <td>10</td>\n",
       "      <td>736</td>\n",
       "    </tr>\n",
       "  </tbody>\n",
       "</table>\n",
       "</div>"
      ],
      "text/plain": [
       "   min_score  max_score  total  event decile  non_event\n",
       "9   0.202400   0.999998    745    328      1        417\n",
       "8   0.148160   0.202351    744    111      2        633\n",
       "7   0.110371   0.148034    744     66      3        678\n",
       "6   0.085583   0.110358    744     42      4        702\n",
       "5   0.068219   0.085580    744     42      5        702\n",
       "4   0.052850   0.068213    745     70      6        675\n",
       "3   0.032096   0.052847    744     39      7        705\n",
       "2   0.011524   0.032020    744     17      8        727\n",
       "1   0.007029   0.011518    744      5      9        739\n",
       "0   0.000497   0.007023    745      9     10        736"
      ]
     },
     "execution_count": 139,
     "metadata": {},
     "output_type": "execute_result"
    }
   ],
   "source": [
    "agg5 =ks.sort_values(by='decile',ascending=False)\n",
    "agg5"
   ]
  },
  {
   "cell_type": "code",
   "execution_count": 140,
   "metadata": {},
   "outputs": [
    {
     "data": {
      "text/html": [
       "<div>\n",
       "<style scoped>\n",
       "    .dataframe tbody tr th:only-of-type {\n",
       "        vertical-align: middle;\n",
       "    }\n",
       "\n",
       "    .dataframe tbody tr th {\n",
       "        vertical-align: top;\n",
       "    }\n",
       "\n",
       "    .dataframe thead th {\n",
       "        text-align: right;\n",
       "    }\n",
       "</style>\n",
       "<table border=\"1\" class=\"dataframe\">\n",
       "  <thead>\n",
       "    <tr style=\"text-align: right;\">\n",
       "      <th></th>\n",
       "      <th>min_score</th>\n",
       "      <th>max_score</th>\n",
       "      <th>total</th>\n",
       "      <th>event</th>\n",
       "      <th>decile</th>\n",
       "      <th>non_event</th>\n",
       "      <th>cum_sum_event</th>\n",
       "      <th>cum_sum_non_event</th>\n",
       "      <th>event_rate</th>\n",
       "      <th>non_event_rate</th>\n",
       "    </tr>\n",
       "  </thead>\n",
       "  <tbody>\n",
       "    <tr>\n",
       "      <th>9</th>\n",
       "      <td>0.202400</td>\n",
       "      <td>0.999998</td>\n",
       "      <td>745</td>\n",
       "      <td>328</td>\n",
       "      <td>1</td>\n",
       "      <td>417</td>\n",
       "      <td>328</td>\n",
       "      <td>417</td>\n",
       "      <td>0.449931</td>\n",
       "      <td>0.062109</td>\n",
       "    </tr>\n",
       "    <tr>\n",
       "      <th>8</th>\n",
       "      <td>0.148160</td>\n",
       "      <td>0.202351</td>\n",
       "      <td>744</td>\n",
       "      <td>111</td>\n",
       "      <td>2</td>\n",
       "      <td>633</td>\n",
       "      <td>439</td>\n",
       "      <td>1050</td>\n",
       "      <td>0.602195</td>\n",
       "      <td>0.156390</td>\n",
       "    </tr>\n",
       "    <tr>\n",
       "      <th>7</th>\n",
       "      <td>0.110371</td>\n",
       "      <td>0.148034</td>\n",
       "      <td>744</td>\n",
       "      <td>66</td>\n",
       "      <td>3</td>\n",
       "      <td>678</td>\n",
       "      <td>505</td>\n",
       "      <td>1728</td>\n",
       "      <td>0.692730</td>\n",
       "      <td>0.257373</td>\n",
       "    </tr>\n",
       "    <tr>\n",
       "      <th>6</th>\n",
       "      <td>0.085583</td>\n",
       "      <td>0.110358</td>\n",
       "      <td>744</td>\n",
       "      <td>42</td>\n",
       "      <td>4</td>\n",
       "      <td>702</td>\n",
       "      <td>547</td>\n",
       "      <td>2430</td>\n",
       "      <td>0.750343</td>\n",
       "      <td>0.361930</td>\n",
       "    </tr>\n",
       "    <tr>\n",
       "      <th>5</th>\n",
       "      <td>0.068219</td>\n",
       "      <td>0.085580</td>\n",
       "      <td>744</td>\n",
       "      <td>42</td>\n",
       "      <td>5</td>\n",
       "      <td>702</td>\n",
       "      <td>589</td>\n",
       "      <td>3132</td>\n",
       "      <td>0.807956</td>\n",
       "      <td>0.466488</td>\n",
       "    </tr>\n",
       "    <tr>\n",
       "      <th>4</th>\n",
       "      <td>0.052850</td>\n",
       "      <td>0.068213</td>\n",
       "      <td>745</td>\n",
       "      <td>70</td>\n",
       "      <td>6</td>\n",
       "      <td>675</td>\n",
       "      <td>659</td>\n",
       "      <td>3807</td>\n",
       "      <td>0.903978</td>\n",
       "      <td>0.567024</td>\n",
       "    </tr>\n",
       "    <tr>\n",
       "      <th>3</th>\n",
       "      <td>0.032096</td>\n",
       "      <td>0.052847</td>\n",
       "      <td>744</td>\n",
       "      <td>39</td>\n",
       "      <td>7</td>\n",
       "      <td>705</td>\n",
       "      <td>698</td>\n",
       "      <td>4512</td>\n",
       "      <td>0.957476</td>\n",
       "      <td>0.672029</td>\n",
       "    </tr>\n",
       "    <tr>\n",
       "      <th>2</th>\n",
       "      <td>0.011524</td>\n",
       "      <td>0.032020</td>\n",
       "      <td>744</td>\n",
       "      <td>17</td>\n",
       "      <td>8</td>\n",
       "      <td>727</td>\n",
       "      <td>715</td>\n",
       "      <td>5239</td>\n",
       "      <td>0.980796</td>\n",
       "      <td>0.780310</td>\n",
       "    </tr>\n",
       "    <tr>\n",
       "      <th>1</th>\n",
       "      <td>0.007029</td>\n",
       "      <td>0.011518</td>\n",
       "      <td>744</td>\n",
       "      <td>5</td>\n",
       "      <td>9</td>\n",
       "      <td>739</td>\n",
       "      <td>720</td>\n",
       "      <td>5978</td>\n",
       "      <td>0.987654</td>\n",
       "      <td>0.890378</td>\n",
       "    </tr>\n",
       "    <tr>\n",
       "      <th>0</th>\n",
       "      <td>0.000497</td>\n",
       "      <td>0.007023</td>\n",
       "      <td>745</td>\n",
       "      <td>9</td>\n",
       "      <td>10</td>\n",
       "      <td>736</td>\n",
       "      <td>729</td>\n",
       "      <td>6714</td>\n",
       "      <td>1.000000</td>\n",
       "      <td>1.000000</td>\n",
       "    </tr>\n",
       "  </tbody>\n",
       "</table>\n",
       "</div>"
      ],
      "text/plain": [
       "   min_score  max_score  total  event decile  non_event  cum_sum_event  \\\n",
       "9   0.202400   0.999998    745    328      1        417            328   \n",
       "8   0.148160   0.202351    744    111      2        633            439   \n",
       "7   0.110371   0.148034    744     66      3        678            505   \n",
       "6   0.085583   0.110358    744     42      4        702            547   \n",
       "5   0.068219   0.085580    744     42      5        702            589   \n",
       "4   0.052850   0.068213    745     70      6        675            659   \n",
       "3   0.032096   0.052847    744     39      7        705            698   \n",
       "2   0.011524   0.032020    744     17      8        727            715   \n",
       "1   0.007029   0.011518    744      5      9        739            720   \n",
       "0   0.000497   0.007023    745      9     10        736            729   \n",
       "\n",
       "   cum_sum_non_event  event_rate  non_event_rate  \n",
       "9                417    0.449931        0.062109  \n",
       "8               1050    0.602195        0.156390  \n",
       "7               1728    0.692730        0.257373  \n",
       "6               2430    0.750343        0.361930  \n",
       "5               3132    0.807956        0.466488  \n",
       "4               3807    0.903978        0.567024  \n",
       "3               4512    0.957476        0.672029  \n",
       "2               5239    0.980796        0.780310  \n",
       "1               5978    0.987654        0.890378  \n",
       "0               6714    1.000000        1.000000  "
      ]
     },
     "execution_count": 140,
     "metadata": {},
     "output_type": "execute_result"
    }
   ],
   "source": [
    "agg5['cum_sum_event']=agg5.event.cumsum()\n",
    "agg5['cum_sum_non_event']=agg5.non_event.cumsum()\n",
    "agg5['event_rate'] = agg5.cum_sum_event / agg5.event.sum()\n",
    "agg5['non_event_rate'] = agg5.cum_sum_non_event / agg5.non_event.sum()\n",
    "agg5"
   ]
  },
  {
   "cell_type": "code",
   "execution_count": 141,
   "metadata": {},
   "outputs": [
    {
     "data": {
      "text/html": [
       "<div>\n",
       "<style scoped>\n",
       "    .dataframe tbody tr th:only-of-type {\n",
       "        vertical-align: middle;\n",
       "    }\n",
       "\n",
       "    .dataframe tbody tr th {\n",
       "        vertical-align: top;\n",
       "    }\n",
       "\n",
       "    .dataframe thead th {\n",
       "        text-align: right;\n",
       "    }\n",
       "</style>\n",
       "<table border=\"1\" class=\"dataframe\">\n",
       "  <thead>\n",
       "    <tr style=\"text-align: right;\">\n",
       "      <th></th>\n",
       "      <th>min_score</th>\n",
       "      <th>max_score</th>\n",
       "      <th>total</th>\n",
       "      <th>event</th>\n",
       "      <th>decile</th>\n",
       "      <th>non_event</th>\n",
       "      <th>cum_sum_event</th>\n",
       "      <th>cum_sum_non_event</th>\n",
       "      <th>event_rate</th>\n",
       "      <th>non_event_rate</th>\n",
       "      <th>ks</th>\n",
       "    </tr>\n",
       "  </thead>\n",
       "  <tbody>\n",
       "    <tr>\n",
       "      <th>9</th>\n",
       "      <td>0.202400</td>\n",
       "      <td>0.999998</td>\n",
       "      <td>745</td>\n",
       "      <td>328</td>\n",
       "      <td>1</td>\n",
       "      <td>417</td>\n",
       "      <td>328</td>\n",
       "      <td>417</td>\n",
       "      <td>0.449931</td>\n",
       "      <td>0.062109</td>\n",
       "      <td>0.387822</td>\n",
       "    </tr>\n",
       "    <tr>\n",
       "      <th>8</th>\n",
       "      <td>0.148160</td>\n",
       "      <td>0.202351</td>\n",
       "      <td>744</td>\n",
       "      <td>111</td>\n",
       "      <td>2</td>\n",
       "      <td>633</td>\n",
       "      <td>439</td>\n",
       "      <td>1050</td>\n",
       "      <td>0.602195</td>\n",
       "      <td>0.156390</td>\n",
       "      <td>0.445805</td>\n",
       "    </tr>\n",
       "    <tr>\n",
       "      <th>7</th>\n",
       "      <td>0.110371</td>\n",
       "      <td>0.148034</td>\n",
       "      <td>744</td>\n",
       "      <td>66</td>\n",
       "      <td>3</td>\n",
       "      <td>678</td>\n",
       "      <td>505</td>\n",
       "      <td>1728</td>\n",
       "      <td>0.692730</td>\n",
       "      <td>0.257373</td>\n",
       "      <td>0.435357</td>\n",
       "    </tr>\n",
       "    <tr>\n",
       "      <th>6</th>\n",
       "      <td>0.085583</td>\n",
       "      <td>0.110358</td>\n",
       "      <td>744</td>\n",
       "      <td>42</td>\n",
       "      <td>4</td>\n",
       "      <td>702</td>\n",
       "      <td>547</td>\n",
       "      <td>2430</td>\n",
       "      <td>0.750343</td>\n",
       "      <td>0.361930</td>\n",
       "      <td>0.388413</td>\n",
       "    </tr>\n",
       "    <tr>\n",
       "      <th>5</th>\n",
       "      <td>0.068219</td>\n",
       "      <td>0.085580</td>\n",
       "      <td>744</td>\n",
       "      <td>42</td>\n",
       "      <td>5</td>\n",
       "      <td>702</td>\n",
       "      <td>589</td>\n",
       "      <td>3132</td>\n",
       "      <td>0.807956</td>\n",
       "      <td>0.466488</td>\n",
       "      <td>0.341468</td>\n",
       "    </tr>\n",
       "    <tr>\n",
       "      <th>4</th>\n",
       "      <td>0.052850</td>\n",
       "      <td>0.068213</td>\n",
       "      <td>745</td>\n",
       "      <td>70</td>\n",
       "      <td>6</td>\n",
       "      <td>675</td>\n",
       "      <td>659</td>\n",
       "      <td>3807</td>\n",
       "      <td>0.903978</td>\n",
       "      <td>0.567024</td>\n",
       "      <td>0.336954</td>\n",
       "    </tr>\n",
       "    <tr>\n",
       "      <th>3</th>\n",
       "      <td>0.032096</td>\n",
       "      <td>0.052847</td>\n",
       "      <td>744</td>\n",
       "      <td>39</td>\n",
       "      <td>7</td>\n",
       "      <td>705</td>\n",
       "      <td>698</td>\n",
       "      <td>4512</td>\n",
       "      <td>0.957476</td>\n",
       "      <td>0.672029</td>\n",
       "      <td>0.285447</td>\n",
       "    </tr>\n",
       "    <tr>\n",
       "      <th>2</th>\n",
       "      <td>0.011524</td>\n",
       "      <td>0.032020</td>\n",
       "      <td>744</td>\n",
       "      <td>17</td>\n",
       "      <td>8</td>\n",
       "      <td>727</td>\n",
       "      <td>715</td>\n",
       "      <td>5239</td>\n",
       "      <td>0.980796</td>\n",
       "      <td>0.780310</td>\n",
       "      <td>0.200486</td>\n",
       "    </tr>\n",
       "    <tr>\n",
       "      <th>1</th>\n",
       "      <td>0.007029</td>\n",
       "      <td>0.011518</td>\n",
       "      <td>744</td>\n",
       "      <td>5</td>\n",
       "      <td>9</td>\n",
       "      <td>739</td>\n",
       "      <td>720</td>\n",
       "      <td>5978</td>\n",
       "      <td>0.987654</td>\n",
       "      <td>0.890378</td>\n",
       "      <td>0.097276</td>\n",
       "    </tr>\n",
       "    <tr>\n",
       "      <th>0</th>\n",
       "      <td>0.000497</td>\n",
       "      <td>0.007023</td>\n",
       "      <td>745</td>\n",
       "      <td>9</td>\n",
       "      <td>10</td>\n",
       "      <td>736</td>\n",
       "      <td>729</td>\n",
       "      <td>6714</td>\n",
       "      <td>1.000000</td>\n",
       "      <td>1.000000</td>\n",
       "      <td>0.000000</td>\n",
       "    </tr>\n",
       "  </tbody>\n",
       "</table>\n",
       "</div>"
      ],
      "text/plain": [
       "   min_score  max_score  total  event decile  non_event  cum_sum_event  \\\n",
       "9   0.202400   0.999998    745    328      1        417            328   \n",
       "8   0.148160   0.202351    744    111      2        633            439   \n",
       "7   0.110371   0.148034    744     66      3        678            505   \n",
       "6   0.085583   0.110358    744     42      4        702            547   \n",
       "5   0.068219   0.085580    744     42      5        702            589   \n",
       "4   0.052850   0.068213    745     70      6        675            659   \n",
       "3   0.032096   0.052847    744     39      7        705            698   \n",
       "2   0.011524   0.032020    744     17      8        727            715   \n",
       "1   0.007029   0.011518    744      5      9        739            720   \n",
       "0   0.000497   0.007023    745      9     10        736            729   \n",
       "\n",
       "   cum_sum_non_event  event_rate  non_event_rate        ks  \n",
       "9                417    0.449931        0.062109  0.387822  \n",
       "8               1050    0.602195        0.156390  0.445805  \n",
       "7               1728    0.692730        0.257373  0.435357  \n",
       "6               2430    0.750343        0.361930  0.388413  \n",
       "5               3132    0.807956        0.466488  0.341468  \n",
       "4               3807    0.903978        0.567024  0.336954  \n",
       "3               4512    0.957476        0.672029  0.285447  \n",
       "2               5239    0.980796        0.780310  0.200486  \n",
       "1               5978    0.987654        0.890378  0.097276  \n",
       "0               6714    1.000000        1.000000  0.000000  "
      ]
     },
     "execution_count": 141,
     "metadata": {},
     "output_type": "execute_result"
    }
   ],
   "source": [
    "# agg5['ks'] = np.round(((agg5.non_event / agg5.non_event.sum()).cumsum() - (agg5.event / agg5.event.sum()).cumsum()), 4) * 100\n",
    "agg5['ks']=agg5[\"event_rate\"]- agg5[\"non_event_rate\"]\n",
    "agg5"
   ]
  },
  {
   "cell_type": "code",
   "execution_count": 142,
   "metadata": {},
   "outputs": [],
   "source": [
    "flag = lambda x: '<----' if x == agg5.ks.max() else ''"
   ]
  },
  {
   "cell_type": "code",
   "execution_count": 143,
   "metadata": {},
   "outputs": [
    {
     "data": {
      "text/html": [
       "<div>\n",
       "<style scoped>\n",
       "    .dataframe tbody tr th:only-of-type {\n",
       "        vertical-align: middle;\n",
       "    }\n",
       "\n",
       "    .dataframe tbody tr th {\n",
       "        vertical-align: top;\n",
       "    }\n",
       "\n",
       "    .dataframe thead th {\n",
       "        text-align: right;\n",
       "    }\n",
       "</style>\n",
       "<table border=\"1\" class=\"dataframe\">\n",
       "  <thead>\n",
       "    <tr style=\"text-align: right;\">\n",
       "      <th></th>\n",
       "      <th>min_score</th>\n",
       "      <th>max_score</th>\n",
       "      <th>total</th>\n",
       "      <th>event</th>\n",
       "      <th>decile</th>\n",
       "      <th>non_event</th>\n",
       "      <th>cum_sum_event</th>\n",
       "      <th>cum_sum_non_event</th>\n",
       "      <th>event_rate</th>\n",
       "      <th>non_event_rate</th>\n",
       "      <th>ks</th>\n",
       "      <th>max_ks</th>\n",
       "    </tr>\n",
       "  </thead>\n",
       "  <tbody>\n",
       "    <tr>\n",
       "      <th>9</th>\n",
       "      <td>0.202400</td>\n",
       "      <td>0.999998</td>\n",
       "      <td>745</td>\n",
       "      <td>328</td>\n",
       "      <td>1</td>\n",
       "      <td>417</td>\n",
       "      <td>328</td>\n",
       "      <td>417</td>\n",
       "      <td>0.449931</td>\n",
       "      <td>0.062109</td>\n",
       "      <td>0.387822</td>\n",
       "      <td></td>\n",
       "    </tr>\n",
       "    <tr>\n",
       "      <th>8</th>\n",
       "      <td>0.148160</td>\n",
       "      <td>0.202351</td>\n",
       "      <td>744</td>\n",
       "      <td>111</td>\n",
       "      <td>2</td>\n",
       "      <td>633</td>\n",
       "      <td>439</td>\n",
       "      <td>1050</td>\n",
       "      <td>0.602195</td>\n",
       "      <td>0.156390</td>\n",
       "      <td>0.445805</td>\n",
       "      <td>&lt;----</td>\n",
       "    </tr>\n",
       "    <tr>\n",
       "      <th>7</th>\n",
       "      <td>0.110371</td>\n",
       "      <td>0.148034</td>\n",
       "      <td>744</td>\n",
       "      <td>66</td>\n",
       "      <td>3</td>\n",
       "      <td>678</td>\n",
       "      <td>505</td>\n",
       "      <td>1728</td>\n",
       "      <td>0.692730</td>\n",
       "      <td>0.257373</td>\n",
       "      <td>0.435357</td>\n",
       "      <td></td>\n",
       "    </tr>\n",
       "    <tr>\n",
       "      <th>6</th>\n",
       "      <td>0.085583</td>\n",
       "      <td>0.110358</td>\n",
       "      <td>744</td>\n",
       "      <td>42</td>\n",
       "      <td>4</td>\n",
       "      <td>702</td>\n",
       "      <td>547</td>\n",
       "      <td>2430</td>\n",
       "      <td>0.750343</td>\n",
       "      <td>0.361930</td>\n",
       "      <td>0.388413</td>\n",
       "      <td></td>\n",
       "    </tr>\n",
       "    <tr>\n",
       "      <th>5</th>\n",
       "      <td>0.068219</td>\n",
       "      <td>0.085580</td>\n",
       "      <td>744</td>\n",
       "      <td>42</td>\n",
       "      <td>5</td>\n",
       "      <td>702</td>\n",
       "      <td>589</td>\n",
       "      <td>3132</td>\n",
       "      <td>0.807956</td>\n",
       "      <td>0.466488</td>\n",
       "      <td>0.341468</td>\n",
       "      <td></td>\n",
       "    </tr>\n",
       "    <tr>\n",
       "      <th>4</th>\n",
       "      <td>0.052850</td>\n",
       "      <td>0.068213</td>\n",
       "      <td>745</td>\n",
       "      <td>70</td>\n",
       "      <td>6</td>\n",
       "      <td>675</td>\n",
       "      <td>659</td>\n",
       "      <td>3807</td>\n",
       "      <td>0.903978</td>\n",
       "      <td>0.567024</td>\n",
       "      <td>0.336954</td>\n",
       "      <td></td>\n",
       "    </tr>\n",
       "    <tr>\n",
       "      <th>3</th>\n",
       "      <td>0.032096</td>\n",
       "      <td>0.052847</td>\n",
       "      <td>744</td>\n",
       "      <td>39</td>\n",
       "      <td>7</td>\n",
       "      <td>705</td>\n",
       "      <td>698</td>\n",
       "      <td>4512</td>\n",
       "      <td>0.957476</td>\n",
       "      <td>0.672029</td>\n",
       "      <td>0.285447</td>\n",
       "      <td></td>\n",
       "    </tr>\n",
       "    <tr>\n",
       "      <th>2</th>\n",
       "      <td>0.011524</td>\n",
       "      <td>0.032020</td>\n",
       "      <td>744</td>\n",
       "      <td>17</td>\n",
       "      <td>8</td>\n",
       "      <td>727</td>\n",
       "      <td>715</td>\n",
       "      <td>5239</td>\n",
       "      <td>0.980796</td>\n",
       "      <td>0.780310</td>\n",
       "      <td>0.200486</td>\n",
       "      <td></td>\n",
       "    </tr>\n",
       "    <tr>\n",
       "      <th>1</th>\n",
       "      <td>0.007029</td>\n",
       "      <td>0.011518</td>\n",
       "      <td>744</td>\n",
       "      <td>5</td>\n",
       "      <td>9</td>\n",
       "      <td>739</td>\n",
       "      <td>720</td>\n",
       "      <td>5978</td>\n",
       "      <td>0.987654</td>\n",
       "      <td>0.890378</td>\n",
       "      <td>0.097276</td>\n",
       "      <td></td>\n",
       "    </tr>\n",
       "    <tr>\n",
       "      <th>0</th>\n",
       "      <td>0.000497</td>\n",
       "      <td>0.007023</td>\n",
       "      <td>745</td>\n",
       "      <td>9</td>\n",
       "      <td>10</td>\n",
       "      <td>736</td>\n",
       "      <td>729</td>\n",
       "      <td>6714</td>\n",
       "      <td>1.000000</td>\n",
       "      <td>1.000000</td>\n",
       "      <td>0.000000</td>\n",
       "      <td></td>\n",
       "    </tr>\n",
       "  </tbody>\n",
       "</table>\n",
       "</div>"
      ],
      "text/plain": [
       "   min_score  max_score  total  event decile  non_event  cum_sum_event  \\\n",
       "9   0.202400   0.999998    745    328      1        417            328   \n",
       "8   0.148160   0.202351    744    111      2        633            439   \n",
       "7   0.110371   0.148034    744     66      3        678            505   \n",
       "6   0.085583   0.110358    744     42      4        702            547   \n",
       "5   0.068219   0.085580    744     42      5        702            589   \n",
       "4   0.052850   0.068213    745     70      6        675            659   \n",
       "3   0.032096   0.052847    744     39      7        705            698   \n",
       "2   0.011524   0.032020    744     17      8        727            715   \n",
       "1   0.007029   0.011518    744      5      9        739            720   \n",
       "0   0.000497   0.007023    745      9     10        736            729   \n",
       "\n",
       "   cum_sum_non_event  event_rate  non_event_rate        ks max_ks  \n",
       "9                417    0.449931        0.062109  0.387822         \n",
       "8               1050    0.602195        0.156390  0.445805  <----  \n",
       "7               1728    0.692730        0.257373  0.435357         \n",
       "6               2430    0.750343        0.361930  0.388413         \n",
       "5               3132    0.807956        0.466488  0.341468         \n",
       "4               3807    0.903978        0.567024  0.336954         \n",
       "3               4512    0.957476        0.672029  0.285447         \n",
       "2               5239    0.980796        0.780310  0.200486         \n",
       "1               5978    0.987654        0.890378  0.097276         \n",
       "0               6714    1.000000        1.000000  0.000000         "
      ]
     },
     "execution_count": 143,
     "metadata": {},
     "output_type": "execute_result"
    }
   ],
   "source": [
    "agg5['max_ks'] = agg5.ks.apply(flag)\n",
    "agg5"
   ]
  },
  {
   "cell_type": "markdown",
   "metadata": {},
   "source": [
    "# LOGISTIC REGRESSION MODEL ON test dataset"
   ]
  },
  {
   "cell_type": "code",
   "execution_count": 144,
   "metadata": {},
   "outputs": [],
   "source": [
    "# test a logistic regression model on the training set\n",
    "#from sklearn.linear_model import LogisticRegression\n",
    "#logregt = LogisticRegression()\n",
    "#logregt.fit(x_test, y_test)"
   ]
  },
  {
   "cell_type": "code",
   "execution_count": 145,
   "metadata": {},
   "outputs": [],
   "source": [
    "#logregt.coef_"
   ]
  },
  {
   "cell_type": "code",
   "execution_count": 146,
   "metadata": {},
   "outputs": [
    {
     "data": {
      "text/html": [
       "<div>\n",
       "<style scoped>\n",
       "    .dataframe tbody tr th:only-of-type {\n",
       "        vertical-align: middle;\n",
       "    }\n",
       "\n",
       "    .dataframe tbody tr th {\n",
       "        vertical-align: top;\n",
       "    }\n",
       "\n",
       "    .dataframe thead th {\n",
       "        text-align: right;\n",
       "    }\n",
       "</style>\n",
       "<table border=\"1\" class=\"dataframe\">\n",
       "  <thead>\n",
       "    <tr style=\"text-align: right;\">\n",
       "      <th></th>\n",
       "      <th>recency</th>\n",
       "      <th>frequency</th>\n",
       "      <th>monetary</th>\n",
       "      <th>1year</th>\n",
       "      <th>1.5year</th>\n",
       "      <th>6monthscost</th>\n",
       "      <th>1.5yearcost</th>\n",
       "    </tr>\n",
       "    <tr>\n",
       "      <th>CustomerID</th>\n",
       "      <th></th>\n",
       "      <th></th>\n",
       "      <th></th>\n",
       "      <th></th>\n",
       "      <th></th>\n",
       "      <th></th>\n",
       "      <th></th>\n",
       "    </tr>\n",
       "  </thead>\n",
       "  <tbody>\n",
       "    <tr>\n",
       "      <th>1205</th>\n",
       "      <td>623</td>\n",
       "      <td>2</td>\n",
       "      <td>284.50</td>\n",
       "      <td>0.0</td>\n",
       "      <td>0.0</td>\n",
       "      <td>0.0</td>\n",
       "      <td>0.00</td>\n",
       "    </tr>\n",
       "    <tr>\n",
       "      <th>7612</th>\n",
       "      <td>108</td>\n",
       "      <td>1</td>\n",
       "      <td>217.00</td>\n",
       "      <td>1.0</td>\n",
       "      <td>1.0</td>\n",
       "      <td>217.0</td>\n",
       "      <td>217.00</td>\n",
       "    </tr>\n",
       "    <tr>\n",
       "      <th>2073</th>\n",
       "      <td>564</td>\n",
       "      <td>3</td>\n",
       "      <td>384.25</td>\n",
       "      <td>0.0</td>\n",
       "      <td>0.0</td>\n",
       "      <td>0.0</td>\n",
       "      <td>0.00</td>\n",
       "    </tr>\n",
       "    <tr>\n",
       "      <th>10687</th>\n",
       "      <td>243</td>\n",
       "      <td>1</td>\n",
       "      <td>217.00</td>\n",
       "      <td>1.0</td>\n",
       "      <td>1.0</td>\n",
       "      <td>0.0</td>\n",
       "      <td>217.00</td>\n",
       "    </tr>\n",
       "    <tr>\n",
       "      <th>2340</th>\n",
       "      <td>548</td>\n",
       "      <td>3</td>\n",
       "      <td>541.75</td>\n",
       "      <td>0.0</td>\n",
       "      <td>3.0</td>\n",
       "      <td>0.0</td>\n",
       "      <td>541.75</td>\n",
       "    </tr>\n",
       "  </tbody>\n",
       "</table>\n",
       "</div>"
      ],
      "text/plain": [
       "            recency  frequency  monetary  1year  1.5year  6monthscost  \\\n",
       "CustomerID                                                              \n",
       "1205            623          2    284.50    0.0      0.0          0.0   \n",
       "7612            108          1    217.00    1.0      1.0        217.0   \n",
       "2073            564          3    384.25    0.0      0.0          0.0   \n",
       "10687           243          1    217.00    1.0      1.0          0.0   \n",
       "2340            548          3    541.75    0.0      3.0          0.0   \n",
       "\n",
       "            1.5yearcost  \n",
       "CustomerID               \n",
       "1205               0.00  \n",
       "7612             217.00  \n",
       "2073               0.00  \n",
       "10687            217.00  \n",
       "2340             541.75  "
      ]
     },
     "execution_count": 146,
     "metadata": {},
     "output_type": "execute_result"
    }
   ],
   "source": [
    "x_test.head()"
   ]
  },
  {
   "cell_type": "markdown",
   "metadata": {},
   "source": [
    "# Validating the test model"
   ]
  },
  {
   "cell_type": "markdown",
   "metadata": {},
   "source": [
    "### 1.confusion matrix on test with cut of value 0.5-default"
   ]
  },
  {
   "cell_type": "code",
   "execution_count": 147,
   "metadata": {},
   "outputs": [],
   "source": [
    "y_pred_class_test = logreg.predict(x_test)"
   ]
  },
  {
   "cell_type": "code",
   "execution_count": 148,
   "metadata": {},
   "outputs": [
    {
     "data": {
      "text/plain": [
       "array([0, 0, 0, ..., 0, 0, 0])"
      ]
     },
     "execution_count": 148,
     "metadata": {},
     "output_type": "execute_result"
    }
   ],
   "source": [
    "y_pred_class_test"
   ]
  },
  {
   "cell_type": "code",
   "execution_count": 149,
   "metadata": {},
   "outputs": [
    {
     "name": "stdout",
     "output_type": "stream",
     "text": [
      "col_0      0   1\n",
      "target          \n",
      "0       1652  11\n",
      "1        179  19\n"
     ]
    }
   ],
   "source": [
    "ct=pd.crosstab(y_test['target'],y_pred_class_test)\n",
    "print(ct)"
   ]
  },
  {
   "cell_type": "code",
   "execution_count": 150,
   "metadata": {},
   "outputs": [
    {
     "data": {
      "text/plain": [
       "0.09595959595959595"
      ]
     },
     "execution_count": 150,
     "metadata": {},
     "output_type": "execute_result"
    }
   ],
   "source": [
    "#sensitivity\n",
    "19/(179+19)"
   ]
  },
  {
   "cell_type": "code",
   "execution_count": 151,
   "metadata": {},
   "outputs": [
    {
     "data": {
      "text/plain": [
       "0.9933854479855683"
      ]
     },
     "execution_count": 151,
     "metadata": {},
     "output_type": "execute_result"
    }
   ],
   "source": [
    "#sepcificity\n",
    "1652/(1652+11)"
   ]
  },
  {
   "cell_type": "code",
   "execution_count": 152,
   "metadata": {},
   "outputs": [
    {
     "data": {
      "text/plain": [
       "0.8979043524986566"
      ]
     },
     "execution_count": 152,
     "metadata": {},
     "output_type": "execute_result"
    }
   ],
   "source": [
    "#accuracy\n",
    "(1652+19)/(1652+19+11+179)"
   ]
  },
  {
   "cell_type": "code",
   "execution_count": 153,
   "metadata": {},
   "outputs": [
    {
     "data": {
      "text/plain": [
       "array([[0.99479896, 0.00520104],\n",
       "       [0.89691279, 0.10308721],\n",
       "       [0.99195954, 0.00804046],\n",
       "       [0.94891341, 0.05108659],\n",
       "       [0.99362837, 0.00637163],\n",
       "       [0.91002339, 0.08997661],\n",
       "       [0.98885807, 0.01114193],\n",
       "       [0.8771407 , 0.1228593 ],\n",
       "       [0.84161182, 0.15838818],\n",
       "       [0.92692767, 0.07307233]])"
      ]
     },
     "execution_count": 153,
     "metadata": {},
     "output_type": "execute_result"
    }
   ],
   "source": [
    "# print the first 10 predicted probabilities of class membership\n",
    "logreg.predict_proba(x_test)[0:10, :]"
   ]
  },
  {
   "cell_type": "code",
   "execution_count": 154,
   "metadata": {},
   "outputs": [
    {
     "data": {
      "text/plain": [
       "array([[0.99479896],\n",
       "       [0.89691279],\n",
       "       [0.99195954],\n",
       "       [0.94891341],\n",
       "       [0.99362837],\n",
       "       [0.91002339],\n",
       "       [0.98885807],\n",
       "       [0.8771407 ],\n",
       "       [0.84161182],\n",
       "       [0.92692767]])"
      ]
     },
     "execution_count": 154,
     "metadata": {},
     "output_type": "execute_result"
    }
   ],
   "source": [
    "# print the first 10 predicted probabilities of class membership one\n",
    "logreg.predict_proba(x_test)[0:10, :1]"
   ]
  },
  {
   "cell_type": "markdown",
   "metadata": {},
   "source": [
    "# 2.ROC Curve on test dataset"
   ]
  },
  {
   "cell_type": "code",
   "execution_count": 155,
   "metadata": {},
   "outputs": [],
   "source": [
    "# store the predicted probabilities for class 1\n",
    "y_pred_prob_test = logreg.predict_proba(x_test)[:, 1]"
   ]
  },
  {
   "cell_type": "code",
   "execution_count": 156,
   "metadata": {},
   "outputs": [
    {
     "name": "stdout",
     "output_type": "stream",
     "text": [
      "0.7699453950205604\n"
     ]
    },
    {
     "data": {
      "image/png": "[encoded data removed]",
      "text/plain": [
       "<matplotlib.figure.Figure at 0xc2776a0>"
      ]
     },
     "metadata": {
      "needs_background": "light"
     },
     "output_type": "display_data"
    }
   ],
   "source": [
    "# IMPORTANT: first argument is true values, second argument is predicted probabilities\n",
    "fpr, tpr, thresholds = metrics.roc_curve(y_test['target'], y_pred_prob_test)\n",
    "\n",
    "plt.plot(fpr, tpr)\n",
    "plt.xlim([0.0, 1.0])\n",
    "plt.ylim([0.0, 1.0])\n",
    "plt.title('ROC curve for customer classifier')\n",
    "plt.xlabel('False Positive Rate (1 - Specificity)')\n",
    "plt.ylabel('True Positive Rate (Sensitivity)')\n",
    "plt.grid(True)\n",
    "\n",
    "\n",
    "print(metrics.roc_auc_score(y_test['target'], y_pred_prob_test))\n",
    "\n"
   ]
  },
  {
   "cell_type": "markdown",
   "metadata": {},
   "source": [
    "# KS statistics on test data"
   ]
  },
  {
   "cell_type": "code",
   "execution_count": 157,
   "metadata": {},
   "outputs": [],
   "source": [
    "X_test_Score=logreg.predict_proba(x_test)\n",
    "X_test_Score=pd.DataFrame(X_test_Score)\n",
    "X_test_Score.columns = ['pred0', 'pred1']"
   ]
  },
  {
   "cell_type": "code",
   "execution_count": 158,
   "metadata": {},
   "outputs": [
    {
     "data": {
      "text/html": [
       "<div>\n",
       "<style scoped>\n",
       "    .dataframe tbody tr th:only-of-type {\n",
       "        vertical-align: middle;\n",
       "    }\n",
       "\n",
       "    .dataframe tbody tr th {\n",
       "        vertical-align: top;\n",
       "    }\n",
       "\n",
       "    .dataframe thead th {\n",
       "        text-align: right;\n",
       "    }\n",
       "</style>\n",
       "<table border=\"1\" class=\"dataframe\">\n",
       "  <thead>\n",
       "    <tr style=\"text-align: right;\">\n",
       "      <th></th>\n",
       "      <th>pred0</th>\n",
       "      <th>pred1</th>\n",
       "    </tr>\n",
       "  </thead>\n",
       "  <tbody>\n",
       "    <tr>\n",
       "      <th>0</th>\n",
       "      <td>0.994799</td>\n",
       "      <td>0.005201</td>\n",
       "    </tr>\n",
       "    <tr>\n",
       "      <th>1</th>\n",
       "      <td>0.896913</td>\n",
       "      <td>0.103087</td>\n",
       "    </tr>\n",
       "  </tbody>\n",
       "</table>\n",
       "</div>"
      ],
      "text/plain": [
       "      pred0     pred1\n",
       "0  0.994799  0.005201\n",
       "1  0.896913  0.103087"
      ]
     },
     "execution_count": 158,
     "metadata": {},
     "output_type": "execute_result"
    }
   ],
   "source": [
    "X_test_Score.head(2)"
   ]
  },
  {
   "cell_type": "code",
   "execution_count": 159,
   "metadata": {},
   "outputs": [
    {
     "name": "stdout",
     "output_type": "stream",
     "text": [
      "(1861, 7)\n",
      "(1861, 1)\n",
      "(1861, 2)\n",
      "(1861, 10)\n"
     ]
    }
   ],
   "source": [
    "X_test_Score1 = pd.concat([x_test.reset_index(drop=True),\n",
    "                           X_test_Score,pd.DataFrame(y_test).reset_index(drop=True)], axis=1)\n",
    "\n",
    "print (x_test.shape)\n",
    "print (y_test.shape)\n",
    "print (X_test_Score.shape)\n",
    "print (X_test_Score1.shape)"
   ]
  },
  {
   "cell_type": "code",
   "execution_count": 160,
   "metadata": {},
   "outputs": [
    {
     "data": {
      "text/html": [
       "<div>\n",
       "<style scoped>\n",
       "    .dataframe tbody tr th:only-of-type {\n",
       "        vertical-align: middle;\n",
       "    }\n",
       "\n",
       "    .dataframe tbody tr th {\n",
       "        vertical-align: top;\n",
       "    }\n",
       "\n",
       "    .dataframe thead th {\n",
       "        text-align: right;\n",
       "    }\n",
       "</style>\n",
       "<table border=\"1\" class=\"dataframe\">\n",
       "  <thead>\n",
       "    <tr style=\"text-align: right;\">\n",
       "      <th></th>\n",
       "      <th>recency</th>\n",
       "      <th>frequency</th>\n",
       "      <th>monetary</th>\n",
       "      <th>1year</th>\n",
       "      <th>1.5year</th>\n",
       "      <th>6monthscost</th>\n",
       "      <th>1.5yearcost</th>\n",
       "      <th>pred0</th>\n",
       "      <th>pred1</th>\n",
       "      <th>target</th>\n",
       "    </tr>\n",
       "  </thead>\n",
       "  <tbody>\n",
       "    <tr>\n",
       "      <th>0</th>\n",
       "      <td>623</td>\n",
       "      <td>2</td>\n",
       "      <td>284.5</td>\n",
       "      <td>0.0</td>\n",
       "      <td>0.0</td>\n",
       "      <td>0.0</td>\n",
       "      <td>0.0</td>\n",
       "      <td>0.994799</td>\n",
       "      <td>0.005201</td>\n",
       "      <td>0</td>\n",
       "    </tr>\n",
       "    <tr>\n",
       "      <th>1</th>\n",
       "      <td>108</td>\n",
       "      <td>1</td>\n",
       "      <td>217.0</td>\n",
       "      <td>1.0</td>\n",
       "      <td>1.0</td>\n",
       "      <td>217.0</td>\n",
       "      <td>217.0</td>\n",
       "      <td>0.896913</td>\n",
       "      <td>0.103087</td>\n",
       "      <td>0</td>\n",
       "    </tr>\n",
       "  </tbody>\n",
       "</table>\n",
       "</div>"
      ],
      "text/plain": [
       "   recency  frequency  monetary  1year  1.5year  6monthscost  1.5yearcost  \\\n",
       "0      623          2     284.5    0.0      0.0          0.0          0.0   \n",
       "1      108          1     217.0    1.0      1.0        217.0        217.0   \n",
       "\n",
       "      pred0     pred1  target  \n",
       "0  0.994799  0.005201       0  \n",
       "1  0.896913  0.103087       0  "
      ]
     },
     "execution_count": 160,
     "metadata": {},
     "output_type": "execute_result"
    }
   ],
   "source": [
    "X_test_Score1.head(2)"
   ]
  },
  {
   "cell_type": "code",
   "execution_count": 161,
   "metadata": {},
   "outputs": [
    {
     "data": {
      "text/html": [
       "<div>\n",
       "<style scoped>\n",
       "    .dataframe tbody tr th:only-of-type {\n",
       "        vertical-align: middle;\n",
       "    }\n",
       "\n",
       "    .dataframe tbody tr th {\n",
       "        vertical-align: top;\n",
       "    }\n",
       "\n",
       "    .dataframe thead th {\n",
       "        text-align: right;\n",
       "    }\n",
       "</style>\n",
       "<table border=\"1\" class=\"dataframe\">\n",
       "  <thead>\n",
       "    <tr style=\"text-align: right;\">\n",
       "      <th></th>\n",
       "      <th>recency</th>\n",
       "      <th>frequency</th>\n",
       "      <th>monetary</th>\n",
       "      <th>1year</th>\n",
       "      <th>1.5year</th>\n",
       "      <th>6monthscost</th>\n",
       "      <th>1.5yearcost</th>\n",
       "      <th>pred0</th>\n",
       "      <th>pred1</th>\n",
       "      <th>target</th>\n",
       "      <th>decile</th>\n",
       "    </tr>\n",
       "  </thead>\n",
       "  <tbody>\n",
       "    <tr>\n",
       "      <th>0</th>\n",
       "      <td>623</td>\n",
       "      <td>2</td>\n",
       "      <td>284.50</td>\n",
       "      <td>0.0</td>\n",
       "      <td>0.0</td>\n",
       "      <td>0.00</td>\n",
       "      <td>0.00</td>\n",
       "      <td>0.994799</td>\n",
       "      <td>0.005201</td>\n",
       "      <td>0</td>\n",
       "      <td>10</td>\n",
       "    </tr>\n",
       "    <tr>\n",
       "      <th>1</th>\n",
       "      <td>108</td>\n",
       "      <td>1</td>\n",
       "      <td>217.00</td>\n",
       "      <td>1.0</td>\n",
       "      <td>1.0</td>\n",
       "      <td>217.00</td>\n",
       "      <td>217.00</td>\n",
       "      <td>0.896913</td>\n",
       "      <td>0.103087</td>\n",
       "      <td>0</td>\n",
       "      <td>4</td>\n",
       "    </tr>\n",
       "    <tr>\n",
       "      <th>2</th>\n",
       "      <td>564</td>\n",
       "      <td>3</td>\n",
       "      <td>384.25</td>\n",
       "      <td>0.0</td>\n",
       "      <td>0.0</td>\n",
       "      <td>0.00</td>\n",
       "      <td>0.00</td>\n",
       "      <td>0.991960</td>\n",
       "      <td>0.008040</td>\n",
       "      <td>0</td>\n",
       "      <td>9</td>\n",
       "    </tr>\n",
       "    <tr>\n",
       "      <th>3</th>\n",
       "      <td>243</td>\n",
       "      <td>1</td>\n",
       "      <td>217.00</td>\n",
       "      <td>1.0</td>\n",
       "      <td>1.0</td>\n",
       "      <td>0.00</td>\n",
       "      <td>217.00</td>\n",
       "      <td>0.948913</td>\n",
       "      <td>0.051087</td>\n",
       "      <td>0</td>\n",
       "      <td>7</td>\n",
       "    </tr>\n",
       "    <tr>\n",
       "      <th>4</th>\n",
       "      <td>548</td>\n",
       "      <td>3</td>\n",
       "      <td>541.75</td>\n",
       "      <td>0.0</td>\n",
       "      <td>3.0</td>\n",
       "      <td>0.00</td>\n",
       "      <td>541.75</td>\n",
       "      <td>0.993628</td>\n",
       "      <td>0.006372</td>\n",
       "      <td>0</td>\n",
       "      <td>10</td>\n",
       "    </tr>\n",
       "    <tr>\n",
       "      <th>5</th>\n",
       "      <td>212</td>\n",
       "      <td>5</td>\n",
       "      <td>653.75</td>\n",
       "      <td>5.0</td>\n",
       "      <td>5.0</td>\n",
       "      <td>0.00</td>\n",
       "      <td>653.75</td>\n",
       "      <td>0.910023</td>\n",
       "      <td>0.089977</td>\n",
       "      <td>1</td>\n",
       "      <td>4</td>\n",
       "    </tr>\n",
       "    <tr>\n",
       "      <th>6</th>\n",
       "      <td>464</td>\n",
       "      <td>2</td>\n",
       "      <td>379.50</td>\n",
       "      <td>0.0</td>\n",
       "      <td>2.0</td>\n",
       "      <td>0.00</td>\n",
       "      <td>379.50</td>\n",
       "      <td>0.988858</td>\n",
       "      <td>0.011142</td>\n",
       "      <td>0</td>\n",
       "      <td>9</td>\n",
       "    </tr>\n",
       "    <tr>\n",
       "      <th>7</th>\n",
       "      <td>140</td>\n",
       "      <td>5</td>\n",
       "      <td>1416.25</td>\n",
       "      <td>5.0</td>\n",
       "      <td>5.0</td>\n",
       "      <td>1416.25</td>\n",
       "      <td>1416.25</td>\n",
       "      <td>0.877141</td>\n",
       "      <td>0.122859</td>\n",
       "      <td>0</td>\n",
       "      <td>3</td>\n",
       "    </tr>\n",
       "    <tr>\n",
       "      <th>8</th>\n",
       "      <td>109</td>\n",
       "      <td>6</td>\n",
       "      <td>962.25</td>\n",
       "      <td>6.0</td>\n",
       "      <td>6.0</td>\n",
       "      <td>629.00</td>\n",
       "      <td>962.25</td>\n",
       "      <td>0.841612</td>\n",
       "      <td>0.158388</td>\n",
       "      <td>0</td>\n",
       "      <td>2</td>\n",
       "    </tr>\n",
       "    <tr>\n",
       "      <th>9</th>\n",
       "      <td>172</td>\n",
       "      <td>1</td>\n",
       "      <td>273.25</td>\n",
       "      <td>1.0</td>\n",
       "      <td>1.0</td>\n",
       "      <td>273.25</td>\n",
       "      <td>273.25</td>\n",
       "      <td>0.926928</td>\n",
       "      <td>0.073072</td>\n",
       "      <td>0</td>\n",
       "      <td>5</td>\n",
       "    </tr>\n",
       "  </tbody>\n",
       "</table>\n",
       "</div>"
      ],
      "text/plain": [
       "   recency  frequency  monetary  1year  1.5year  6monthscost  1.5yearcost  \\\n",
       "0      623          2    284.50    0.0      0.0         0.00         0.00   \n",
       "1      108          1    217.00    1.0      1.0       217.00       217.00   \n",
       "2      564          3    384.25    0.0      0.0         0.00         0.00   \n",
       "3      243          1    217.00    1.0      1.0         0.00       217.00   \n",
       "4      548          3    541.75    0.0      3.0         0.00       541.75   \n",
       "5      212          5    653.75    5.0      5.0         0.00       653.75   \n",
       "6      464          2    379.50    0.0      2.0         0.00       379.50   \n",
       "7      140          5   1416.25    5.0      5.0      1416.25      1416.25   \n",
       "8      109          6    962.25    6.0      6.0       629.00       962.25   \n",
       "9      172          1    273.25    1.0      1.0       273.25       273.25   \n",
       "\n",
       "      pred0     pred1  target decile  \n",
       "0  0.994799  0.005201       0     10  \n",
       "1  0.896913  0.103087       0      4  \n",
       "2  0.991960  0.008040       0      9  \n",
       "3  0.948913  0.051087       0      7  \n",
       "4  0.993628  0.006372       0     10  \n",
       "5  0.910023  0.089977       1      4  \n",
       "6  0.988858  0.011142       0      9  \n",
       "7  0.877141  0.122859       0      3  \n",
       "8  0.841612  0.158388       0      2  \n",
       "9  0.926928  0.073072       0      5  "
      ]
     },
     "execution_count": 161,
     "metadata": {},
     "output_type": "execute_result"
    }
   ],
   "source": [
    "X_test_Score1['decile'] = pd.qcut(X_test_Score1.pred1, 10, labels=list(range(10,0,-1)))\n",
    "X_test_Score1.head(10)"
   ]
  },
  {
   "cell_type": "code",
   "execution_count": 162,
   "metadata": {},
   "outputs": [],
   "source": [
    "grouped = X_test_Score1.groupby('decile', as_index = False)"
   ]
  },
  {
   "cell_type": "code",
   "execution_count": 163,
   "metadata": {},
   "outputs": [
    {
     "data": {
      "text/html": [
       "<div>\n",
       "<style scoped>\n",
       "    .dataframe tbody tr th:only-of-type {\n",
       "        vertical-align: middle;\n",
       "    }\n",
       "\n",
       "    .dataframe tbody tr th {\n",
       "        vertical-align: top;\n",
       "    }\n",
       "\n",
       "    .dataframe thead tr th {\n",
       "        text-align: left;\n",
       "    }\n",
       "</style>\n",
       "<table border=\"1\" class=\"dataframe\">\n",
       "  <thead>\n",
       "    <tr>\n",
       "      <th></th>\n",
       "      <th>decile</th>\n",
       "      <th colspan=\"2\" halign=\"left\">pred1</th>\n",
       "    </tr>\n",
       "    <tr>\n",
       "      <th></th>\n",
       "      <th></th>\n",
       "      <th>amin</th>\n",
       "      <th>amax</th>\n",
       "    </tr>\n",
       "  </thead>\n",
       "  <tbody>\n",
       "    <tr>\n",
       "      <th>0</th>\n",
       "      <td>10</td>\n",
       "      <td>0.000126</td>\n",
       "      <td>0.007288</td>\n",
       "    </tr>\n",
       "    <tr>\n",
       "      <th>1</th>\n",
       "      <td>9</td>\n",
       "      <td>0.007303</td>\n",
       "      <td>0.011361</td>\n",
       "    </tr>\n",
       "    <tr>\n",
       "      <th>2</th>\n",
       "      <td>8</td>\n",
       "      <td>0.011430</td>\n",
       "      <td>0.033161</td>\n",
       "    </tr>\n",
       "    <tr>\n",
       "      <th>3</th>\n",
       "      <td>7</td>\n",
       "      <td>0.033184</td>\n",
       "      <td>0.054107</td>\n",
       "    </tr>\n",
       "    <tr>\n",
       "      <th>4</th>\n",
       "      <td>6</td>\n",
       "      <td>0.054344</td>\n",
       "      <td>0.070323</td>\n",
       "    </tr>\n",
       "    <tr>\n",
       "      <th>5</th>\n",
       "      <td>5</td>\n",
       "      <td>0.070365</td>\n",
       "      <td>0.088654</td>\n",
       "    </tr>\n",
       "    <tr>\n",
       "      <th>6</th>\n",
       "      <td>4</td>\n",
       "      <td>0.089240</td>\n",
       "      <td>0.115241</td>\n",
       "    </tr>\n",
       "    <tr>\n",
       "      <th>7</th>\n",
       "      <td>3</td>\n",
       "      <td>0.115333</td>\n",
       "      <td>0.152645</td>\n",
       "    </tr>\n",
       "    <tr>\n",
       "      <th>8</th>\n",
       "      <td>2</td>\n",
       "      <td>0.152892</td>\n",
       "      <td>0.203940</td>\n",
       "    </tr>\n",
       "    <tr>\n",
       "      <th>9</th>\n",
       "      <td>1</td>\n",
       "      <td>0.204167</td>\n",
       "      <td>0.997620</td>\n",
       "    </tr>\n",
       "  </tbody>\n",
       "</table>\n",
       "</div>"
      ],
      "text/plain": [
       "  decile     pred1          \n",
       "              amin      amax\n",
       "0     10  0.000126  0.007288\n",
       "1      9  0.007303  0.011361\n",
       "2      8  0.011430  0.033161\n",
       "3      7  0.033184  0.054107\n",
       "4      6  0.054344  0.070323\n",
       "5      5  0.070365  0.088654\n",
       "6      4  0.089240  0.115241\n",
       "7      3  0.115333  0.152645\n",
       "8      2  0.152892  0.203940\n",
       "9      1  0.204167  0.997620"
      ]
     },
     "execution_count": 163,
     "metadata": {},
     "output_type": "execute_result"
    }
   ],
   "source": [
    "import numpy as np\n",
    "grouped.agg({'pred1' : [np.min, np.max]})"
   ]
  },
  {
   "cell_type": "code",
   "execution_count": 164,
   "metadata": {},
   "outputs": [
    {
     "data": {
      "text/plain": [
       "0    10\n",
       "1     9\n",
       "2     8\n",
       "3     7\n",
       "4     6\n",
       "5     5\n",
       "6     4\n",
       "7     3\n",
       "8     2\n",
       "9     1\n",
       "Name: decile, dtype: category\n",
       "Categories (10, int64): [10 < 9 < 8 < 7 ... 4 < 3 < 2 < 1]"
      ]
     },
     "execution_count": 164,
     "metadata": {},
     "output_type": "execute_result"
    }
   ],
   "source": [
    "agg1 = grouped.min().pred1\n",
    "agg1.rename(\"min_score\", inplace=True)\n",
    "agg2 = grouped.max().pred1\n",
    "agg2.rename(\"max_score\", inplace=True)\n",
    "agg3 = grouped.count().pred1\n",
    "agg3.rename(\"total\", inplace=True)\n",
    "\n",
    "\n",
    "agg4 = grouped.sum().target\n",
    "agg4.rename(\"event\", inplace=True)\n",
    "\n",
    "\n",
    "agg5=grouped.min().decile\n",
    "agg5.rename(\"decile\", inplace=True)"
   ]
  },
  {
   "cell_type": "code",
   "execution_count": 165,
   "metadata": {},
   "outputs": [
    {
     "data": {
      "text/html": [
       "<div>\n",
       "<style scoped>\n",
       "    .dataframe tbody tr th:only-of-type {\n",
       "        vertical-align: middle;\n",
       "    }\n",
       "\n",
       "    .dataframe tbody tr th {\n",
       "        vertical-align: top;\n",
       "    }\n",
       "\n",
       "    .dataframe thead th {\n",
       "        text-align: right;\n",
       "    }\n",
       "</style>\n",
       "<table border=\"1\" class=\"dataframe\">\n",
       "  <thead>\n",
       "    <tr style=\"text-align: right;\">\n",
       "      <th></th>\n",
       "      <th>min_score</th>\n",
       "      <th>max_score</th>\n",
       "      <th>total</th>\n",
       "      <th>event</th>\n",
       "      <th>decile</th>\n",
       "      <th>non_event</th>\n",
       "    </tr>\n",
       "  </thead>\n",
       "  <tbody>\n",
       "    <tr>\n",
       "      <th>0</th>\n",
       "      <td>0.000126</td>\n",
       "      <td>0.007288</td>\n",
       "      <td>187</td>\n",
       "      <td>4</td>\n",
       "      <td>10</td>\n",
       "      <td>183</td>\n",
       "    </tr>\n",
       "    <tr>\n",
       "      <th>1</th>\n",
       "      <td>0.007303</td>\n",
       "      <td>0.011361</td>\n",
       "      <td>186</td>\n",
       "      <td>3</td>\n",
       "      <td>9</td>\n",
       "      <td>183</td>\n",
       "    </tr>\n",
       "    <tr>\n",
       "      <th>2</th>\n",
       "      <td>0.011430</td>\n",
       "      <td>0.033161</td>\n",
       "      <td>186</td>\n",
       "      <td>4</td>\n",
       "      <td>8</td>\n",
       "      <td>182</td>\n",
       "    </tr>\n",
       "    <tr>\n",
       "      <th>3</th>\n",
       "      <td>0.033184</td>\n",
       "      <td>0.054107</td>\n",
       "      <td>186</td>\n",
       "      <td>11</td>\n",
       "      <td>7</td>\n",
       "      <td>175</td>\n",
       "    </tr>\n",
       "    <tr>\n",
       "      <th>4</th>\n",
       "      <td>0.054344</td>\n",
       "      <td>0.070323</td>\n",
       "      <td>186</td>\n",
       "      <td>22</td>\n",
       "      <td>6</td>\n",
       "      <td>164</td>\n",
       "    </tr>\n",
       "    <tr>\n",
       "      <th>5</th>\n",
       "      <td>0.070365</td>\n",
       "      <td>0.088654</td>\n",
       "      <td>186</td>\n",
       "      <td>18</td>\n",
       "      <td>5</td>\n",
       "      <td>168</td>\n",
       "    </tr>\n",
       "    <tr>\n",
       "      <th>6</th>\n",
       "      <td>0.089240</td>\n",
       "      <td>0.115241</td>\n",
       "      <td>186</td>\n",
       "      <td>10</td>\n",
       "      <td>4</td>\n",
       "      <td>176</td>\n",
       "    </tr>\n",
       "    <tr>\n",
       "      <th>7</th>\n",
       "      <td>0.115333</td>\n",
       "      <td>0.152645</td>\n",
       "      <td>186</td>\n",
       "      <td>12</td>\n",
       "      <td>3</td>\n",
       "      <td>174</td>\n",
       "    </tr>\n",
       "    <tr>\n",
       "      <th>8</th>\n",
       "      <td>0.152892</td>\n",
       "      <td>0.203940</td>\n",
       "      <td>186</td>\n",
       "      <td>32</td>\n",
       "      <td>2</td>\n",
       "      <td>154</td>\n",
       "    </tr>\n",
       "    <tr>\n",
       "      <th>9</th>\n",
       "      <td>0.204167</td>\n",
       "      <td>0.997620</td>\n",
       "      <td>186</td>\n",
       "      <td>82</td>\n",
       "      <td>1</td>\n",
       "      <td>104</td>\n",
       "    </tr>\n",
       "  </tbody>\n",
       "</table>\n",
       "</div>"
      ],
      "text/plain": [
       "   min_score  max_score  total  event decile  non_event\n",
       "0   0.000126   0.007288    187      4     10        183\n",
       "1   0.007303   0.011361    186      3      9        183\n",
       "2   0.011430   0.033161    186      4      8        182\n",
       "3   0.033184   0.054107    186     11      7        175\n",
       "4   0.054344   0.070323    186     22      6        164\n",
       "5   0.070365   0.088654    186     18      5        168\n",
       "6   0.089240   0.115241    186     10      4        176\n",
       "7   0.115333   0.152645    186     12      3        174\n",
       "8   0.152892   0.203940    186     32      2        154\n",
       "9   0.204167   0.997620    186     82      1        104"
      ]
     },
     "execution_count": 165,
     "metadata": {},
     "output_type": "execute_result"
    }
   ],
   "source": [
    "ks=pd.concat([agg1,agg2,agg3,agg4,agg5], axis=1)\n",
    "ks[\"non_event\"]=ks[\"total\"] - ks[\"event\"]\n",
    "ks.head(10)"
   ]
  },
  {
   "cell_type": "code",
   "execution_count": 166,
   "metadata": {},
   "outputs": [
    {
     "data": {
      "text/html": [
       "<div>\n",
       "<style scoped>\n",
       "    .dataframe tbody tr th:only-of-type {\n",
       "        vertical-align: middle;\n",
       "    }\n",
       "\n",
       "    .dataframe tbody tr th {\n",
       "        vertical-align: top;\n",
       "    }\n",
       "\n",
       "    .dataframe thead th {\n",
       "        text-align: right;\n",
       "    }\n",
       "</style>\n",
       "<table border=\"1\" class=\"dataframe\">\n",
       "  <thead>\n",
       "    <tr style=\"text-align: right;\">\n",
       "      <th></th>\n",
       "      <th>min_score</th>\n",
       "      <th>max_score</th>\n",
       "      <th>total</th>\n",
       "      <th>event</th>\n",
       "      <th>decile</th>\n",
       "      <th>non_event</th>\n",
       "    </tr>\n",
       "  </thead>\n",
       "  <tbody>\n",
       "    <tr>\n",
       "      <th>9</th>\n",
       "      <td>0.204167</td>\n",
       "      <td>0.997620</td>\n",
       "      <td>186</td>\n",
       "      <td>82</td>\n",
       "      <td>1</td>\n",
       "      <td>104</td>\n",
       "    </tr>\n",
       "    <tr>\n",
       "      <th>8</th>\n",
       "      <td>0.152892</td>\n",
       "      <td>0.203940</td>\n",
       "      <td>186</td>\n",
       "      <td>32</td>\n",
       "      <td>2</td>\n",
       "      <td>154</td>\n",
       "    </tr>\n",
       "    <tr>\n",
       "      <th>7</th>\n",
       "      <td>0.115333</td>\n",
       "      <td>0.152645</td>\n",
       "      <td>186</td>\n",
       "      <td>12</td>\n",
       "      <td>3</td>\n",
       "      <td>174</td>\n",
       "    </tr>\n",
       "    <tr>\n",
       "      <th>6</th>\n",
       "      <td>0.089240</td>\n",
       "      <td>0.115241</td>\n",
       "      <td>186</td>\n",
       "      <td>10</td>\n",
       "      <td>4</td>\n",
       "      <td>176</td>\n",
       "    </tr>\n",
       "    <tr>\n",
       "      <th>5</th>\n",
       "      <td>0.070365</td>\n",
       "      <td>0.088654</td>\n",
       "      <td>186</td>\n",
       "      <td>18</td>\n",
       "      <td>5</td>\n",
       "      <td>168</td>\n",
       "    </tr>\n",
       "    <tr>\n",
       "      <th>4</th>\n",
       "      <td>0.054344</td>\n",
       "      <td>0.070323</td>\n",
       "      <td>186</td>\n",
       "      <td>22</td>\n",
       "      <td>6</td>\n",
       "      <td>164</td>\n",
       "    </tr>\n",
       "    <tr>\n",
       "      <th>3</th>\n",
       "      <td>0.033184</td>\n",
       "      <td>0.054107</td>\n",
       "      <td>186</td>\n",
       "      <td>11</td>\n",
       "      <td>7</td>\n",
       "      <td>175</td>\n",
       "    </tr>\n",
       "    <tr>\n",
       "      <th>2</th>\n",
       "      <td>0.011430</td>\n",
       "      <td>0.033161</td>\n",
       "      <td>186</td>\n",
       "      <td>4</td>\n",
       "      <td>8</td>\n",
       "      <td>182</td>\n",
       "    </tr>\n",
       "    <tr>\n",
       "      <th>1</th>\n",
       "      <td>0.007303</td>\n",
       "      <td>0.011361</td>\n",
       "      <td>186</td>\n",
       "      <td>3</td>\n",
       "      <td>9</td>\n",
       "      <td>183</td>\n",
       "    </tr>\n",
       "    <tr>\n",
       "      <th>0</th>\n",
       "      <td>0.000126</td>\n",
       "      <td>0.007288</td>\n",
       "      <td>187</td>\n",
       "      <td>4</td>\n",
       "      <td>10</td>\n",
       "      <td>183</td>\n",
       "    </tr>\n",
       "  </tbody>\n",
       "</table>\n",
       "</div>"
      ],
      "text/plain": [
       "   min_score  max_score  total  event decile  non_event\n",
       "9   0.204167   0.997620    186     82      1        104\n",
       "8   0.152892   0.203940    186     32      2        154\n",
       "7   0.115333   0.152645    186     12      3        174\n",
       "6   0.089240   0.115241    186     10      4        176\n",
       "5   0.070365   0.088654    186     18      5        168\n",
       "4   0.054344   0.070323    186     22      6        164\n",
       "3   0.033184   0.054107    186     11      7        175\n",
       "2   0.011430   0.033161    186      4      8        182\n",
       "1   0.007303   0.011361    186      3      9        183\n",
       "0   0.000126   0.007288    187      4     10        183"
      ]
     },
     "execution_count": 166,
     "metadata": {},
     "output_type": "execute_result"
    }
   ],
   "source": [
    "agg5 =ks.sort_values(by='decile',ascending=False)\n",
    "agg5"
   ]
  },
  {
   "cell_type": "code",
   "execution_count": 167,
   "metadata": {},
   "outputs": [
    {
     "data": {
      "text/html": [
       "<div>\n",
       "<style scoped>\n",
       "    .dataframe tbody tr th:only-of-type {\n",
       "        vertical-align: middle;\n",
       "    }\n",
       "\n",
       "    .dataframe tbody tr th {\n",
       "        vertical-align: top;\n",
       "    }\n",
       "\n",
       "    .dataframe thead th {\n",
       "        text-align: right;\n",
       "    }\n",
       "</style>\n",
       "<table border=\"1\" class=\"dataframe\">\n",
       "  <thead>\n",
       "    <tr style=\"text-align: right;\">\n",
       "      <th></th>\n",
       "      <th>min_score</th>\n",
       "      <th>max_score</th>\n",
       "      <th>total</th>\n",
       "      <th>event</th>\n",
       "      <th>decile</th>\n",
       "      <th>non_event</th>\n",
       "      <th>cum_sum_event</th>\n",
       "      <th>cum_sum_non_event</th>\n",
       "      <th>event_rate</th>\n",
       "      <th>non_event_rate</th>\n",
       "    </tr>\n",
       "  </thead>\n",
       "  <tbody>\n",
       "    <tr>\n",
       "      <th>9</th>\n",
       "      <td>0.204167</td>\n",
       "      <td>0.997620</td>\n",
       "      <td>186</td>\n",
       "      <td>82</td>\n",
       "      <td>1</td>\n",
       "      <td>104</td>\n",
       "      <td>82</td>\n",
       "      <td>104</td>\n",
       "      <td>0.414141</td>\n",
       "      <td>0.062538</td>\n",
       "    </tr>\n",
       "    <tr>\n",
       "      <th>8</th>\n",
       "      <td>0.152892</td>\n",
       "      <td>0.203940</td>\n",
       "      <td>186</td>\n",
       "      <td>32</td>\n",
       "      <td>2</td>\n",
       "      <td>154</td>\n",
       "      <td>114</td>\n",
       "      <td>258</td>\n",
       "      <td>0.575758</td>\n",
       "      <td>0.155141</td>\n",
       "    </tr>\n",
       "    <tr>\n",
       "      <th>7</th>\n",
       "      <td>0.115333</td>\n",
       "      <td>0.152645</td>\n",
       "      <td>186</td>\n",
       "      <td>12</td>\n",
       "      <td>3</td>\n",
       "      <td>174</td>\n",
       "      <td>126</td>\n",
       "      <td>432</td>\n",
       "      <td>0.636364</td>\n",
       "      <td>0.259771</td>\n",
       "    </tr>\n",
       "    <tr>\n",
       "      <th>6</th>\n",
       "      <td>0.089240</td>\n",
       "      <td>0.115241</td>\n",
       "      <td>186</td>\n",
       "      <td>10</td>\n",
       "      <td>4</td>\n",
       "      <td>176</td>\n",
       "      <td>136</td>\n",
       "      <td>608</td>\n",
       "      <td>0.686869</td>\n",
       "      <td>0.365604</td>\n",
       "    </tr>\n",
       "    <tr>\n",
       "      <th>5</th>\n",
       "      <td>0.070365</td>\n",
       "      <td>0.088654</td>\n",
       "      <td>186</td>\n",
       "      <td>18</td>\n",
       "      <td>5</td>\n",
       "      <td>168</td>\n",
       "      <td>154</td>\n",
       "      <td>776</td>\n",
       "      <td>0.777778</td>\n",
       "      <td>0.466627</td>\n",
       "    </tr>\n",
       "    <tr>\n",
       "      <th>4</th>\n",
       "      <td>0.054344</td>\n",
       "      <td>0.070323</td>\n",
       "      <td>186</td>\n",
       "      <td>22</td>\n",
       "      <td>6</td>\n",
       "      <td>164</td>\n",
       "      <td>176</td>\n",
       "      <td>940</td>\n",
       "      <td>0.888889</td>\n",
       "      <td>0.565244</td>\n",
       "    </tr>\n",
       "    <tr>\n",
       "      <th>3</th>\n",
       "      <td>0.033184</td>\n",
       "      <td>0.054107</td>\n",
       "      <td>186</td>\n",
       "      <td>11</td>\n",
       "      <td>7</td>\n",
       "      <td>175</td>\n",
       "      <td>187</td>\n",
       "      <td>1115</td>\n",
       "      <td>0.944444</td>\n",
       "      <td>0.670475</td>\n",
       "    </tr>\n",
       "    <tr>\n",
       "      <th>2</th>\n",
       "      <td>0.011430</td>\n",
       "      <td>0.033161</td>\n",
       "      <td>186</td>\n",
       "      <td>4</td>\n",
       "      <td>8</td>\n",
       "      <td>182</td>\n",
       "      <td>191</td>\n",
       "      <td>1297</td>\n",
       "      <td>0.964646</td>\n",
       "      <td>0.779916</td>\n",
       "    </tr>\n",
       "    <tr>\n",
       "      <th>1</th>\n",
       "      <td>0.007303</td>\n",
       "      <td>0.011361</td>\n",
       "      <td>186</td>\n",
       "      <td>3</td>\n",
       "      <td>9</td>\n",
       "      <td>183</td>\n",
       "      <td>194</td>\n",
       "      <td>1480</td>\n",
       "      <td>0.979798</td>\n",
       "      <td>0.889958</td>\n",
       "    </tr>\n",
       "    <tr>\n",
       "      <th>0</th>\n",
       "      <td>0.000126</td>\n",
       "      <td>0.007288</td>\n",
       "      <td>187</td>\n",
       "      <td>4</td>\n",
       "      <td>10</td>\n",
       "      <td>183</td>\n",
       "      <td>198</td>\n",
       "      <td>1663</td>\n",
       "      <td>1.000000</td>\n",
       "      <td>1.000000</td>\n",
       "    </tr>\n",
       "  </tbody>\n",
       "</table>\n",
       "</div>"
      ],
      "text/plain": [
       "   min_score  max_score  total  event decile  non_event  cum_sum_event  \\\n",
       "9   0.204167   0.997620    186     82      1        104             82   \n",
       "8   0.152892   0.203940    186     32      2        154            114   \n",
       "7   0.115333   0.152645    186     12      3        174            126   \n",
       "6   0.089240   0.115241    186     10      4        176            136   \n",
       "5   0.070365   0.088654    186     18      5        168            154   \n",
       "4   0.054344   0.070323    186     22      6        164            176   \n",
       "3   0.033184   0.054107    186     11      7        175            187   \n",
       "2   0.011430   0.033161    186      4      8        182            191   \n",
       "1   0.007303   0.011361    186      3      9        183            194   \n",
       "0   0.000126   0.007288    187      4     10        183            198   \n",
       "\n",
       "   cum_sum_non_event  event_rate  non_event_rate  \n",
       "9                104    0.414141        0.062538  \n",
       "8                258    0.575758        0.155141  \n",
       "7                432    0.636364        0.259771  \n",
       "6                608    0.686869        0.365604  \n",
       "5                776    0.777778        0.466627  \n",
       "4                940    0.888889        0.565244  \n",
       "3               1115    0.944444        0.670475  \n",
       "2               1297    0.964646        0.779916  \n",
       "1               1480    0.979798        0.889958  \n",
       "0               1663    1.000000        1.000000  "
      ]
     },
     "execution_count": 167,
     "metadata": {},
     "output_type": "execute_result"
    }
   ],
   "source": [
    "agg5['cum_sum_event']=agg5.event.cumsum()\n",
    "agg5['cum_sum_non_event']=agg5.non_event.cumsum()\n",
    "agg5['event_rate'] = agg5.cum_sum_event / agg5.event.sum()\n",
    "agg5['non_event_rate'] = agg5.cum_sum_non_event / agg5.non_event.sum()\n",
    "agg5"
   ]
  },
  {
   "cell_type": "code",
   "execution_count": 168,
   "metadata": {},
   "outputs": [
    {
     "data": {
      "text/html": [
       "<div>\n",
       "<style scoped>\n",
       "    .dataframe tbody tr th:only-of-type {\n",
       "        vertical-align: middle;\n",
       "    }\n",
       "\n",
       "    .dataframe tbody tr th {\n",
       "        vertical-align: top;\n",
       "    }\n",
       "\n",
       "    .dataframe thead th {\n",
       "        text-align: right;\n",
       "    }\n",
       "</style>\n",
       "<table border=\"1\" class=\"dataframe\">\n",
       "  <thead>\n",
       "    <tr style=\"text-align: right;\">\n",
       "      <th></th>\n",
       "      <th>min_score</th>\n",
       "      <th>max_score</th>\n",
       "      <th>total</th>\n",
       "      <th>event</th>\n",
       "      <th>decile</th>\n",
       "      <th>non_event</th>\n",
       "      <th>cum_sum_event</th>\n",
       "      <th>cum_sum_non_event</th>\n",
       "      <th>event_rate</th>\n",
       "      <th>non_event_rate</th>\n",
       "      <th>ks</th>\n",
       "    </tr>\n",
       "  </thead>\n",
       "  <tbody>\n",
       "    <tr>\n",
       "      <th>9</th>\n",
       "      <td>0.204167</td>\n",
       "      <td>0.997620</td>\n",
       "      <td>186</td>\n",
       "      <td>82</td>\n",
       "      <td>1</td>\n",
       "      <td>104</td>\n",
       "      <td>82</td>\n",
       "      <td>104</td>\n",
       "      <td>0.414141</td>\n",
       "      <td>0.062538</td>\n",
       "      <td>0.351604</td>\n",
       "    </tr>\n",
       "    <tr>\n",
       "      <th>8</th>\n",
       "      <td>0.152892</td>\n",
       "      <td>0.203940</td>\n",
       "      <td>186</td>\n",
       "      <td>32</td>\n",
       "      <td>2</td>\n",
       "      <td>154</td>\n",
       "      <td>114</td>\n",
       "      <td>258</td>\n",
       "      <td>0.575758</td>\n",
       "      <td>0.155141</td>\n",
       "      <td>0.420616</td>\n",
       "    </tr>\n",
       "    <tr>\n",
       "      <th>7</th>\n",
       "      <td>0.115333</td>\n",
       "      <td>0.152645</td>\n",
       "      <td>186</td>\n",
       "      <td>12</td>\n",
       "      <td>3</td>\n",
       "      <td>174</td>\n",
       "      <td>126</td>\n",
       "      <td>432</td>\n",
       "      <td>0.636364</td>\n",
       "      <td>0.259771</td>\n",
       "      <td>0.376592</td>\n",
       "    </tr>\n",
       "    <tr>\n",
       "      <th>6</th>\n",
       "      <td>0.089240</td>\n",
       "      <td>0.115241</td>\n",
       "      <td>186</td>\n",
       "      <td>10</td>\n",
       "      <td>4</td>\n",
       "      <td>176</td>\n",
       "      <td>136</td>\n",
       "      <td>608</td>\n",
       "      <td>0.686869</td>\n",
       "      <td>0.365604</td>\n",
       "      <td>0.321264</td>\n",
       "    </tr>\n",
       "    <tr>\n",
       "      <th>5</th>\n",
       "      <td>0.070365</td>\n",
       "      <td>0.088654</td>\n",
       "      <td>186</td>\n",
       "      <td>18</td>\n",
       "      <td>5</td>\n",
       "      <td>168</td>\n",
       "      <td>154</td>\n",
       "      <td>776</td>\n",
       "      <td>0.777778</td>\n",
       "      <td>0.466627</td>\n",
       "      <td>0.311151</td>\n",
       "    </tr>\n",
       "    <tr>\n",
       "      <th>4</th>\n",
       "      <td>0.054344</td>\n",
       "      <td>0.070323</td>\n",
       "      <td>186</td>\n",
       "      <td>22</td>\n",
       "      <td>6</td>\n",
       "      <td>164</td>\n",
       "      <td>176</td>\n",
       "      <td>940</td>\n",
       "      <td>0.888889</td>\n",
       "      <td>0.565244</td>\n",
       "      <td>0.323645</td>\n",
       "    </tr>\n",
       "    <tr>\n",
       "      <th>3</th>\n",
       "      <td>0.033184</td>\n",
       "      <td>0.054107</td>\n",
       "      <td>186</td>\n",
       "      <td>11</td>\n",
       "      <td>7</td>\n",
       "      <td>175</td>\n",
       "      <td>187</td>\n",
       "      <td>1115</td>\n",
       "      <td>0.944444</td>\n",
       "      <td>0.670475</td>\n",
       "      <td>0.273969</td>\n",
       "    </tr>\n",
       "    <tr>\n",
       "      <th>2</th>\n",
       "      <td>0.011430</td>\n",
       "      <td>0.033161</td>\n",
       "      <td>186</td>\n",
       "      <td>4</td>\n",
       "      <td>8</td>\n",
       "      <td>182</td>\n",
       "      <td>191</td>\n",
       "      <td>1297</td>\n",
       "      <td>0.964646</td>\n",
       "      <td>0.779916</td>\n",
       "      <td>0.184731</td>\n",
       "    </tr>\n",
       "    <tr>\n",
       "      <th>1</th>\n",
       "      <td>0.007303</td>\n",
       "      <td>0.011361</td>\n",
       "      <td>186</td>\n",
       "      <td>3</td>\n",
       "      <td>9</td>\n",
       "      <td>183</td>\n",
       "      <td>194</td>\n",
       "      <td>1480</td>\n",
       "      <td>0.979798</td>\n",
       "      <td>0.889958</td>\n",
       "      <td>0.089840</td>\n",
       "    </tr>\n",
       "    <tr>\n",
       "      <th>0</th>\n",
       "      <td>0.000126</td>\n",
       "      <td>0.007288</td>\n",
       "      <td>187</td>\n",
       "      <td>4</td>\n",
       "      <td>10</td>\n",
       "      <td>183</td>\n",
       "      <td>198</td>\n",
       "      <td>1663</td>\n",
       "      <td>1.000000</td>\n",
       "      <td>1.000000</td>\n",
       "      <td>0.000000</td>\n",
       "    </tr>\n",
       "  </tbody>\n",
       "</table>\n",
       "</div>"
      ],
      "text/plain": [
       "   min_score  max_score  total  event decile  non_event  cum_sum_event  \\\n",
       "9   0.204167   0.997620    186     82      1        104             82   \n",
       "8   0.152892   0.203940    186     32      2        154            114   \n",
       "7   0.115333   0.152645    186     12      3        174            126   \n",
       "6   0.089240   0.115241    186     10      4        176            136   \n",
       "5   0.070365   0.088654    186     18      5        168            154   \n",
       "4   0.054344   0.070323    186     22      6        164            176   \n",
       "3   0.033184   0.054107    186     11      7        175            187   \n",
       "2   0.011430   0.033161    186      4      8        182            191   \n",
       "1   0.007303   0.011361    186      3      9        183            194   \n",
       "0   0.000126   0.007288    187      4     10        183            198   \n",
       "\n",
       "   cum_sum_non_event  event_rate  non_event_rate        ks  \n",
       "9                104    0.414141        0.062538  0.351604  \n",
       "8                258    0.575758        0.155141  0.420616  \n",
       "7                432    0.636364        0.259771  0.376592  \n",
       "6                608    0.686869        0.365604  0.321264  \n",
       "5                776    0.777778        0.466627  0.311151  \n",
       "4                940    0.888889        0.565244  0.323645  \n",
       "3               1115    0.944444        0.670475  0.273969  \n",
       "2               1297    0.964646        0.779916  0.184731  \n",
       "1               1480    0.979798        0.889958  0.089840  \n",
       "0               1663    1.000000        1.000000  0.000000  "
      ]
     },
     "execution_count": 168,
     "metadata": {},
     "output_type": "execute_result"
    }
   ],
   "source": [
    "# agg5['ks'] = np.round(((agg5.non_event / agg5.non_event.sum()).cumsum() - (agg5.event / agg5.event.sum()).cumsum()), 4) * 100\n",
    "agg5['ks']=agg5[\"event_rate\"]- agg5[\"non_event_rate\"]\n",
    "agg5"
   ]
  },
  {
   "cell_type": "code",
   "execution_count": 169,
   "metadata": {},
   "outputs": [],
   "source": [
    "flag = lambda x: '<----' if x == agg5.ks.max() else ''"
   ]
  },
  {
   "cell_type": "code",
   "execution_count": 170,
   "metadata": {},
   "outputs": [
    {
     "data": {
      "text/html": [
       "<div>\n",
       "<style scoped>\n",
       "    .dataframe tbody tr th:only-of-type {\n",
       "        vertical-align: middle;\n",
       "    }\n",
       "\n",
       "    .dataframe tbody tr th {\n",
       "        vertical-align: top;\n",
       "    }\n",
       "\n",
       "    .dataframe thead th {\n",
       "        text-align: right;\n",
       "    }\n",
       "</style>\n",
       "<table border=\"1\" class=\"dataframe\">\n",
       "  <thead>\n",
       "    <tr style=\"text-align: right;\">\n",
       "      <th></th>\n",
       "      <th>min_score</th>\n",
       "      <th>max_score</th>\n",
       "      <th>total</th>\n",
       "      <th>event</th>\n",
       "      <th>decile</th>\n",
       "      <th>non_event</th>\n",
       "      <th>cum_sum_event</th>\n",
       "      <th>cum_sum_non_event</th>\n",
       "      <th>event_rate</th>\n",
       "      <th>non_event_rate</th>\n",
       "      <th>ks</th>\n",
       "      <th>max_ks</th>\n",
       "    </tr>\n",
       "  </thead>\n",
       "  <tbody>\n",
       "    <tr>\n",
       "      <th>9</th>\n",
       "      <td>0.204167</td>\n",
       "      <td>0.997620</td>\n",
       "      <td>186</td>\n",
       "      <td>82</td>\n",
       "      <td>1</td>\n",
       "      <td>104</td>\n",
       "      <td>82</td>\n",
       "      <td>104</td>\n",
       "      <td>0.414141</td>\n",
       "      <td>0.062538</td>\n",
       "      <td>0.351604</td>\n",
       "      <td></td>\n",
       "    </tr>\n",
       "    <tr>\n",
       "      <th>8</th>\n",
       "      <td>0.152892</td>\n",
       "      <td>0.203940</td>\n",
       "      <td>186</td>\n",
       "      <td>32</td>\n",
       "      <td>2</td>\n",
       "      <td>154</td>\n",
       "      <td>114</td>\n",
       "      <td>258</td>\n",
       "      <td>0.575758</td>\n",
       "      <td>0.155141</td>\n",
       "      <td>0.420616</td>\n",
       "      <td>&lt;----</td>\n",
       "    </tr>\n",
       "    <tr>\n",
       "      <th>7</th>\n",
       "      <td>0.115333</td>\n",
       "      <td>0.152645</td>\n",
       "      <td>186</td>\n",
       "      <td>12</td>\n",
       "      <td>3</td>\n",
       "      <td>174</td>\n",
       "      <td>126</td>\n",
       "      <td>432</td>\n",
       "      <td>0.636364</td>\n",
       "      <td>0.259771</td>\n",
       "      <td>0.376592</td>\n",
       "      <td></td>\n",
       "    </tr>\n",
       "    <tr>\n",
       "      <th>6</th>\n",
       "      <td>0.089240</td>\n",
       "      <td>0.115241</td>\n",
       "      <td>186</td>\n",
       "      <td>10</td>\n",
       "      <td>4</td>\n",
       "      <td>176</td>\n",
       "      <td>136</td>\n",
       "      <td>608</td>\n",
       "      <td>0.686869</td>\n",
       "      <td>0.365604</td>\n",
       "      <td>0.321264</td>\n",
       "      <td></td>\n",
       "    </tr>\n",
       "    <tr>\n",
       "      <th>5</th>\n",
       "      <td>0.070365</td>\n",
       "      <td>0.088654</td>\n",
       "      <td>186</td>\n",
       "      <td>18</td>\n",
       "      <td>5</td>\n",
       "      <td>168</td>\n",
       "      <td>154</td>\n",
       "      <td>776</td>\n",
       "      <td>0.777778</td>\n",
       "      <td>0.466627</td>\n",
       "      <td>0.311151</td>\n",
       "      <td></td>\n",
       "    </tr>\n",
       "    <tr>\n",
       "      <th>4</th>\n",
       "      <td>0.054344</td>\n",
       "      <td>0.070323</td>\n",
       "      <td>186</td>\n",
       "      <td>22</td>\n",
       "      <td>6</td>\n",
       "      <td>164</td>\n",
       "      <td>176</td>\n",
       "      <td>940</td>\n",
       "      <td>0.888889</td>\n",
       "      <td>0.565244</td>\n",
       "      <td>0.323645</td>\n",
       "      <td></td>\n",
       "    </tr>\n",
       "    <tr>\n",
       "      <th>3</th>\n",
       "      <td>0.033184</td>\n",
       "      <td>0.054107</td>\n",
       "      <td>186</td>\n",
       "      <td>11</td>\n",
       "      <td>7</td>\n",
       "      <td>175</td>\n",
       "      <td>187</td>\n",
       "      <td>1115</td>\n",
       "      <td>0.944444</td>\n",
       "      <td>0.670475</td>\n",
       "      <td>0.273969</td>\n",
       "      <td></td>\n",
       "    </tr>\n",
       "    <tr>\n",
       "      <th>2</th>\n",
       "      <td>0.011430</td>\n",
       "      <td>0.033161</td>\n",
       "      <td>186</td>\n",
       "      <td>4</td>\n",
       "      <td>8</td>\n",
       "      <td>182</td>\n",
       "      <td>191</td>\n",
       "      <td>1297</td>\n",
       "      <td>0.964646</td>\n",
       "      <td>0.779916</td>\n",
       "      <td>0.184731</td>\n",
       "      <td></td>\n",
       "    </tr>\n",
       "    <tr>\n",
       "      <th>1</th>\n",
       "      <td>0.007303</td>\n",
       "      <td>0.011361</td>\n",
       "      <td>186</td>\n",
       "      <td>3</td>\n",
       "      <td>9</td>\n",
       "      <td>183</td>\n",
       "      <td>194</td>\n",
       "      <td>1480</td>\n",
       "      <td>0.979798</td>\n",
       "      <td>0.889958</td>\n",
       "      <td>0.089840</td>\n",
       "      <td></td>\n",
       "    </tr>\n",
       "    <tr>\n",
       "      <th>0</th>\n",
       "      <td>0.000126</td>\n",
       "      <td>0.007288</td>\n",
       "      <td>187</td>\n",
       "      <td>4</td>\n",
       "      <td>10</td>\n",
       "      <td>183</td>\n",
       "      <td>198</td>\n",
       "      <td>1663</td>\n",
       "      <td>1.000000</td>\n",
       "      <td>1.000000</td>\n",
       "      <td>0.000000</td>\n",
       "      <td></td>\n",
       "    </tr>\n",
       "  </tbody>\n",
       "</table>\n",
       "</div>"
      ],
      "text/plain": [
       "   min_score  max_score  total  event decile  non_event  cum_sum_event  \\\n",
       "9   0.204167   0.997620    186     82      1        104             82   \n",
       "8   0.152892   0.203940    186     32      2        154            114   \n",
       "7   0.115333   0.152645    186     12      3        174            126   \n",
       "6   0.089240   0.115241    186     10      4        176            136   \n",
       "5   0.070365   0.088654    186     18      5        168            154   \n",
       "4   0.054344   0.070323    186     22      6        164            176   \n",
       "3   0.033184   0.054107    186     11      7        175            187   \n",
       "2   0.011430   0.033161    186      4      8        182            191   \n",
       "1   0.007303   0.011361    186      3      9        183            194   \n",
       "0   0.000126   0.007288    187      4     10        183            198   \n",
       "\n",
       "   cum_sum_non_event  event_rate  non_event_rate        ks max_ks  \n",
       "9                104    0.414141        0.062538  0.351604         \n",
       "8                258    0.575758        0.155141  0.420616  <----  \n",
       "7                432    0.636364        0.259771  0.376592         \n",
       "6                608    0.686869        0.365604  0.321264         \n",
       "5                776    0.777778        0.466627  0.311151         \n",
       "4                940    0.888889        0.565244  0.323645         \n",
       "3               1115    0.944444        0.670475  0.273969         \n",
       "2               1297    0.964646        0.779916  0.184731         \n",
       "1               1480    0.979798        0.889958  0.089840         \n",
       "0               1663    1.000000        1.000000  0.000000         "
      ]
     },
     "execution_count": 170,
     "metadata": {},
     "output_type": "execute_result"
    }
   ],
   "source": [
    "agg5['max_ks'] = agg5.ks.apply(flag)\n",
    "agg5"
   ]
  },
  {
   "cell_type": "markdown",
   "metadata": {},
   "source": [
    "# confusion matrix on test data set with cut value btw 0.15 to 0.20"
   ]
  },
  {
   "cell_type": "code",
   "execution_count": 171,
   "metadata": {},
   "outputs": [
    {
     "data": {
      "text/html": [
       "<div>\n",
       "<style scoped>\n",
       "    .dataframe tbody tr th:only-of-type {\n",
       "        vertical-align: middle;\n",
       "    }\n",
       "\n",
       "    .dataframe tbody tr th {\n",
       "        vertical-align: top;\n",
       "    }\n",
       "\n",
       "    .dataframe thead th {\n",
       "        text-align: right;\n",
       "    }\n",
       "</style>\n",
       "<table border=\"1\" class=\"dataframe\">\n",
       "  <thead>\n",
       "    <tr style=\"text-align: right;\">\n",
       "      <th></th>\n",
       "      <th>target</th>\n",
       "      <th>recency</th>\n",
       "      <th>frequency</th>\n",
       "      <th>monetary</th>\n",
       "      <th>1year</th>\n",
       "      <th>1.5year</th>\n",
       "      <th>6monthscost</th>\n",
       "      <th>1.5yearcost</th>\n",
       "      <th>Prob</th>\n",
       "      <th>pred_outcome</th>\n",
       "    </tr>\n",
       "    <tr>\n",
       "      <th>CustomerID</th>\n",
       "      <th></th>\n",
       "      <th></th>\n",
       "      <th></th>\n",
       "      <th></th>\n",
       "      <th></th>\n",
       "      <th></th>\n",
       "      <th></th>\n",
       "      <th></th>\n",
       "      <th></th>\n",
       "      <th></th>\n",
       "    </tr>\n",
       "  </thead>\n",
       "  <tbody>\n",
       "    <tr>\n",
       "      <th>1205</th>\n",
       "      <td>0</td>\n",
       "      <td>623</td>\n",
       "      <td>2</td>\n",
       "      <td>284.50</td>\n",
       "      <td>0.0</td>\n",
       "      <td>0.0</td>\n",
       "      <td>0.0</td>\n",
       "      <td>0.00</td>\n",
       "      <td>0.000414</td>\n",
       "      <td>0</td>\n",
       "    </tr>\n",
       "    <tr>\n",
       "      <th>7612</th>\n",
       "      <td>0</td>\n",
       "      <td>108</td>\n",
       "      <td>1</td>\n",
       "      <td>217.00</td>\n",
       "      <td>1.0</td>\n",
       "      <td>1.0</td>\n",
       "      <td>217.0</td>\n",
       "      <td>217.00</td>\n",
       "      <td>0.195544</td>\n",
       "      <td>1</td>\n",
       "    </tr>\n",
       "    <tr>\n",
       "      <th>2073</th>\n",
       "      <td>0</td>\n",
       "      <td>564</td>\n",
       "      <td>3</td>\n",
       "      <td>384.25</td>\n",
       "      <td>0.0</td>\n",
       "      <td>0.0</td>\n",
       "      <td>0.0</td>\n",
       "      <td>0.00</td>\n",
       "      <td>0.000999</td>\n",
       "      <td>0</td>\n",
       "    </tr>\n",
       "    <tr>\n",
       "      <th>10687</th>\n",
       "      <td>0</td>\n",
       "      <td>243</td>\n",
       "      <td>1</td>\n",
       "      <td>217.00</td>\n",
       "      <td>1.0</td>\n",
       "      <td>1.0</td>\n",
       "      <td>0.0</td>\n",
       "      <td>217.00</td>\n",
       "      <td>0.049463</td>\n",
       "      <td>0</td>\n",
       "    </tr>\n",
       "    <tr>\n",
       "      <th>2340</th>\n",
       "      <td>0</td>\n",
       "      <td>548</td>\n",
       "      <td>3</td>\n",
       "      <td>541.75</td>\n",
       "      <td>0.0</td>\n",
       "      <td>3.0</td>\n",
       "      <td>0.0</td>\n",
       "      <td>541.75</td>\n",
       "      <td>0.000833</td>\n",
       "      <td>0</td>\n",
       "    </tr>\n",
       "  </tbody>\n",
       "</table>\n",
       "</div>"
      ],
      "text/plain": [
       "            target  recency  frequency  monetary  1year  1.5year  6monthscost  \\\n",
       "CustomerID                                                                      \n",
       "1205             0      623          2    284.50    0.0      0.0          0.0   \n",
       "7612             0      108          1    217.00    1.0      1.0        217.0   \n",
       "2073             0      564          3    384.25    0.0      0.0          0.0   \n",
       "10687            0      243          1    217.00    1.0      1.0          0.0   \n",
       "2340             0      548          3    541.75    0.0      3.0          0.0   \n",
       "\n",
       "            1.5yearcost      Prob  pred_outcome  \n",
       "CustomerID                                       \n",
       "1205               0.00  0.000414             0  \n",
       "7612             217.00  0.195544             1  \n",
       "2073               0.00  0.000999             0  \n",
       "10687            217.00  0.049463             0  \n",
       "2340             541.75  0.000833             0  "
      ]
     },
     "execution_count": 171,
     "metadata": {},
     "output_type": "execute_result"
    }
   ],
   "source": [
    "#Test Data\n",
    "x_pred=result.predict(x_test)\n",
    "pre=pd.DataFrame(x_pred, columns=[\"Prob\"])\n",
    "pred=pd.concat([y_test,x_test,pre], axis=1)\n",
    "import numpy as np\n",
    "pred[\"pred_outcome\"]=np.where(pred.Prob >= 0.17,1,0)\n",
    "pred.head()"
   ]
  },
  {
   "cell_type": "code",
   "execution_count": 172,
   "metadata": {},
   "outputs": [
    {
     "data": {
      "text/html": [
       "<div>\n",
       "<style scoped>\n",
       "    .dataframe tbody tr th:only-of-type {\n",
       "        vertical-align: middle;\n",
       "    }\n",
       "\n",
       "    .dataframe tbody tr th {\n",
       "        vertical-align: top;\n",
       "    }\n",
       "\n",
       "    .dataframe thead th {\n",
       "        text-align: right;\n",
       "    }\n",
       "</style>\n",
       "<table border=\"1\" class=\"dataframe\">\n",
       "  <thead>\n",
       "    <tr style=\"text-align: right;\">\n",
       "      <th>pred_outcome</th>\n",
       "      <th>0</th>\n",
       "      <th>1</th>\n",
       "    </tr>\n",
       "    <tr>\n",
       "      <th>target</th>\n",
       "      <th></th>\n",
       "      <th></th>\n",
       "    </tr>\n",
       "  </thead>\n",
       "  <tbody>\n",
       "    <tr>\n",
       "      <th>0</th>\n",
       "      <td>1271</td>\n",
       "      <td>392</td>\n",
       "    </tr>\n",
       "    <tr>\n",
       "      <th>1</th>\n",
       "      <td>84</td>\n",
       "      <td>114</td>\n",
       "    </tr>\n",
       "  </tbody>\n",
       "</table>\n",
       "</div>"
      ],
      "text/plain": [
       "pred_outcome     0    1\n",
       "target                 \n",
       "0             1271  392\n",
       "1               84  114"
      ]
     },
     "execution_count": 172,
     "metadata": {},
     "output_type": "execute_result"
    }
   ],
   "source": [
    "pd.crosstab(pred.target, pred.pred_outcome)"
   ]
  },
  {
   "cell_type": "code",
   "execution_count": 173,
   "metadata": {},
   "outputs": [
    {
     "data": {
      "text/plain": [
       "0.5757575757575758"
      ]
     },
     "execution_count": 173,
     "metadata": {},
     "output_type": "execute_result"
    }
   ],
   "source": [
    "#sensitivity \n",
    "114/(114+84)"
   ]
  },
  {
   "cell_type": "code",
   "execution_count": 174,
   "metadata": {},
   "outputs": [
    {
     "data": {
      "text/plain": [
       "0.7642814191220686"
      ]
     },
     "execution_count": 174,
     "metadata": {},
     "output_type": "execute_result"
    }
   ],
   "source": [
    "#sepcificty\n",
    "1271/(1271+392)"
   ]
  },
  {
   "cell_type": "code",
   "execution_count": 175,
   "metadata": {},
   "outputs": [
    {
     "data": {
      "text/plain": [
       "0.7442235357334767"
      ]
     },
     "execution_count": 175,
     "metadata": {},
     "output_type": "execute_result"
    }
   ],
   "source": [
    "#accuracy - test\n",
    "(1271+114)/(1271+114+392+84)"
   ]
  },
  {
   "cell_type": "code",
   "execution_count": null,
   "metadata": {},
   "outputs": [],
   "source": []
  }
 ],
 "metadata": {
  "kernelspec": {
   "display_name": "Python 3",
   "language": "python",
   "name": "python3"
  },
  "language_info": {
   "codemirror_mode": {
    "name": "ipython",
    "version": 3
   },
   "file_extension": ".py",
   "mimetype": "text/x-python",
   "name": "python",
   "nbconvert_exporter": "python",
   "pygments_lexer": "ipython3",
   "version": "3.6.4"
  }
 },
 "nbformat": 4,
 "nbformat_minor": 1
}
