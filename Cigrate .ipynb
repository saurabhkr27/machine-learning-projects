{
 "cells": [
  {
   "cell_type": "code",
   "execution_count": 1,
   "metadata": {},
   "outputs": [],
   "source": [
    "import pandas as pd\n",
    "import numpy as np"
   ]
  },
  {
   "cell_type": "code",
   "execution_count": 2,
   "metadata": {},
   "outputs": [
    {
     "data": {
      "text/html": [
       "<div>\n",
       "<style scoped>\n",
       "    .dataframe tbody tr th:only-of-type {\n",
       "        vertical-align: middle;\n",
       "    }\n",
       "\n",
       "    .dataframe tbody tr th {\n",
       "        vertical-align: top;\n",
       "    }\n",
       "\n",
       "    .dataframe thead th {\n",
       "        text-align: right;\n",
       "    }\n",
       "</style>\n",
       "<table border=\"1\" class=\"dataframe\">\n",
       "  <thead>\n",
       "    <tr style=\"text-align: right;\">\n",
       "      <th></th>\n",
       "      <th>State</th>\n",
       "      <th>Age</th>\n",
       "      <th>HS</th>\n",
       "      <th>Income</th>\n",
       "      <th>Black</th>\n",
       "      <th>Female</th>\n",
       "      <th>Price</th>\n",
       "      <th>Sales</th>\n",
       "    </tr>\n",
       "  </thead>\n",
       "  <tbody>\n",
       "    <tr>\n",
       "      <th>0</th>\n",
       "      <td>AL</td>\n",
       "      <td>27.0</td>\n",
       "      <td>41.3</td>\n",
       "      <td>2948</td>\n",
       "      <td>26.2</td>\n",
       "      <td>51.7</td>\n",
       "      <td>42.7</td>\n",
       "      <td>89.8</td>\n",
       "    </tr>\n",
       "    <tr>\n",
       "      <th>1</th>\n",
       "      <td>AK</td>\n",
       "      <td>22.9</td>\n",
       "      <td>66.1</td>\n",
       "      <td>4644</td>\n",
       "      <td>3.0</td>\n",
       "      <td>45.7</td>\n",
       "      <td>41.8</td>\n",
       "      <td>121.3</td>\n",
       "    </tr>\n",
       "    <tr>\n",
       "      <th>2</th>\n",
       "      <td>Az</td>\n",
       "      <td>26.3</td>\n",
       "      <td>58.1</td>\n",
       "      <td>3665</td>\n",
       "      <td>3.0</td>\n",
       "      <td>50.8</td>\n",
       "      <td>38.5</td>\n",
       "      <td>115.2</td>\n",
       "    </tr>\n",
       "    <tr>\n",
       "      <th>3</th>\n",
       "      <td>AR</td>\n",
       "      <td>29.1</td>\n",
       "      <td>39.9</td>\n",
       "      <td>2878</td>\n",
       "      <td>18.3</td>\n",
       "      <td>51.5</td>\n",
       "      <td>38.8</td>\n",
       "      <td>100.3</td>\n",
       "    </tr>\n",
       "    <tr>\n",
       "      <th>4</th>\n",
       "      <td>CA</td>\n",
       "      <td>28.1</td>\n",
       "      <td>62.6</td>\n",
       "      <td>4493</td>\n",
       "      <td>7.0</td>\n",
       "      <td>50.8</td>\n",
       "      <td>39.7</td>\n",
       "      <td>123.0</td>\n",
       "    </tr>\n",
       "  </tbody>\n",
       "</table>\n",
       "</div>"
      ],
      "text/plain": [
       "  State   Age    HS  Income  Black  Female  Price  Sales\n",
       "0    AL  27.0  41.3    2948   26.2    51.7   42.7   89.8\n",
       "1    AK  22.9  66.1    4644    3.0    45.7   41.8  121.3\n",
       "2    Az  26.3  58.1    3665    3.0    50.8   38.5  115.2\n",
       "3    AR  29.1  39.9    2878   18.3    51.5   38.8  100.3\n",
       "4    CA  28.1  62.6    4493    7.0    50.8   39.7  123.0"
      ]
     },
     "execution_count": 2,
     "metadata": {},
     "output_type": "execute_result"
    }
   ],
   "source": [
    "cig=pd.read_csv('C:\\\\All files\\\\CA\\\\Statistics\\\\PM_4_6_2018\\\\Case Studies\\\\Module 2\\\\Regression\\\\Case Studies\\\\Regression4\\\\Reg4.csv')\n",
    "cig.head()"
   ]
  },
  {
   "cell_type": "code",
   "execution_count": 15,
   "metadata": {},
   "outputs": [
    {
     "data": {
      "text/plain": [
       "State      object\n",
       "Age       float64\n",
       "HS        float64\n",
       "Income      int64\n",
       "Black     float64\n",
       "Female    float64\n",
       "Price     float64\n",
       "Sales     float64\n",
       "dtype: object"
      ]
     },
     "execution_count": 15,
     "metadata": {},
     "output_type": "execute_result"
    }
   ],
   "source": [
    "cig.dtypes"
   ]
  },
  {
   "cell_type": "code",
   "execution_count": 16,
   "metadata": {},
   "outputs": [
    {
     "data": {
      "text/html": [
       "<div>\n",
       "<style scoped>\n",
       "    .dataframe tbody tr th:only-of-type {\n",
       "        vertical-align: middle;\n",
       "    }\n",
       "\n",
       "    .dataframe tbody tr th {\n",
       "        vertical-align: top;\n",
       "    }\n",
       "\n",
       "    .dataframe thead th {\n",
       "        text-align: right;\n",
       "    }\n",
       "</style>\n",
       "<table border=\"1\" class=\"dataframe\">\n",
       "  <thead>\n",
       "    <tr style=\"text-align: right;\">\n",
       "      <th></th>\n",
       "      <th>Age</th>\n",
       "      <th>HS</th>\n",
       "      <th>Income</th>\n",
       "      <th>Black</th>\n",
       "      <th>Female</th>\n",
       "      <th>Price</th>\n",
       "      <th>Sales</th>\n",
       "    </tr>\n",
       "  </thead>\n",
       "  <tbody>\n",
       "    <tr>\n",
       "      <th>count</th>\n",
       "      <td>51.000000</td>\n",
       "      <td>51.000000</td>\n",
       "      <td>51.000000</td>\n",
       "      <td>51.000000</td>\n",
       "      <td>51.000000</td>\n",
       "      <td>51.000000</td>\n",
       "      <td>51.000000</td>\n",
       "    </tr>\n",
       "    <tr>\n",
       "      <th>mean</th>\n",
       "      <td>27.466667</td>\n",
       "      <td>53.125490</td>\n",
       "      <td>3763.705882</td>\n",
       "      <td>9.874510</td>\n",
       "      <td>50.950980</td>\n",
       "      <td>38.062745</td>\n",
       "      <td>121.529412</td>\n",
       "    </tr>\n",
       "    <tr>\n",
       "      <th>std</th>\n",
       "      <td>1.876983</td>\n",
       "      <td>7.982377</td>\n",
       "      <td>594.715639</td>\n",
       "      <td>12.702596</td>\n",
       "      <td>1.111463</td>\n",
       "      <td>4.110132</td>\n",
       "      <td>32.016498</td>\n",
       "    </tr>\n",
       "    <tr>\n",
       "      <th>min</th>\n",
       "      <td>22.900000</td>\n",
       "      <td>37.800000</td>\n",
       "      <td>2626.000000</td>\n",
       "      <td>0.200000</td>\n",
       "      <td>45.700000</td>\n",
       "      <td>29.000000</td>\n",
       "      <td>65.500000</td>\n",
       "    </tr>\n",
       "    <tr>\n",
       "      <th>25%</th>\n",
       "      <td>26.400000</td>\n",
       "      <td>48.300000</td>\n",
       "      <td>3271.000000</td>\n",
       "      <td>1.250000</td>\n",
       "      <td>50.750000</td>\n",
       "      <td>34.700000</td>\n",
       "      <td>105.350000</td>\n",
       "    </tr>\n",
       "    <tr>\n",
       "      <th>50%</th>\n",
       "      <td>27.400000</td>\n",
       "      <td>53.300000</td>\n",
       "      <td>3751.000000</td>\n",
       "      <td>5.700000</td>\n",
       "      <td>51.100000</td>\n",
       "      <td>38.900000</td>\n",
       "      <td>119.000000</td>\n",
       "    </tr>\n",
       "    <tr>\n",
       "      <th>75%</th>\n",
       "      <td>28.750000</td>\n",
       "      <td>59.100000</td>\n",
       "      <td>4116.500000</td>\n",
       "      <td>13.550000</td>\n",
       "      <td>51.500000</td>\n",
       "      <td>41.350000</td>\n",
       "      <td>124.550000</td>\n",
       "    </tr>\n",
       "    <tr>\n",
       "      <th>max</th>\n",
       "      <td>32.300000</td>\n",
       "      <td>67.300000</td>\n",
       "      <td>5079.000000</td>\n",
       "      <td>71.100000</td>\n",
       "      <td>53.500000</td>\n",
       "      <td>45.500000</td>\n",
       "      <td>265.100000</td>\n",
       "    </tr>\n",
       "  </tbody>\n",
       "</table>\n",
       "</div>"
      ],
      "text/plain": [
       "             Age         HS       Income      Black     Female      Price  \\\n",
       "count  51.000000  51.000000    51.000000  51.000000  51.000000  51.000000   \n",
       "mean   27.466667  53.125490  3763.705882   9.874510  50.950980  38.062745   \n",
       "std     1.876983   7.982377   594.715639  12.702596   1.111463   4.110132   \n",
       "min    22.900000  37.800000  2626.000000   0.200000  45.700000  29.000000   \n",
       "25%    26.400000  48.300000  3271.000000   1.250000  50.750000  34.700000   \n",
       "50%    27.400000  53.300000  3751.000000   5.700000  51.100000  38.900000   \n",
       "75%    28.750000  59.100000  4116.500000  13.550000  51.500000  41.350000   \n",
       "max    32.300000  67.300000  5079.000000  71.100000  53.500000  45.500000   \n",
       "\n",
       "            Sales  \n",
       "count   51.000000  \n",
       "mean   121.529412  \n",
       "std     32.016498  \n",
       "min     65.500000  \n",
       "25%    105.350000  \n",
       "50%    119.000000  \n",
       "75%    124.550000  \n",
       "max    265.100000  "
      ]
     },
     "execution_count": 16,
     "metadata": {},
     "output_type": "execute_result"
    }
   ],
   "source": [
    "cig.describe() # Univariate analysis"
   ]
  },
  {
   "cell_type": "code",
   "execution_count": 23,
   "metadata": {},
   "outputs": [
    {
     "data": {
      "text/plain": [
       "Index(['State', 'Age', 'HS', 'Income', 'Black', 'Female', 'Price', 'Sales'], dtype='object')"
      ]
     },
     "execution_count": 23,
     "metadata": {},
     "output_type": "execute_result"
    }
   ],
   "source": [
    "cig.columns"
   ]
  },
  {
   "cell_type": "code",
   "execution_count": 27,
   "metadata": {},
   "outputs": [
    {
     "data": {
      "text/plain": [
       "State     0\n",
       "Age       0\n",
       "HS        0\n",
       "Income    0\n",
       "Black     0\n",
       "Female    0\n",
       "Price     0\n",
       "Sales     0\n",
       "dtype: int64"
      ]
     },
     "execution_count": 27,
     "metadata": {},
     "output_type": "execute_result"
    }
   ],
   "source": [
    "cig.isnull().sum() # Univariate analysis , we have to to this before Bivariate Analysis"
   ]
  },
  {
   "cell_type": "code",
   "execution_count": 28,
   "metadata": {},
   "outputs": [
    {
     "data": {
      "text/html": [
       "<div>\n",
       "<style scoped>\n",
       "    .dataframe tbody tr th:only-of-type {\n",
       "        vertical-align: middle;\n",
       "    }\n",
       "\n",
       "    .dataframe tbody tr th {\n",
       "        vertical-align: top;\n",
       "    }\n",
       "\n",
       "    .dataframe thead th {\n",
       "        text-align: right;\n",
       "    }\n",
       "</style>\n",
       "<table border=\"1\" class=\"dataframe\">\n",
       "  <thead>\n",
       "    <tr style=\"text-align: right;\">\n",
       "      <th></th>\n",
       "      <th>Age</th>\n",
       "      <th>HS</th>\n",
       "      <th>Income</th>\n",
       "      <th>Black</th>\n",
       "      <th>Female</th>\n",
       "      <th>Price</th>\n",
       "      <th>Sales</th>\n",
       "    </tr>\n",
       "  </thead>\n",
       "  <tbody>\n",
       "    <tr>\n",
       "      <th>Age</th>\n",
       "      <td>1.000000</td>\n",
       "      <td>-0.097761</td>\n",
       "      <td>0.256581</td>\n",
       "      <td>-0.040326</td>\n",
       "      <td>0.553032</td>\n",
       "      <td>0.243839</td>\n",
       "      <td>0.226830</td>\n",
       "    </tr>\n",
       "    <tr>\n",
       "      <th>HS</th>\n",
       "      <td>-0.097761</td>\n",
       "      <td>1.000000</td>\n",
       "      <td>0.530641</td>\n",
       "      <td>-0.482835</td>\n",
       "      <td>-0.412948</td>\n",
       "      <td>0.055747</td>\n",
       "      <td>0.066885</td>\n",
       "    </tr>\n",
       "    <tr>\n",
       "      <th>Income</th>\n",
       "      <td>0.256581</td>\n",
       "      <td>0.530641</td>\n",
       "      <td>1.000000</td>\n",
       "      <td>0.027566</td>\n",
       "      <td>-0.068827</td>\n",
       "      <td>0.214502</td>\n",
       "      <td>0.326633</td>\n",
       "    </tr>\n",
       "    <tr>\n",
       "      <th>Black</th>\n",
       "      <td>-0.040326</td>\n",
       "      <td>-0.482835</td>\n",
       "      <td>0.027566</td>\n",
       "      <td>1.000000</td>\n",
       "      <td>0.449406</td>\n",
       "      <td>-0.129045</td>\n",
       "      <td>0.179272</td>\n",
       "    </tr>\n",
       "    <tr>\n",
       "      <th>Female</th>\n",
       "      <td>0.553032</td>\n",
       "      <td>-0.412948</td>\n",
       "      <td>-0.068827</td>\n",
       "      <td>0.449406</td>\n",
       "      <td>1.000000</td>\n",
       "      <td>0.019819</td>\n",
       "      <td>0.146417</td>\n",
       "    </tr>\n",
       "    <tr>\n",
       "      <th>Price</th>\n",
       "      <td>0.243839</td>\n",
       "      <td>0.055747</td>\n",
       "      <td>0.214502</td>\n",
       "      <td>-0.129045</td>\n",
       "      <td>0.019819</td>\n",
       "      <td>1.000000</td>\n",
       "      <td>-0.300820</td>\n",
       "    </tr>\n",
       "    <tr>\n",
       "      <th>Sales</th>\n",
       "      <td>0.226830</td>\n",
       "      <td>0.066885</td>\n",
       "      <td>0.326633</td>\n",
       "      <td>0.179272</td>\n",
       "      <td>0.146417</td>\n",
       "      <td>-0.300820</td>\n",
       "      <td>1.000000</td>\n",
       "    </tr>\n",
       "  </tbody>\n",
       "</table>\n",
       "</div>"
      ],
      "text/plain": [
       "             Age        HS    Income     Black    Female     Price     Sales\n",
       "Age     1.000000 -0.097761  0.256581 -0.040326  0.553032  0.243839  0.226830\n",
       "HS     -0.097761  1.000000  0.530641 -0.482835 -0.412948  0.055747  0.066885\n",
       "Income  0.256581  0.530641  1.000000  0.027566 -0.068827  0.214502  0.326633\n",
       "Black  -0.040326 -0.482835  0.027566  1.000000  0.449406 -0.129045  0.179272\n",
       "Female  0.553032 -0.412948 -0.068827  0.449406  1.000000  0.019819  0.146417\n",
       "Price   0.243839  0.055747  0.214502 -0.129045  0.019819  1.000000 -0.300820\n",
       "Sales   0.226830  0.066885  0.326633  0.179272  0.146417 -0.300820  1.000000"
      ]
     },
     "execution_count": 28,
     "metadata": {},
     "output_type": "execute_result"
    }
   ],
   "source": [
    "cig.corr() # Bivariate Analysis"
   ]
  },
  {
   "cell_type": "code",
   "execution_count": 29,
   "metadata": {},
   "outputs": [],
   "source": [
    "import statsmodels.formula.api as smf"
   ]
  },
  {
   "cell_type": "code",
   "execution_count": 30,
   "metadata": {},
   "outputs": [],
   "source": [
    "ln=smf.ols('Sales~Age+HS+Income+Black+Female+Price',data=cig).fit()"
   ]
  },
  {
   "cell_type": "code",
   "execution_count": 6,
   "metadata": {},
   "outputs": [
    {
     "data": {
      "text/html": [
       "<table class=\"simpletable\">\n",
       "<caption>OLS Regression Results</caption>\n",
       "<tr>\n",
       "  <th>Dep. Variable:</th>          <td>Sales</td>      <th>  R-squared:         </th> <td>   0.319</td>\n",
       "</tr>\n",
       "<tr>\n",
       "  <th>Model:</th>                   <td>OLS</td>       <th>  Adj. R-squared:    </th> <td>   0.226</td>\n",
       "</tr>\n",
       "<tr>\n",
       "  <th>Method:</th>             <td>Least Squares</td>  <th>  F-statistic:       </th> <td>   3.438</td>\n",
       "</tr>\n",
       "<tr>\n",
       "  <th>Date:</th>             <td>Sat, 27 Apr 2019</td> <th>  Prob (F-statistic):</th>  <td>0.00717</td>\n",
       "</tr>\n",
       "<tr>\n",
       "  <th>Time:</th>                 <td>11:48:32</td>     <th>  Log-Likelihood:    </th> <td> -238.84</td>\n",
       "</tr>\n",
       "<tr>\n",
       "  <th>No. Observations:</th>      <td>    51</td>      <th>  AIC:               </th> <td>   491.7</td>\n",
       "</tr>\n",
       "<tr>\n",
       "  <th>Df Residuals:</th>          <td>    44</td>      <th>  BIC:               </th> <td>   505.2</td>\n",
       "</tr>\n",
       "<tr>\n",
       "  <th>Df Model:</th>              <td>     6</td>      <th>                     </th>     <td> </td>   \n",
       "</tr>\n",
       "<tr>\n",
       "  <th>Covariance Type:</th>      <td>nonrobust</td>    <th>                     </th>     <td> </td>   \n",
       "</tr>\n",
       "</table>\n",
       "<table class=\"simpletable\">\n",
       "<tr>\n",
       "      <td></td>         <th>coef</th>     <th>std err</th>      <th>t</th>      <th>P>|t|</th>  <th>[0.025</th>    <th>0.975]</th>  \n",
       "</tr>\n",
       "<tr>\n",
       "  <th>Intercept</th> <td>   99.9793</td> <td>  246.288</td> <td>    0.406</td> <td> 0.687</td> <td> -396.381</td> <td>  596.339</td>\n",
       "</tr>\n",
       "<tr>\n",
       "  <th>Age</th>       <td>    4.3639</td> <td>    3.215</td> <td>    1.357</td> <td> 0.182</td> <td>   -2.115</td> <td>   10.843</td>\n",
       "</tr>\n",
       "<tr>\n",
       "  <th>HS</th>        <td>   -0.1123</td> <td>    0.796</td> <td>   -0.141</td> <td> 0.888</td> <td>   -1.716</td> <td>    1.491</td>\n",
       "</tr>\n",
       "<tr>\n",
       "  <th>Income</th>    <td>    0.0194</td> <td>    0.010</td> <td>    1.926</td> <td> 0.061</td> <td>   -0.001</td> <td>    0.040</td>\n",
       "</tr>\n",
       "<tr>\n",
       "  <th>Black</th>     <td>    0.3148</td> <td>    0.475</td> <td>    0.662</td> <td> 0.511</td> <td>   -0.643</td> <td>    1.272</td>\n",
       "</tr>\n",
       "<tr>\n",
       "  <th>Female</th>    <td>   -0.8511</td> <td>    5.565</td> <td>   -0.153</td> <td> 0.879</td> <td>  -12.067</td> <td>   10.365</td>\n",
       "</tr>\n",
       "<tr>\n",
       "  <th>Price</th>     <td>   -3.2901</td> <td>    1.030</td> <td>   -3.195</td> <td> 0.003</td> <td>   -5.366</td> <td>   -1.215</td>\n",
       "</tr>\n",
       "</table>\n",
       "<table class=\"simpletable\">\n",
       "<tr>\n",
       "  <th>Omnibus:</th>       <td>55.516</td> <th>  Durbin-Watson:     </th> <td>   1.656</td>\n",
       "</tr>\n",
       "<tr>\n",
       "  <th>Prob(Omnibus):</th> <td> 0.000</td> <th>  Jarque-Bera (JB):  </th> <td> 343.546</td>\n",
       "</tr>\n",
       "<tr>\n",
       "  <th>Skew:</th>          <td> 2.806</td> <th>  Prob(JB):          </th> <td>2.51e-75</td>\n",
       "</tr>\n",
       "<tr>\n",
       "  <th>Kurtosis:</th>      <td>14.409</td> <th>  Cond. No.          </th> <td>2.38e+05</td>\n",
       "</tr>\n",
       "</table><br/><br/>Warnings:<br/>[1] Standard Errors assume that the covariance matrix of the errors is correctly specified.<br/>[2] The condition number is large, 2.38e+05. This might indicate that there are<br/>strong multicollinearity or other numerical problems."
      ],
      "text/plain": [
       "<class 'statsmodels.iolib.summary.Summary'>\n",
       "\"\"\"\n",
       "                            OLS Regression Results                            \n",
       "==============================================================================\n",
       "Dep. Variable:                  Sales   R-squared:                       0.319\n",
       "Model:                            OLS   Adj. R-squared:                  0.226\n",
       "Method:                 Least Squares   F-statistic:                     3.438\n",
       "Date:                Sat, 27 Apr 2019   Prob (F-statistic):            0.00717\n",
       "Time:                        11:48:32   Log-Likelihood:                -238.84\n",
       "No. Observations:                  51   AIC:                             491.7\n",
       "Df Residuals:                      44   BIC:                             505.2\n",
       "Df Model:                           6                                         \n",
       "Covariance Type:            nonrobust                                         \n",
       "==============================================================================\n",
       "                 coef    std err          t      P>|t|      [0.025      0.975]\n",
       "------------------------------------------------------------------------------\n",
       "Intercept     99.9793    246.288      0.406      0.687    -396.381     596.339\n",
       "Age            4.3639      3.215      1.357      0.182      -2.115      10.843\n",
       "HS            -0.1123      0.796     -0.141      0.888      -1.716       1.491\n",
       "Income         0.0194      0.010      1.926      0.061      -0.001       0.040\n",
       "Black          0.3148      0.475      0.662      0.511      -0.643       1.272\n",
       "Female        -0.8511      5.565     -0.153      0.879     -12.067      10.365\n",
       "Price         -3.2901      1.030     -3.195      0.003      -5.366      -1.215\n",
       "==============================================================================\n",
       "Omnibus:                       55.516   Durbin-Watson:                   1.656\n",
       "Prob(Omnibus):                  0.000   Jarque-Bera (JB):              343.546\n",
       "Skew:                           2.806   Prob(JB):                     2.51e-75\n",
       "Kurtosis:                      14.409   Cond. No.                     2.38e+05\n",
       "==============================================================================\n",
       "\n",
       "Warnings:\n",
       "[1] Standard Errors assume that the covariance matrix of the errors is correctly specified.\n",
       "[2] The condition number is large, 2.38e+05. This might indicate that there are\n",
       "strong multicollinearity or other numerical problems.\n",
       "\"\"\""
      ]
     },
     "execution_count": 6,
     "metadata": {},
     "output_type": "execute_result"
    }
   ],
   "source": [
    "ln.summary() "
   ]
  },
  {
   "cell_type": "markdown",
   "metadata": {},
   "source": [
    "# Price is Significant and Income is near to 0.05 Hence considering that too\n",
    "\n",
    "Step 1\tCheck Variable singnificance\tAnova test\n",
    "Step 3\tInterpritation\tIf Price is -3.2901 then avg Sales is 99.9793  \n",
    "Step 4\tSlop\tIf Price inc by 1 , Sales dec by -3.2901\n",
    "(In above we have cosidered for Price, like this we can check for all other vaiables too)\n",
    "\n",
    "Validation of Model\n",
    "R squre is 0.319, it should by 1 for very good model, here it is not good\n",
    "Ajd R squre is 0.226 , same as above , hence not good\n",
    "Anova = Fvalue,F-statistic: 3.438, Pvalue,Prob (F-statistic):0.00717 , P value is less than 0.05 hence accepting Alternate Hypotisis that is we are rejecting null hypotisi,So Atleast one of the indep vairable is significant.\n",
    "RMSE = AIC: 491.7 , Use to comparie the 2 models , now it not required as we are not checking with 2 models.\n",
    "\n"
   ]
  },
  {
   "cell_type": "code",
   "execution_count": null,
   "metadata": {},
   "outputs": [],
   "source": [
    "# \n",
    "Now we check all the 4 Ols assumptions\n",
    "\n",
    "1. Error Shd follow Normal Distribution\n",
    "2.Error shd not follow Heterosedasity\n",
    "3. No Multicollinerality among Ind Variable\n",
    "4. No Serial/Auto Correlation in Error."
   ]
  },
  {
   "cell_type": "code",
   "execution_count": 34,
   "metadata": {},
   "outputs": [
    {
     "data": {
      "image/png": "[encoded data removed]",
      "text/plain": [
       "<Figure size 432x288 with 1 Axes>"
      ]
     },
     "metadata": {
      "needs_background": "light"
     },
     "output_type": "display_data"
    }
   ],
   "source": [
    "1. Error Shd follow Normal Distribution\n",
    "\n",
    "import matplotlib.pyplot as plt\n",
    "plt.figure()\n",
    "ln.resid.plot.density()\n",
    "plt.show()\n",
    "\n",
    "\n",
    "# this is we are checkign for normal distribution\n",
    "Interpritation - It is satisying this Normaldistirbution , as it is almost bellshape.\n",
    "That is, the error is following approximate Normaldistribution"
   ]
  },
  {
   "cell_type": "code",
   "execution_count": null,
   "metadata": {},
   "outputs": [],
   "source": [
    "2.Error shd not follow Heterosedasity\n",
    "This we can find out by Residual Plot - It is a catter plot btw predicted(Fittedvalue) and Error/Residual"
   ]
  },
  {
   "cell_type": "code",
   "execution_count": 36,
   "metadata": {},
   "outputs": [
    {
     "data": {
      "text/plain": [
       "<matplotlib.collections.PathCollection at 0x97ef210>"
      ]
     },
     "execution_count": 36,
     "metadata": {},
     "output_type": "execute_result"
    },
    {
     "data": {
      "image/png": "[encoded data removed]",
      "text/plain": [
       "<Figure size 432x288 with 1 Axes>"
      ]
     },
     "metadata": {
      "needs_background": "light"
     },
     "output_type": "display_data"
    }
   ],
   "source": [
    "plt.scatter(ln.resid,ln.fittedvalues)"
   ]
  },
  {
   "cell_type": "code",
   "execution_count": null,
   "metadata": {},
   "outputs": [],
   "source": [
    "# by the above graph we can see it is homoscedasity because there is no any pattern in error distribution.\n",
    "This graph also helps to find Outlayer "
   ]
  },
  {
   "cell_type": "code",
   "execution_count": null,
   "metadata": {},
   "outputs": [],
   "source": [
    "# 3. No Multicollinerality among Ind Variable\n",
    "There is no package for it , we need to write the formula \n",
    "we can check by VIF\n",
    "If VIF is less then 5 , then there is no Multi"
   ]
  },
  {
   "cell_type": "code",
   "execution_count": 38,
   "metadata": {},
   "outputs": [],
   "source": [
    "from patsy import dmatrices\n",
    "import statsmodels.api as sm\n",
    "from statsmodels.stats.outliers_influence import variance_inflation_factor"
   ]
  },
  {
   "cell_type": "code",
   "execution_count": 51,
   "metadata": {},
   "outputs": [],
   "source": [
    "import statsmodels.formula.api as sm\n",
    "def vif_cal(input_data,dependent_col):\n",
    "    x_vars=input_data.drop([dependent_col],axis=1)\n",
    "    xvar_names=x_vars.columns\n",
    "    for i in range(0,xvar_names.shape[0]):\n",
    "        y=x_vars[xvar_names[i]]\n",
    "        x=x_vars[xvar_names.drop(xvar_names[i])]\n",
    "        rsq=sm.ols(formula=\"y~x\",data=x_vars).fit().rsquared\n",
    "        vif=round(1/(1-rsq),2)\n",
    "        print(xvar_names[i],'VIF=',vif)"
   ]
  },
  {
   "cell_type": "code",
   "execution_count": 52,
   "metadata": {},
   "outputs": [
    {
     "name": "stdout",
     "output_type": "stream",
     "text": [
      "Age VIF= 2.3\n",
      "HS VIF= 2.54\n",
      "Income VIF= 2.27\n",
      "Black VIF= 2.3\n",
      "Female VIF= 2.41\n",
      "Price VIF= 1.13\n"
     ]
    }
   ],
   "source": [
    "vif_cal(input_data=cig,dependent_col='Sales')"
   ]
  },
  {
   "cell_type": "code",
   "execution_count": null,
   "metadata": {},
   "outputs": [],
   "source": [
    "# All the VIF value is less than 5 , hence there is no Multicollinarity exist in the above data "
   ]
  },
  {
   "cell_type": "code",
   "execution_count": 41,
   "metadata": {},
   "outputs": [],
   "source": [
    "del cig['State']"
   ]
  },
  {
   "cell_type": "code",
   "execution_count": 42,
   "metadata": {},
   "outputs": [
    {
     "data": {
      "text/plain": [
       "Index(['Age', 'HS', 'Income', 'Black', 'Female', 'Price', 'Sales'], dtype='object')"
      ]
     },
     "execution_count": 42,
     "metadata": {},
     "output_type": "execute_result"
    }
   ],
   "source": [
    "cig.columns"
   ]
  },
  {
   "cell_type": "code",
   "execution_count": 53,
   "metadata": {},
   "outputs": [],
   "source": [
    "from patsy import dmatrices\n",
    "import statsmodels.api as sm\n",
    "from statsmodels.stats.outliers_influence import variance_inflation_factor"
   ]
  },
  {
   "cell_type": "code",
   "execution_count": 54,
   "metadata": {},
   "outputs": [],
   "source": [
    "import statsmodels.formula.api as sm\n",
    "def vif_cal(input_data,dependent_col):\n",
    "    x_vars=input_data.drop([dependent_col],axis=1)\n",
    "    xvar_names=x_vars.columns\n",
    "    for i in range(0,xvar_names.shape[0]):\n",
    "        y=x_vars[xvar_names[i]]\n",
    "        x=x_vars[xvar_names.drop(xvar_names[i])]\n",
    "        rsq=sm.ols(formula=\"y~x\",data=x_vars).fit().rsquared\n",
    "        vif=round(1/(1-rsq),2)\n",
    "        print(xvar_names[i],'VIF=',vif)"
   ]
  },
  {
   "cell_type": "code",
   "execution_count": null,
   "metadata": {},
   "outputs": [],
   "source": [
    "# 4.No Serial/Auto/self Correlation in Errors\n",
    "\n",
    "DW result is there in summary of the model.\n",
    "Durbin-Watson: 1.656 ( around 1.5 to 2 we can consider) \n",
    "DW value shd be close to 2\n",
    "Hence we conclude that there is no Self/Auto/Serial correlation. "
   ]
  },
  {
   "cell_type": "code",
   "execution_count": 55,
   "metadata": {},
   "outputs": [
    {
     "name": "stdout",
     "output_type": "stream",
     "text": [
      "Age VIF= 2.3\n",
      "HS VIF= 2.54\n",
      "Income VIF= 2.27\n",
      "Black VIF= 2.3\n",
      "Female VIF= 2.41\n",
      "Price VIF= 1.13\n"
     ]
    }
   ],
   "source": [
    "vif_cal(input_data=cig,dependent_col='Sales')"
   ]
  },
  {
   "cell_type": "code",
   "execution_count": 7,
   "metadata": {},
   "outputs": [],
   "source": [
    "ln1=smf.ols('Sales~Price+Income',data=cig).fit()"
   ]
  },
  {
   "cell_type": "code",
   "execution_count": 8,
   "metadata": {},
   "outputs": [
    {
     "data": {
      "text/html": [
       "<table class=\"simpletable\">\n",
       "<caption>OLS Regression Results</caption>\n",
       "<tr>\n",
       "  <th>Dep. Variable:</th>          <td>Sales</td>      <th>  R-squared:         </th> <td>   0.251</td>\n",
       "</tr>\n",
       "<tr>\n",
       "  <th>Model:</th>                   <td>OLS</td>       <th>  Adj. R-squared:    </th> <td>   0.220</td>\n",
       "</tr>\n",
       "<tr>\n",
       "  <th>Method:</th>             <td>Least Squares</td>  <th>  F-statistic:       </th> <td>   8.038</td>\n",
       "</tr>\n",
       "<tr>\n",
       "  <th>Date:</th>             <td>Sat, 27 Apr 2019</td> <th>  Prob (F-statistic):</th> <td>0.000976</td>\n",
       "</tr>\n",
       "<tr>\n",
       "  <th>Time:</th>                 <td>11:48:32</td>     <th>  Log-Likelihood:    </th> <td> -241.27</td>\n",
       "</tr>\n",
       "<tr>\n",
       "  <th>No. Observations:</th>      <td>    51</td>      <th>  AIC:               </th> <td>   488.5</td>\n",
       "</tr>\n",
       "<tr>\n",
       "  <th>Df Residuals:</th>          <td>    48</td>      <th>  BIC:               </th> <td>   494.3</td>\n",
       "</tr>\n",
       "<tr>\n",
       "  <th>Df Model:</th>              <td>     2</td>      <th>                     </th>     <td> </td>   \n",
       "</tr>\n",
       "<tr>\n",
       "  <th>Covariance Type:</th>      <td>nonrobust</td>    <th>                     </th>     <td> </td>   \n",
       "</tr>\n",
       "</table>\n",
       "<table class=\"simpletable\">\n",
       "<tr>\n",
       "      <td></td>         <th>coef</th>     <th>std err</th>      <th>t</th>      <th>P>|t|</th>  <th>[0.025</th>    <th>0.975]</th>  \n",
       "</tr>\n",
       "<tr>\n",
       "  <th>Intercept</th> <td>  153.7193</td> <td>   41.278</td> <td>    3.724</td> <td> 0.001</td> <td>   70.725</td> <td>  236.713</td>\n",
       "</tr>\n",
       "<tr>\n",
       "  <th>Price</th>     <td>   -3.0284</td> <td>    0.996</td> <td>   -3.040</td> <td> 0.004</td> <td>   -5.032</td> <td>   -1.025</td>\n",
       "</tr>\n",
       "<tr>\n",
       "  <th>Income</th>    <td>    0.0221</td> <td>    0.007</td> <td>    3.206</td> <td> 0.002</td> <td>    0.008</td> <td>    0.036</td>\n",
       "</tr>\n",
       "</table>\n",
       "<table class=\"simpletable\">\n",
       "<tr>\n",
       "  <th>Omnibus:</th>       <td>45.170</td> <th>  Durbin-Watson:     </th> <td>   1.550</td>\n",
       "</tr>\n",
       "<tr>\n",
       "  <th>Prob(Omnibus):</th> <td> 0.000</td> <th>  Jarque-Bera (JB):  </th> <td> 222.683</td>\n",
       "</tr>\n",
       "<tr>\n",
       "  <th>Skew:</th>          <td> 2.208</td> <th>  Prob(JB):          </th> <td>4.42e-49</td>\n",
       "</tr>\n",
       "<tr>\n",
       "  <th>Kurtosis:</th>      <td>12.235</td> <th>  Cond. No.          </th> <td>3.97e+04</td>\n",
       "</tr>\n",
       "</table><br/><br/>Warnings:<br/>[1] Standard Errors assume that the covariance matrix of the errors is correctly specified.<br/>[2] The condition number is large, 3.97e+04. This might indicate that there are<br/>strong multicollinearity or other numerical problems."
      ],
      "text/plain": [
       "<class 'statsmodels.iolib.summary.Summary'>\n",
       "\"\"\"\n",
       "                            OLS Regression Results                            \n",
       "==============================================================================\n",
       "Dep. Variable:                  Sales   R-squared:                       0.251\n",
       "Model:                            OLS   Adj. R-squared:                  0.220\n",
       "Method:                 Least Squares   F-statistic:                     8.038\n",
       "Date:                Sat, 27 Apr 2019   Prob (F-statistic):           0.000976\n",
       "Time:                        11:48:32   Log-Likelihood:                -241.27\n",
       "No. Observations:                  51   AIC:                             488.5\n",
       "Df Residuals:                      48   BIC:                             494.3\n",
       "Df Model:                           2                                         \n",
       "Covariance Type:            nonrobust                                         \n",
       "==============================================================================\n",
       "                 coef    std err          t      P>|t|      [0.025      0.975]\n",
       "------------------------------------------------------------------------------\n",
       "Intercept    153.7193     41.278      3.724      0.001      70.725     236.713\n",
       "Price         -3.0284      0.996     -3.040      0.004      -5.032      -1.025\n",
       "Income         0.0221      0.007      3.206      0.002       0.008       0.036\n",
       "==============================================================================\n",
       "Omnibus:                       45.170   Durbin-Watson:                   1.550\n",
       "Prob(Omnibus):                  0.000   Jarque-Bera (JB):              222.683\n",
       "Skew:                           2.208   Prob(JB):                     4.42e-49\n",
       "Kurtosis:                      12.235   Cond. No.                     3.97e+04\n",
       "==============================================================================\n",
       "\n",
       "Warnings:\n",
       "[1] Standard Errors assume that the covariance matrix of the errors is correctly specified.\n",
       "[2] The condition number is large, 3.97e+04. This might indicate that there are\n",
       "strong multicollinearity or other numerical problems.\n",
       "\"\"\""
      ]
     },
     "execution_count": 8,
     "metadata": {},
     "output_type": "execute_result"
    }
   ],
   "source": [
    "ln1.summary()"
   ]
  },
  {
   "cell_type": "code",
   "execution_count": 9,
   "metadata": {},
   "outputs": [],
   "source": [
    "# Sales=153.71-3.02*Prixce+0.02*Income"
   ]
  },
  {
   "cell_type": "code",
   "execution_count": 10,
   "metadata": {},
   "outputs": [],
   "source": [
    "import matplotlib.pyplot as plt"
   ]
  },
  {
   "cell_type": "code",
   "execution_count": 11,
   "metadata": {},
   "outputs": [
    {
     "data": {
      "text/plain": [
       "(array([ 4.,  2.,  2.,  6.,  4.,  7., 11., 10.,  2.,  3.]),\n",
       " array([29.  , 30.65, 32.3 , 33.95, 35.6 , 37.25, 38.9 , 40.55, 42.2 ,\n",
       "        43.85, 45.5 ]),\n",
       " <a list of 10 Patch objects>)"
      ]
     },
     "execution_count": 11,
     "metadata": {},
     "output_type": "execute_result"
    },
    {
     "data": {
      "image/png": "[encoded data removed]",
      "text/plain": [
       "<Figure size 432x288 with 1 Axes>"
      ]
     },
     "metadata": {
      "needs_background": "light"
     },
     "output_type": "display_data"
    }
   ],
   "source": [
    "plt.hist(cig.Price)"
   ]
  },
  {
   "cell_type": "code",
   "execution_count": 12,
   "metadata": {},
   "outputs": [
    {
     "data": {
      "text/plain": [
       "(array([ 1.,  8.,  7.,  4., 11.,  7.,  3.,  4.,  4.,  2.]),\n",
       " array([2626. , 2871.3, 3116.6, 3361.9, 3607.2, 3852.5, 4097.8, 4343.1,\n",
       "        4588.4, 4833.7, 5079. ]),\n",
       " <a list of 10 Patch objects>)"
      ]
     },
     "execution_count": 12,
     "metadata": {},
     "output_type": "execute_result"
    },
    {
     "data": {
      "image/png": "[encoded data removed]",
      "text/plain": [
       "<Figure size 432x288 with 1 Axes>"
      ]
     },
     "metadata": {
      "needs_background": "light"
     },
     "output_type": "display_data"
    }
   ],
   "source": [
    "plt.hist(cig.Income,color='g')"
   ]
  }
 ],
 "metadata": {
  "kernelspec": {
   "display_name": "Python 3",
   "language": "python",
   "name": "python3"
  },
  "language_info": {
   "codemirror_mode": {
    "name": "ipython",
    "version": 3
   },
   "file_extension": ".py",
   "mimetype": "text/x-python",
   "name": "python",
   "nbconvert_exporter": "python",
   "pygments_lexer": "ipython3",
   "version": "3.7.1"
  }
 },
 "nbformat": 4,
 "nbformat_minor": 2
}
